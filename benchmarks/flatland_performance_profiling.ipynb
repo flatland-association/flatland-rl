{
 "cells": [
  {
   "cell_type": "code",
   "execution_count": null,
   "id": "39b8dd2f-247b-499c-8324-0b750a5be310",
   "metadata": {},
   "outputs": [],
   "source": [
    "import runpy\n",
    "import sys\n",
    "from io import StringIO\n",
    "import time\n",
    "from IPython.display import IFrame\n",
    "\n",
    "import importlib_resources\n",
    "import pkg_resources\n",
    "from importlib_resources import path\n",
    "from pstats import Stats\n",
    "import pandas as pd\n",
    "import pstats\n",
    "import pandas as pd\n",
    "import seaborn as sns\n",
    "from matplotlib import pyplot as plt\n",
    "from benchmarks.benchmark_utils import swap_attr"
   ]
  },
  {
   "cell_type": "code",
   "execution_count": null,
   "id": "a53a61d1-6d69-4e33-bc79-157006bd232e",
   "metadata": {},
   "outputs": [],
   "source": [
    "%load_ext snakeviz"
   ]
  },
  {
   "cell_type": "markdown",
   "id": "6ca1ce82-79c2-48b5-8d81-df869f6bea3c",
   "metadata": {},
   "source": [
    "## Configuration"
   ]
  },
  {
   "cell_type": "code",
   "execution_count": null,
   "id": "f087ee77-cfa7-4837-aad7-aa7b545b23af",
   "metadata": {},
   "outputs": [],
   "source": [
    "NUM_RUNS = 25"
   ]
  },
  {
   "cell_type": "code",
   "execution_count": null,
   "id": "953c47f0-0fe9-462f-b487-18ff68fb0cc1",
   "metadata": {},
   "outputs": [],
   "source": [
    "loop = [\n",
    "    {\n",
    "        \"sha\": \"f37c7f7947d823317651521994aaaf464e6e8dfa\",\n",
    "        \"date\": \"Sat Nov 19 17:55:28 2022 +0000\",\n",
    "        \"message\": \"introduce find_swaps2 - faster version of find_swaps\",\n",
    "        \"name\": \"before lru\"\n",
    "    },\n",
    "    {\n",
    "        \"sha\": \"45768358\",\n",
    "        \"date\": \"Fri Oct 27 15:19:24 2023 +0200\",\n",
    "        \"name\": \"v4.0.0\",\n",
    "        \"message\": \"Release version 4.0.0\"\n",
    "    },\n",
    "    {\n",
    "        \"sha\": \"5a97ccb6aec2e7c6227aba8a3b33de54f567ee3a\",\n",
    "        \"date\": \"Tue Apr 23 15:17:36 2024 +0200\",\n",
    "        \"name\": \"v4.0.2\"\n",
    "    },\n",
    "    {\n",
    "        \"sha\": \"9115580bf7c602ca3c524ad392489bd712f355da\",\n",
    "        \"date\": \"Tue Feb 18 17:03:18 2025 +0100\",\n",
    "        \"name\": \"v4.0.4\"\n",
    "    },\n",
    "    {\n",
    "        \"sha\": \"01d4c7ae8179c7a716059552eb31865772e5a549\",\n",
    "        \"date\": \"Tue Feb 18 17:11:28 2025 +0100\",\n",
    "        \"name\": \"118-fix-lru-cache-in-env-loading\"\n",
    "    }\n",
    "]"
   ]
  },
  {
   "cell_type": "markdown",
   "id": "8af7a915-16fd-4288-8e3a-16ae820654af",
   "metadata": {},
   "source": [
    "## Run Benchmarks with Profiler"
   ]
  },
  {
   "cell_type": "code",
   "execution_count": null,
   "id": "217aaf8f-371d-4d0f-9d92-edcb3a52fbf6",
   "metadata": {},
   "outputs": [],
   "source": [
    "# use separate location where we checkout the code version to profile\n",
    "# hence we can control the configuration of the env in the cli in the current code relative to this notebook\n",
    "# CAVEAT: we run the checked out code in the current env (as we run it from the notebook) - this could lead to inconsistencies in the future (discarded or updated requirements or backwards-incompatibilities of the benchmarking cli)\n",
    "!git clone https://github.com/flatland-association/flatland-rl.git /tmp/flatland-rl\n",
    "!cd /tmp/flatland-rl && git clean -f && git reset --hard"
   ]
  },
  {
   "cell_type": "code",
   "execution_count": null,
   "id": "39f0ab30-e4d1-44f1-93d5-7b6ef00cb713",
   "metadata": {},
   "outputs": [],
   "source": [
    "for i in range(NUM_RUNS):\n",
    "    for l in loop:\n",
    "        print(\"===================================================================\")\n",
    "        print(f'{l[\"name\"]} - {l[\"sha\"]} - {i}')\n",
    "        print(\"===================================================================\")\n",
    "        !cd /tmp/flatland-rl && git checkout {l[\"sha\"]} && git log -1\n",
    "        !export PYTHONPATH=/tmp/flatland-rl && python ../examples/flatland_performance_profiling.py -o flatland_performance_profiling.py_{l[\"sha\"]}_{i}.prof \n",
    "        #> /tmp/out.txt && head -n 10 /tmp/out.txt \n",
    "        time.sleep(2)"
   ]
  },
  {
   "cell_type": "markdown",
   "id": "cd485f8b-83b1-4018-9b96-dd200b31194a",
   "metadata": {},
   "source": [
    "## Analyse Profiling"
   ]
  },
  {
   "cell_type": "code",
   "execution_count": null,
   "id": "14bd6a79-16c4-4fbc-8796-c4006249f21b",
   "metadata": {},
   "outputs": [],
   "source": [
    "# https://stackoverflow.com/questions/44302726/pandas-how-to-store-cprofile-output-in-a-pandas-dataframe\n",
    "def prof_to_df(st):\n",
    "    keys_from_k = ['file', 'line', 'fn']\n",
    "    keys_from_v = ['cc', 'ncalls', 'tottime', 'cumtime', 'callers']\n",
    "    data = {k: [] for k in keys_from_k + keys_from_v}\n",
    "    \n",
    "    s = st.stats\n",
    "    \n",
    "    for k in s.keys():\n",
    "        for i, kk in enumerate(keys_from_k):\n",
    "            data[kk].append(k[i])\n",
    "    \n",
    "        for i, kk in enumerate(keys_from_v):\n",
    "            data[kk].append(s[k][i])\n",
    "    return pd.DataFrame(data)"
   ]
  },
  {
   "cell_type": "code",
   "execution_count": null,
   "id": "2a55ce17-e097-4690-96c7-f2fa8840efe0",
   "metadata": {},
   "outputs": [],
   "source": [
    "agg = {\"fn\": [\"first\"], \"sha\": [\"first\"], \"cumtime\": ['mean', 'median', 'min', 'max', 'std'], \"tottime\": ['mean', 'median', 'min', 'max', 'std']}"
   ]
  },
  {
   "cell_type": "code",
   "execution_count": null,
   "id": "a09b686f-72a7-48fc-b164-71f5da05e105",
   "metadata": {},
   "outputs": [],
   "source": [
    "def aggregate(example):\n",
    "    dfs = []\n",
    "    for l in loop:\n",
    "        for i in range(NUM_RUNS):\n",
    "            fn = f'{example}_{l[\"sha\"]}_{i}.prof'\n",
    "            ps = pstats.Stats(fn)\n",
    "            # print(fn)\n",
    "            ps = pstats.Stats(fn)\n",
    "            df = prof_to_df(ps)\n",
    "            df[\"sha\"]=l[\"sha\"]\n",
    "            df[\"name\"]=l[\"name\"]\n",
    "            dfs.append(df)\n",
    "    df = pd.concat(dfs)\n",
    "    return df"
   ]
  },
  {
   "cell_type": "code",
   "execution_count": null,
   "id": "0ca28a94-94ef-4c5b-953b-527e957af71f",
   "metadata": {},
   "outputs": [],
   "source": [
    "# tottime is the total time spent in the function alone. \n",
    "# cumtime is the total time spent in the function plus all functions that this function called."
   ]
  },
  {
   "cell_type": "code",
   "execution_count": null,
   "id": "193ff906-8ec0-4b3b-bf0a-65cfa37a433a",
   "metadata": {},
   "outputs": [],
   "source": [
    "def filter_df(df, conditions):\n",
    "    cond = False\n",
    "    for fn, file in conditions:\n",
    "        cond = cond | (df[\"fn\"]==fn) & (df[\"file\"].str.contains(file))\n",
    "    return df[cond]"
   ]
  },
  {
   "cell_type": "code",
   "execution_count": null,
   "id": "a0e26d63-e430-4f3f-83b9-9ff7a9d1e4e2",
   "metadata": {},
   "outputs": [],
   "source": [
    "def analyse_df(df,fn,file, sort_by=\"cumtime\"):\n",
    "    df_ = df[(df[\"fn\"]==fn) & (df[\"file\"].str.contains(file))].groupby(\"name\").agg(agg).sort_values((sort_by, \"median\"), ascending=True)\n",
    "    df_[\"diff_median\"] = df_[(sort_by, \"median\")].diff().cumsum()\n",
    "    df_[\"diff%_median\"] = df_[\"diff_median\"]/(df_[(\"cumtime\", \"median\")]+df_[\"diff_median\"])*100\n",
    "    df_[\"diff_mean\"] = df_[(sort_by, \"mean\")].diff().cumsum()\n",
    "    df_[\"diff%_mean\"] = df_[\"diff_mean\"]/(df_[(\"cumtime\", \"mean\")]+df_[\"diff_mean\"])*100\n",
    "    return df_"
   ]
  },
  {
   "cell_type": "code",
   "execution_count": null,
   "id": "151e0409-9106-4df0-b98f-bc084a6532d5",
   "metadata": {},
   "outputs": [],
   "source": [
    "df_flatland_performance_profiling = aggregate(\"flatland_performance_profiling.py\")\n",
    "df_flatland_performance_profiling"
   ]
  },
  {
   "cell_type": "markdown",
   "id": "daeb7938-f6fa-4cea-93d2-d79117c21508",
   "metadata": {},
   "source": [
    "### Look into overall performance"
   ]
  },
  {
   "cell_type": "code",
   "execution_count": null,
   "id": "4454d5b4-fe3d-4da2-afac-c4901585574d",
   "metadata": {},
   "outputs": [],
   "source": [
    "plt.figure(figsize=(15,8))\n",
    "ax = sns.barplot(filter_df(df_flatland_performance_profiling,[\n",
    "    (\"step\", \"rail_env.py\"), \n",
    "    (\"reset\", \"rail_env.py\"), \n",
    "    (\"run_simulation\", \"flatland_performance_profiling.py\")\n",
    "]), x=\"name\", y=\"cumtime\", hue=\"fn\", legend=True, estimator=\"median\")\n",
    "ax.bar_label(ax.containers[2], fontsize=10);\n",
    "plt.savefig(\"performance_overall.png\")"
   ]
  },
  {
   "cell_type": "markdown",
   "id": "d52159af-4963-46e4-ab60-291ddfb1de44",
   "metadata": {},
   "source": [
    "The same data in tabular form:"
   ]
  },
  {
   "cell_type": "code",
   "execution_count": null,
   "id": "c5703038-6348-45ab-aff8-d994f65cb259",
   "metadata": {},
   "outputs": [],
   "source": [
    "analyse_df(df_flatland_performance_profiling,\"run_simulation\", \"flatland_performance_profiling.py\")"
   ]
  },
  {
   "cell_type": "markdown",
   "id": "620e31eb-c713-47eb-b7a1-33f2baf9b4dc",
   "metadata": {},
   "source": [
    "### Look into `a_star()` and `find_conflicts()` in relation to `step()`\n",
    "- improvement of a star: https://github.com/flatland-association/flatland-rl/pull/68 (come in with v4.0.2)\n",
    "- improvement of motion check: https://github.com/flatland-association/flatland-rl/issues/6 (forthcoming)"
   ]
  },
  {
   "cell_type": "code",
   "execution_count": null,
   "id": "2a8ee058-4577-4533-92c8-3c50bd49c363",
   "metadata": {},
   "outputs": [],
   "source": [
    "plt.figure(figsize=(15,8))\n",
    "ax = sns.barplot(filter_df(df_flatland_performance_profiling,[\n",
    "    (\"step\", \"rail_env.py\"), \n",
    "    (\"a_star\", \"star\"), \n",
    "    (\"find_conflicts\", \"agent_chains.py\"),\n",
    "]), x=\"name\", y=\"cumtime\", hue=\"fn\", legend=True, estimator=\"mean\")\n",
    "#ax.bar_label(ax.containers[1], fontsize=10);\n",
    "plt.savefig(\"performance_a_star_motion_check.png\")"
   ]
  },
  {
   "cell_type": "markdown",
   "id": "a380cd51-4f73-4b11-8602-4617dc1e5c56",
   "metadata": {},
   "source": [
    "### Look into LRU caching speed-up\n",
    "- improvement of lru caching (came in with v4.0.0)"
   ]
  },
  {
   "cell_type": "code",
   "execution_count": null,
   "id": "f043621b-2836-4bf0-b94c-a74cc0fc2f24",
   "metadata": {},
   "outputs": [],
   "source": [
    "plt.figure(figsize=(15,8))\n",
    "ax = sns.barplot(filter_df(df_flatland_performance_profiling,[\n",
    "    (\"is_dead_end\", \"map\"),\n",
    "    (\"get_transition\", \"map\"),\n",
    "]), x=\"name\", y=\"cumtime\", hue=\"fn\", legend=True, estimator=\"median\")\n",
    "ax.bar_label(ax.containers[0], fontsize=10);\n",
    "plt.savefig(\"performance_lru.png\")"
   ]
  },
  {
   "cell_type": "markdown",
   "id": "af48147f-f8bc-48ab-8143-28c9773bbc17",
   "metadata": {},
   "source": [
    "### Snakeviz of individual profiles\n",
    "Use the following line to start a snakeviz server and open a new browser window:"
   ]
  },
  {
   "cell_type": "code",
   "execution_count": null,
   "id": "a34dbed5-c3d0-49f8-afb0-389411246f8f",
   "metadata": {},
   "outputs": [],
   "source": [
    "# !snakeviz \"flatland_performance_profiling.py_01d4c7ae8179c7a716059552eb31865772e5a549_3.prof\""
   ]
  }
 ],
 "metadata": {
  "kernelspec": {
   "display_name": "Python 3 (ipykernel)",
   "language": "python",
   "name": "python3"
  },
  "language_info": {
   "codemirror_mode": {
    "name": "ipython",
    "version": 3
   },
   "file_extension": ".py",
   "mimetype": "text/x-python",
   "name": "python",
   "nbconvert_exporter": "python",
   "pygments_lexer": "ipython3",
   "version": "3.10.14"
  }
 },
 "nbformat": 4,
 "nbformat_minor": 5
}
