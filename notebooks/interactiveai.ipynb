{
 "cells": [
  {
   "cell_type": "code",
   "execution_count": null,
   "id": "3645faf3-f47a-4171-8a18-66ceef11ddfd",
   "metadata": {},
   "outputs": [],
   "source": [
    "%load_ext autoreload\n",
    "%autoreload 2"
   ]
  },
  {
   "cell_type": "code",
   "execution_count": null,
   "id": "8d9ad54b-0beb-441e-bfa1-d31cd029380d",
   "metadata": {},
   "outputs": [],
   "source": [
    "from IPython.display import display, HTML\n",
    "from IPython.display import Image\n",
    "display(HTML(\"<style>.container { width:80% !important; }</style>\"))"
   ]
  },
  {
   "cell_type": "code",
   "execution_count": null,
   "id": "99d3f88e-9897-45df-b5d1-7df3709817c4",
   "metadata": {},
   "outputs": [],
   "source": [
    "from pathlib import Path\n",
    "from typing import Any\n",
    "\n",
    "from flatland.core.policy import Policy\n",
    "from flatland.env_generation.env_generator import env_generator\n",
    "from flatland.trajectories.trajectories import Trajectory\n",
    "from flatland.evaluators.trajectory_evaluator import TrajectoryEvaluator\n",
    "from flatland.callbacks.generate_movie_callbacks import GenerateMovieCallbacks\n",
    "\n",
    "from flatland.utils.seeding import np_random\n",
    "\n",
    "from flatland.integrations.interactiveai.interactiveai import FlatlandInteractiveAICallbacks"
   ]
  },
  {
   "cell_type": "markdown",
   "id": "683a2f30-9c77-4627-ab03-303786da0739",
   "metadata": {},
   "source": [
    "# InteractiveAI integration\n",
    "Illustrate Flatland callbacks for https://github.com/AI4REALNET/InteractiveAI.\n",
    "The callbacks create context and events during a scenario run.\n",
    "If an InteractiveAI instance is up and running, the callbacks  send out HTTP POST requests to InteractiveAI contexts and events REST API endpoints.\n",
    "In this notebook, we just log the contexts and events that would be sent out.\n",
    "\n",
    "- The agent positions are sent as context, with geo-coordinates for display on a map.\n",
    "- Agent malfunctions are sent as events."
   ]
  },
  {
   "cell_type": "markdown",
   "id": "22d2df77-170d-48f4-ab91-d9cdb3b949f8",
   "metadata": {},
   "source": [
    "## Create Flatland env"
   ]
  },
  {
   "cell_type": "code",
   "execution_count": null,
   "id": "935215b7-7f50-4ad8-ad6a-c6223d3bdf02",
   "metadata": {},
   "outputs": [],
   "source": [
    "env, observations, _ = env_generator()"
   ]
  },
  {
   "cell_type": "markdown",
   "id": "ff238018-34f7-41be-a976-08518fd95720",
   "metadata": {},
   "source": [
    "## Create position mapping"
   ]
  },
  {
   "cell_type": "code",
   "execution_count": null,
   "id": "2fdb45af-c86f-461d-abde-80b5087e023f",
   "metadata": {},
   "outputs": [],
   "source": [
    "# https://opendata.swiss/de/dataset/haltestelle-perronoberflache1\n",
    "origin_lat = 47.3534027132627\n",
    "origin_lon = 7.90817796008907\n",
    "xy_delta = 0.001"
   ]
  },
  {
   "cell_type": "code",
   "execution_count": null,
   "id": "754f2e50-e8e4-404a-bbbf-2da86695dbac",
   "metadata": {},
   "outputs": [],
   "source": [
    "position_to_latlon = {(r,c): (origin_lat - r * xy_delta, origin_lon + c * xy_delta)  for r in range(env.height) for c in range(env.width) }\n",
    "position_to_latlon"
   ]
  },
  {
   "cell_type": "markdown",
   "id": "a8e457a3-6b4c-4b5e-9cc1-d45848502069",
   "metadata": {},
   "source": [
    "## Create position mapping"
   ]
  },
  {
   "cell_type": "code",
   "execution_count": null,
   "id": "9f52411b-4a25-4a78-86d8-bc3a6d38b14c",
   "metadata": {},
   "outputs": [],
   "source": [
    "!pip install folium"
   ]
  },
  {
   "cell_type": "code",
   "execution_count": null,
   "id": "8fd4bb5c-b47b-4c02-b567-4eade78f1fdb",
   "metadata": {},
   "outputs": [],
   "source": [
    "import folium\n",
    "\n",
    "m = folium.Map(location=(origin_lat, origin_lon), zoom_start=14)\n",
    "    \n",
    "for rc, coord in position_to_latlon.items():\n",
    "    folium.Marker(\n",
    "        location = [coord[0], coord[1]],\n",
    "        tooltip = f\"{rc}\",\n",
    "        icon = folium.Icon(icon=\"train\", prefix=\"fa\", color=\"blue\")\n",
    "    ).add_to(m)\n",
    "m"
   ]
  },
  {
   "cell_type": "markdown",
   "id": "ffc06919-1900-440c-a79c-8369af53db64",
   "metadata": {},
   "source": [
    "## Trajectory from random policy"
   ]
  },
  {
   "cell_type": "code",
   "execution_count": null,
   "id": "ec0f4e5f-6a5e-409c-9933-cfa73ab00126",
   "metadata": {},
   "outputs": [],
   "source": [
    "class RandomPolicy(Policy):\n",
    "    def __init__(self, action_size: int = 5, seed=42):\n",
    "        super(RandomPolicy, self).__init__()\n",
    "        self.action_size = action_size\n",
    "        self.np_random, _ = np_random(seed=seed)\n",
    "\n",
    "    def act(self, handle: int, observation: Any, **kwargs):\n",
    "        return self.np_random.choice(self.action_size)"
   ]
  },
  {
   "cell_type": "code",
   "execution_count": null,
   "id": "b4260ddf-a07d-47ec-bb93-b770e7ab1ace",
   "metadata": {},
   "outputs": [],
   "source": [
    "# requires ffmpeg binary to be installed, see https://github.com/kkroening/ffmpeg-python\n",
    "!pip install folium python-ffmpeg"
   ]
  },
  {
   "cell_type": "code",
   "execution_count": null,
   "id": "6c98e3c4-ddd9-4ef4-9dbf-a300e1e43aa2",
   "metadata": {},
   "outputs": [],
   "source": [
    "# requires ffmpeg binary to be installed, see https://github.com/kkroening/ffmpeg-python\n",
    "trajectory = Trajectory.create_from_policy(policy=RandomPolicy(), data_dir=Path(\"./data\").resolve(), callbacks=GenerateMovieCallbacks())\n",
    "trajectory"
   ]
  },
  {
   "cell_type": "code",
   "execution_count": null,
   "id": "4bb04683-ad90-41af-9c2d-ec7bed1d61f3",
   "metadata": {},
   "outputs": [],
   "source": [
    "for i in range(env._max_episode_steps):\n",
    "    display(Image(Path(f\"./data/outputs/flatland_frame_{i:04d}.png\").resolve()))"
   ]
  },
  {
   "cell_type": "markdown",
   "id": "9cf04f13-9a1c-4449-87af-bb9335a8e634",
   "metadata": {},
   "source": [
    "## Run trajectory with InteractiveAI callbacks"
   ]
  },
  {
   "cell_type": "code",
   "execution_count": null,
   "id": "42252f2e-98d7-459f-8c96-cfcc2c0a2e27",
   "metadata": {},
   "outputs": [],
   "source": [
    "# set collect_only=False to send out HTTP POST requests to InteractiveAI contexts and events REST API endpoints\n",
    "cb = FlatlandInteractiveAICallbacks(position_to_latlon, collect_only=True, step_to_millis=0.02)\n",
    "cb"
   ]
  },
  {
   "cell_type": "code",
   "execution_count": null,
   "id": "11ce7d95-73b0-45aa-b7e2-a7fbf29d99e6",
   "metadata": {},
   "outputs": [],
   "source": [
    "TrajectoryEvaluator(trajectory, cb).evaluate()"
   ]
  },
  {
   "cell_type": "code",
   "execution_count": null,
   "id": "308a6561-58a4-4f2b-956d-35fca40234b0",
   "metadata": {},
   "outputs": [],
   "source": [
    "cb.contexts"
   ]
  },
  {
   "cell_type": "code",
   "execution_count": null,
   "id": "5fb589f0-3ff3-46b6-a233-52d6fbb9e62c",
   "metadata": {},
   "outputs": [],
   "source": [
    "cb.events"
   ]
  }
 ],
 "metadata": {
  "kernelspec": {
   "display_name": "Python 3 (ipykernel)",
   "language": "python",
   "name": "python3"
  },
  "language_info": {
   "codemirror_mode": {
    "name": "ipython",
    "version": 3
   },
   "file_extension": ".py",
   "mimetype": "text/x-python",
   "name": "python",
   "nbconvert_exporter": "python",
   "pygments_lexer": "ipython3",
   "version": "3.12.9"
  }
 },
 "nbformat": 4,
 "nbformat_minor": 5
}
