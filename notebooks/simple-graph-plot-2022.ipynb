{
 "cells": [
  {
   "cell_type": "code",
   "execution_count": null,
   "metadata": {
    "tags": []
   },
   "outputs": [],
   "source": [
    "%load_ext autoreload\n",
    "%autoreload 2"
   ]
  },
  {
   "cell_type": "code",
   "execution_count": null,
   "metadata": {
    "tags": []
   },
   "outputs": [],
   "source": [
    "import os,sys, io, re, time\n",
    "from glob import glob\n",
    "from collections import OrderedDict\n",
    "import itertools\n",
    "from flatland.envs.observations import TreeObsForRailEnv\n",
    "from flatland.envs.rail_env import RailEnv\n",
    "from flatland.envs.persistence import RailEnvPersister\n",
    "from flatland.utils.rendertools import RenderTool\n",
    "import flatland.utils.jupyter_utils as ju\n",
    "from PIL import Image\n",
    "import networkx as nx\n",
    "#import rustworkx as nx\n",
    "import json\n",
    "from numpy import array\n",
    "import numpy as np\n",
    "import pandas as pd\n",
    "import random\n",
    "import matplotlib.pyplot as plt\n",
    "from matplotlib import cm\n",
    "from IPython.display import display, HTML\n",
    "from ipywidgets import Button, HBox, VBox\n",
    "from flatland.graphs.graph_utils import RailEnvGraph, trans_int_to_4x4, trans_int_to_binstr, trans_int_to_nesw, get_rail_transitions_df\n",
    "from flatland.graphs.graph_utils import get_simple_path, plotGraphEnv\n",
    "import flatland.graphs.graph_utils as gu\n",
    "# from flatland.envs.rail_generators import rail_from_manual_specifications_generator\n",
    "#from flatland.envs.rail_generators import random_rail_generator, complex_rail_generator, sparse_rail_generator, empty_rail_generator\n",
    "from flatland.envs.rail_generators import sparse_rail_generator, empty_rail_generator\n",
    "from flatland.envs.observations import GlobalObsForRailEnv\n",
    "from flatland.envs.rail_generators import sparse_rail_generator\n",
    "#from flatland.envs.schedule_generators import sparse_schedule_generator\n",
    "from flatland.envs.line_generators import sparse_line_generator\n",
    "from flatland.envs.malfunction_generators import malfunction_from_params, MalfunctionParameters"
   ]
  },
  {
   "cell_type": "code",
   "execution_count": null,
   "metadata": {
    "tags": []
   },
   "outputs": [],
   "source": [
    "from flatland.utils import env_edit_utils as eeu\n",
    "from flatland.utils import jupyter_utils as ju\n",
    "import ipywidgets as ipw"
   ]
  },
  {
   "cell_type": "code",
   "execution_count": null,
   "metadata": {
    "tags": []
   },
   "outputs": [],
   "source": [
    "#import torch\n",
    "#from torch import tensor\n",
    "#from functools import partial\n",
    "#from flatland_contrib.graphs  import graphpath as gp\n",
    "#from ijsolution import graphpath as gp\n",
    "#from ijsolution import PathUtils as pu"
   ]
  },
  {
   "cell_type": "code",
   "execution_count": null,
   "metadata": {
    "tags": []
   },
   "outputs": [],
   "source": [
    "#display(HTML(\"<style>.container { width:80% !important; }</style>\"))"
   ]
  },
  {
   "cell_type": "code",
   "execution_count": null,
   "metadata": {
    "tags": []
   },
   "outputs": [],
   "source": [
    "\n",
    "if False:\n",
    "    dfMD = pd.read_csv(\"../../jeremyw/scratch/test-envs/metadata.csv\")\n",
    "    dfMD2 = dfMD[[\"test_id\", \"n_agents\", \"x_dim\", \"y_dim\"]] # , \"max_rails_in_city\", \"max_rails_between_cities\" ]]\n",
    "    dfMD2.drop_duplicates()[:5]\n",
    "    #sDirEnvs = \"../../neurips2020-flatland-scoring/environments/neurips2020_round_2_v6_final/debug/\"\n",
    "    #sDirEnvs = \"../../neurips2020-flatland-starter-kit/scratch/test-envs/\"\n",
    "    sDirEnvs = \"../../jeremyw/scratch/test-envs/\"\n",
    "    lsTests = glob(sDirEnvs + \"Test_*\")\n",
    "    lsTests.sort(key=lambda s: int(os.path.basename(s)[5:]))  # list of tests eg Test_1, Test_20 sorted in numerical order, ie 1 < 9 < 10 < 20 etc (without expecting leading zeros)\n",
    "\n",
    "    lsTestLev = []\n",
    "    for sDirTest in lsTests:\n",
    "        lsLevs = glob(sDirTest + \"/Lev*\")\n",
    "        lsLevs.sort(key=lambda s: int(os.path.basename(s)[6:-4]))  # sort the levels in numerical order, again without leading zeros\n",
    "        for sEnv in lsLevs:\n",
    "            lsTestLev.append(sEnv)\n",
    "    print(len(lsTestLev), lsTestLev[-1])\n",
    "if False:\n",
    "    llMD = []\n",
    "    for sTestLev in lsTestLev[:50]:\n",
    "        env, env_dict=RailEnvPersister.load_new(sTestLev)\n",
    "        lRow = (re.search(\"/([^/]+)/([^/]+)$\", sTestLev)[0], env.width, env.height, len(env.agents), env.malfunction_process_data.malfunction_rate) \n",
    "        #print(os.path.basename(sTestLev), env.width, env.height, len(env.agents), env.malfunction_process_data.malfunction_rate)\n",
    "        llMD.append(lRow)\n",
    "    pd.DataFrame(llMD, columns=[\"file\", \"width\", \"height\", \"agents\", \"mf_rate\"])[18:25]\n",
    "if False:\n",
    "    #env, envModel = eeu.makeTestEnv(\"loop_with_loops\", nAg=10, bUCF=True)\n",
    "    #env, envModel = eeu.makeTestEnv(lsEnvNames[3], nAg=10, bUCF=True)\n",
    "    #env, env_dict=RailEnvPersister.load_new(\"Test_20_Level_0.pkl\")\n",
    "    iTest = 12 # 30\n",
    "    sTestLev = lsTestLev[iTest]\n",
    "    print(sTestLev)\n",
    "    env, env_dict=RailEnvPersister.load_new(sTestLev)"
   ]
  },
  {
   "cell_type": "code",
   "execution_count": null,
   "metadata": {
    "tags": []
   },
   "outputs": [],
   "source": [
    "env, oModel = eeu.makeTestEnv(\"alternative_needs_pause\")"
   ]
  },
  {
   "cell_type": "code",
   "execution_count": null,
   "metadata": {
    "tags": []
   },
   "outputs": [],
   "source": [
    "#behaviour = ju.ForwardWithPause(env, [ju.AgentPause(0, 10, 5)])\n",
    "behaviour = ju.AlwaysForward(env)\n",
    "oEC = ju.EnvCanvas(env, behaviour, ) #size=(1000,1000))\n",
    "env.reset(regenerate_rail=False)\n",
    "oEC.show()\n",
    "lImages = []\n",
    "\n",
    "for i in range(25):\n",
    "    oEC.step()\n",
    "    oEC.render()\n",
    "    time.sleep(0.1)\n",
    "    aImg = oEC.oRT.get_image()\n",
    "    lImages.append(aImg)"
   ]
  },
  {
   "cell_type": "code",
   "execution_count": null,
   "metadata": {},
   "outputs": [],
   "source": []
  },
  {
   "cell_type": "code",
   "execution_count": null,
   "metadata": {
    "tags": []
   },
   "outputs": [],
   "source": [
    "aImg = oEC.oRT.get_image()"
   ]
  },
  {
   "cell_type": "code",
   "execution_count": null,
   "metadata": {
    "tags": []
   },
   "outputs": [],
   "source": [
    "type(aImg), aImg.shape"
   ]
  },
  {
   "cell_type": "code",
   "execution_count": null,
   "metadata": {
    "tags": []
   },
   "outputs": [],
   "source": [
    "oReg = gu.RailEnvGraph(env)\n",
    "G2 = oReg.graph_rail_grid()"
   ]
  },
  {
   "cell_type": "code",
   "execution_count": null,
   "metadata": {
    "tags": []
   },
   "outputs": [],
   "source": [
    "if True:\n",
    "    #plotGraphEnv(G2, env, aImg)\n",
    "    plotGraphEnv(oReg.G, env, aImg, figsize=(10,10), node_size=10,\n",
    "                    node_colors={\"rail\":\"blue\", \"grid\":\"red\"},\n",
    "                    edge_colors={\"hold\":\"gray\", \"dir\":\"green\"},\n",
    "                    show_nodes=(\"rail\", \"grid\"),\n",
    "                    show_edges=(\"dir\", \"hold\")\n",
    "                   )\n",
    "    with io.BytesIO() as fbio:\n",
    "        plt.savefig(fbio, bbox_inches=\"tight\", pad_inches=0)\n",
    "        bimgEnv = fbio.getvalue()\n",
    "    plt.close()"
   ]
  },
  {
   "cell_type": "code",
   "execution_count": null,
   "metadata": {
    "tags": []
   },
   "outputs": [],
   "source": [
    "plotGraphEnv(oReg.G, env, aImg, figsize=(10,10), node_size=10,\n",
    "                    node_colors={\"rail\":\"blue\", \"grid\":\"red\"},\n",
    "                    edge_colors={\"hold\":\"gray\", \"dir\":\"green\"},\n",
    "                    show_nodes=(\"rail\", \"grid\"),\n",
    "                    show_edges=(\"dir\", \"hold\")\n",
    "                   )"
   ]
  },
  {
   "cell_type": "markdown",
   "metadata": {},
   "source": [
    "### Reduced Paths G5\n",
    "Comment out whether you want G5 \"reduced\" or the full G2"
   ]
  },
  {
   "cell_type": "code",
   "execution_count": null,
   "metadata": {
    "tags": []
   },
   "outputs": [],
   "source": [
    "if False:\n",
    "    G5 = oReg.reduce_simple_paths()\n",
    "else:\n",
    "    G5 = G2\n"
   ]
  },
  {
   "cell_type": "code",
   "execution_count": null,
   "metadata": {
    "tags": []
   },
   "outputs": [],
   "source": [
    "#plotGraphEnv(G2, env, aImg)\n",
    "plotGraphEnv(G5, env, aImg, figsize=(10,10), node_size=10,\n",
    "                space=0.3,\n",
    "                node_colors={\"rail\":\"blue\", \"grid\":\"red\"},\n",
    "                edge_colors={\"hold\":\"gray\", \"dir\":\"green\"},\n",
    "                show_nodes=(\"rail\",\n",
    "                            # \"grid\"\n",
    "                            ),\n",
    "                show_edges=(\"dir\", \n",
    "                            #\"hold\"\n",
    "                            ),\n",
    "                #show_edge_weights=True,\n",
    "                show_labels=(),\n",
    "                alpha_img=0.8\n",
    "               )\n",
    "with io.BytesIO() as fbOut:\n",
    "    plt.savefig(fbOut, bbox_inches=\"tight\", pad_inches=0)\n",
    "    bimgReduced = fbOut.getvalue()\n",
    "#plt.close()"
   ]
  },
  {
   "cell_type": "markdown",
   "metadata": {},
   "source": [
    "Here it is with the simple paths \"reduced\" into single edges."
   ]
  },
  {
   "cell_type": "code",
   "execution_count": null,
   "metadata": {
    "tags": []
   },
   "outputs": [],
   "source": [
    "plotGraphEnv(oReg.reduce_simple_paths(), env, aImg, figsize=(10,10), node_size=10,\n",
    "                space=0.3,\n",
    "                node_colors={\"rail\":\"blue\",  \"grid\":\"red\"\n",
    "                             },\n",
    "                edge_colors={\"hold\":\"gray\", \"dir\":\"green\"\n",
    "                             },\n",
    "                show_nodes=(\"rail\", \"grid\"),\n",
    "                show_edges=(\"dir\", \"hold\"),\n",
    "                #show_edge_weights=True,\n",
    "                show_labels=(),\n",
    "                alpha_img=0.8\n",
    "               )"
   ]
  },
  {
   "cell_type": "code",
   "execution_count": null,
   "metadata": {},
   "outputs": [],
   "source": [
    "G_reduced = oReg.reduce_simple_paths()\n",
    "dPos={}\n",
    "lColor=[]\n",
    "lFixed=[]\n",
    "for v, a in G_reduced.nodes(data=True):\n",
    "    if a.get(\"type\") == \"grid\":\n",
    "        lColor.append(\"red\")\n",
    "        lFixed.append(v)\n",
    "        dPos[v] = xyPos\n",
    "    else:\n",
    "        lColor.append(\"blue\")\n",
    "    xyPos = v[:2]\n",
    "    dPos[v] = xyPos\n"
   ]
  },
  {
   "cell_type": "code",
   "execution_count": null,
   "metadata": {},
   "outputs": [],
   "source": [
    "\n",
    "dPos = nx.spring_layout(G_reduced, pos=dPos, fixed=lFixed, iterations=10000)\n",
    "\n",
    "nx.draw(G_reduced, with_labels=True, node_size=150, node_color=lColor)"
   ]
  },
  {
   "cell_type": "code",
   "execution_count": null,
   "metadata": {},
   "outputs": [],
   "source": [
    "oReg.G.nodes[(1,10,1)]"
   ]
  },
  {
   "cell_type": "code",
   "execution_count": null,
   "metadata": {
    "tags": []
   },
   "outputs": [],
   "source": [
    "len(env.agents)"
   ]
  },
  {
   "cell_type": "code",
   "execution_count": null,
   "metadata": {
    "tags": []
   },
   "outputs": [],
   "source": [
    "dlPos = {}\n",
    "for agent in env.agents:\n",
    "    l = dlPos.get(agent.initial_position, []) + [agent.handle]\n",
    "    dlPos[agent.initial_position] = l\n",
    "\n",
    "dlPos"
   ]
  },
  {
   "cell_type": "code",
   "execution_count": null,
   "metadata": {
    "tags": []
   },
   "outputs": [],
   "source": [
    "pilImg = Image.fromarray(aImg)"
   ]
  },
  {
   "cell_type": "code",
   "execution_count": null,
   "metadata": {
    "tags": []
   },
   "outputs": [],
   "source": [
    "with io.BytesIO() as fOut:\n",
    "    pilImg.save(fOut, format='PNG')\n",
    "    byteImg = fOut.getvalue()"
   ]
  },
  {
   "cell_type": "code",
   "execution_count": null,
   "metadata": {
    "tags": []
   },
   "outputs": [],
   "source": [
    "lwIm = [ ipw.Image(value=bim) for bim in [byteImg, \n",
    "                                          bimgEnv,\n",
    "                                          bimgReduced]]"
   ]
  },
  {
   "cell_type": "code",
   "execution_count": null,
   "metadata": {
    "tags": []
   },
   "outputs": [],
   "source": [
    "(lGpaths, llnPaths, lltStartTarg) = gu.genStartTargetDirs(G5, env)\n",
    "#lwImPath = []\n",
    "for iAgent, Gpath in enumerate(lGpaths):\n",
    "    plotGraphEnv(Gpath, env, aImg, figsize=(10,10), node_size=10,\n",
    "                space=0.1,\n",
    "                node_colors={\"rail\":\"blue\", \"grid\":\"red\"},\n",
    "                edge_colors={\"hold\":\"gray\", \"dir\":\"green\"},\n",
    "                show_nodes=(\"rail\", \"grid\"),\n",
    "                show_edges=(\"dir\"),\n",
    "                show_labels=(),\n",
    "                show_edge_weights=True,\n",
    "                alpha_img=0.7\n",
    "               )\n",
    "    with io.BytesIO() as fbOut:\n",
    "        plt.savefig(fbOut, bbox_inches=\"tight\", pad_inches=0)\n",
    "        bimgPath = fbOut.getvalue()\n",
    "    plt.close()\n",
    "    lwIm.append(ipw.Image(value=bimgPath))\n",
    "    \n",
    "    \n",
    "    "
   ]
  },
  {
   "cell_type": "markdown",
   "metadata": {},
   "source": [
    "# Pictures of graph, reduced graph, and shortest agent paths"
   ]
  },
  {
   "cell_type": "code",
   "execution_count": null,
   "metadata": {
    "tags": []
   },
   "outputs": [],
   "source": [
    "tab = ipw.Tab(lwIm)\n",
    "tab.set_title(0, \"map\")\n",
    "tab.set_title(1, \"graph\")\n",
    "tab.set_title(2, \"reduced graph\")\n",
    "for i in range(len(env.agents)):\n",
    "    tab.set_title(3+i, f\"{i}\")\n",
    "tab"
   ]
  },
  {
   "cell_type": "markdown",
   "metadata": {},
   "source": [
    "### Ibry (+Serjev) Diagram of Resource usage from shortest paths"
   ]
  },
  {
   "cell_type": "code",
   "execution_count": null,
   "metadata": {},
   "outputs": [],
   "source": [
    "dResource, dlRails, dg2Dirs = gu.plotResourceUsage(\n",
    "    G5, llnPaths, nSteps=100, nStepsShow=25, \n",
    "    contradir=False, node_ticks=range(25))\n",
    "plt.xticks(range(25))\n",
    "pass"
   ]
  },
  {
   "cell_type": "markdown",
   "metadata": {},
   "source": [
    "### Hammock of Paths for each agent"
   ]
  },
  {
   "cell_type": "code",
   "execution_count": null,
   "metadata": {},
   "outputs": [],
   "source": [
    "dAgStTg = { iAgent:ltStTg for iAgent,ltStTg in enumerate(lltStartTarg)}"
   ]
  },
  {
   "cell_type": "code",
   "execution_count": null,
   "metadata": {},
   "outputs": [],
   "source": [
    "dlpiHammock = {}\n",
    "numPaths=0\n",
    "for iAgent, (nStart, nTarg) in dAgStTg.items():\n",
    "    lpiHammock = gu.hammockPaths(G5, nStart, nTarg, endSkip=3, preamble=True, ratioMax=2)\n",
    "    dlpiHammock[iAgent] = lpiHammock\n",
    "    numPaths += len(lpiHammock)\n",
    "    print(iAgent, nStart, nTarg, len(lpiHammock), [ oPI.length for oPI in lpiHammock ])\n",
    "print(numPaths)"
   ]
  },
  {
   "cell_type": "code",
   "execution_count": null,
   "metadata": {},
   "outputs": [],
   "source": [
    "#dlpiHammock[3]"
   ]
  },
  {
   "cell_type": "markdown",
   "metadata": {},
   "source": [
    "### Pictures of Hammock Paths for each agent"
   ]
  },
  {
   "cell_type": "code",
   "execution_count": null,
   "metadata": {},
   "outputs": [],
   "source": [
    "#### G5c = nx.compose_all([ nx.induced_subgraph(G5, lnPath) for lnPath in lllnHammock[0][:1] + lllnHammock[1][1:2] ])\n",
    "lwIm = []\n",
    "for iAgent, lpiHammock in list(dlpiHammock.items())[:10]: # range(len(env.agents)):\n",
    "    G5c = nx.compose_all([ nx.induced_subgraph(G5, oPI.tPath) for oPI in lpiHammock ])\n",
    "    gu.plotGraphEnv(G5c, env, aImg, node_size=2, figsize=(10,10), alpha_img=0.7, space=0, show_edge_weights=True)\n",
    "    with io.BytesIO() as fbOut:\n",
    "        plt.savefig(fbOut, bbox_inches=\"tight\", pad_inches=0)\n",
    "        bimgPath = fbOut.getvalue()\n",
    "    plt.close()\n",
    "    lwIm.append(ipw.Image(value=bimgPath))\n",
    "\n",
    "oTab = ipw.Tab(lwIm)\n",
    "\n",
    "list(map(oTab.set_title, *zip(*[(i, str(i)) for i in range(len(lwIm)) ])))\n",
    "oTab"
   ]
  },
  {
   "cell_type": "markdown",
   "metadata": {},
   "source": [
    "### scratch comparing paths / hammocks"
   ]
  },
  {
   "cell_type": "code",
   "execution_count": null,
   "metadata": {},
   "outputs": [],
   "source": [
    "iAgent=0\n",
    "lpiHammock = dlpiHammock[iAgent]\n",
    "#G5c = nx.compose_all([ nx.induced_subgraph(G5, oPI.tPath) for oPI in lpiHammock[2:3] ])\n",
    "#gu.plotGraphEnv(G5c, env, aImg, node_size=2, figsize=(10,10), alpha_img=0.7, space=0, show_edge_weights=True)\n",
    "\n",
    "#G5c = nx.compose_all([ nx.induced_subgraph(G5, oPI.tPath) for oPI in lpiHammock[0:1] ])\n",
    "oPI = lpiHammock[0]\n",
    "\n",
    "oPI2 = dlpiHammock[1][0]\n",
    "\n",
    "lnGrid = gu.grid_node_for_rails(G5, oPI.tPath)\n",
    "G5c = nx.induced_subgraph(G5, oPI.tPath + lnGrid + oPI2.tPath) \n",
    "gu.plotGraphEnv(G5c, env, aImg, node_size=20, figsize=(15,15), alpha_img=0.7, space=0.2,\n",
    "    show_edge_weights=True, show_labels=[\"grid\"], show_edges=[\"dir\",], show_nodes=[\"grid\", \"rail\"], arrowsize=20,\n",
    "    lvHighlight=[(1,12),(1,13)])\n",
    "#[ (n,d) for n,d in G5c.nodes(data=True) if d[\"type\"]==\"grid\" ]"
   ]
  },
  {
   "cell_type": "code",
   "execution_count": null,
   "metadata": {},
   "outputs": [],
   "source": [
    "#list(G5c.edges(data=True))"
   ]
  },
  {
   "cell_type": "code",
   "execution_count": null,
   "metadata": {},
   "outputs": [],
   "source": [
    "iAgent=1\n",
    "lpiHammock = dlpiHammock[iAgent]\n",
    "#G5c = nx.compose_all([ nx.induced_subgraph(G5, oPI.tPath) for oPI in lpiHammock[0:1] ])\n",
    "oPI = lpiHammock[0]\n",
    "lnGrid = gu.grid_node_for_rails(G5, oPI.tPath)\n",
    "G5c = nx.induced_subgraph(G5, oPI.tPath + lnGrid) \n",
    "\n",
    "gu.plotGraphEnv(G5c, env, aImg, node_size=5, figsize=(10,10), alpha_img=0.7, space=0.4, show_edge_weights=True,\n",
    "    show_labels=[\"grid\"],\n",
    "    show_nodes=[\"grid\", \"rail\", ], \n",
    "    show_edges=[\n",
    "        \"dir\",\n",
    "        \"hold\"\n",
    "        ])\n",
    "#print(oPI.tPath)\n",
    "#list(G5c.edges(data=True))\n",
    "#[ (n,d) for n,d in G5c.nodes(data=True) if d[\"type\"]==\"grid\" ]"
   ]
  },
  {
   "cell_type": "code",
   "execution_count": null,
   "metadata": {},
   "outputs": [],
   "source": [
    "G5[ (1,2) ]"
   ]
  },
  {
   "cell_type": "code",
   "execution_count": null,
   "metadata": {},
   "outputs": [],
   "source": [
    "G2.in_edges((1,2))\n"
   ]
  },
  {
   "cell_type": "code",
   "execution_count": null,
   "metadata": {},
   "outputs": [],
   "source": [
    "G2.out_edges((1,2))"
   ]
  },
  {
   "cell_type": "code",
   "execution_count": null,
   "metadata": {},
   "outputs": [],
   "source": [
    "G2.edges[((1,2),(1,3))]"
   ]
  },
  {
   "cell_type": "code",
   "execution_count": null,
   "metadata": {},
   "outputs": [],
   "source": [
    "intTrans=0b1100000000100010\n",
    "print(gu.trans_int_to_binstr(intTrans))\n",
    "print(gu.trans_int_to_4x4(intTrans))\n",
    "print(gu.trans_int_to_nesw(intTrans))"
   ]
  },
  {
   "cell_type": "code",
   "execution_count": null,
   "metadata": {},
   "outputs": [],
   "source": [
    "import ipycytoscape as ipc"
   ]
  },
  {
   "cell_type": "code",
   "execution_count": null,
   "metadata": {},
   "outputs": [],
   "source": [
    "G_reduced.nodes"
   ]
  },
  {
   "cell_type": "code",
   "execution_count": null,
   "metadata": {},
   "outputs": [],
   "source": [
    "G_reduced.edges(data=True)"
   ]
  },
  {
   "cell_type": "code",
   "execution_count": null,
   "metadata": {},
   "outputs": [],
   "source": [
    "class Node2(ipc.Node):\n",
    "    def __init__(self, tV, dAttr):\n",
    "        super().__init__()\n",
    "        self.data[\"id\"] = str(tV)\n",
    "        self.data[\"label\"] = str(tV)\n",
    "        self.classes = dAttr[\"type\"]\n",
    "\n",
    "class Edge2(ipc.Edge):\n",
    "    def __init__(self, source, target, data):\n",
    "        super().__init__()\n",
    "        self.data[\"source\"] = str(source)\n",
    "        self.data[\"target\"] = str(target)\n",
    "        self.classes = data[\"type\"]\n",
    "        self.data.update(data)\n",
    "\n",
    "\n",
    "lNodes = [ Node2(v, dAttr) for v, dAttr in G_reduced.nodes(data=True) ]\n",
    "#lEdges = [ ipc.Edge(source=str(u), target=str(v), data={\"source\":str(u), \"target\":str(v)}) for u,v in G_reduced.edges() ]\n",
    "lEdges = [\n",
    "    Edge2(source=u, target=v, data=d)\n",
    "    for u,v,d in G_reduced.edges(data=True) ]\n",
    "lEdges[0].data"
   ]
  },
  {
   "cell_type": "code",
   "execution_count": null,
   "metadata": {},
   "outputs": [],
   "source": [
    "wC = ipc.CytoscapeWidget()\n",
    "wC.graph.add_nodes(lNodes)\n",
    "wC.graph.add_edges(lEdges, directed=True)\n",
    "wC.graph.nodes"
   ]
  },
  {
   "cell_type": "code",
   "execution_count": null,
   "metadata": {},
   "outputs": [],
   "source": [
    "wC.graph.edges"
   ]
  },
  {
   "cell_type": "code",
   "execution_count": null,
   "metadata": {},
   "outputs": [],
   "source": [
    "wC"
   ]
  },
  {
   "cell_type": "code",
   "execution_count": null,
   "metadata": {},
   "outputs": [],
   "source": [
    "#wC.get_style()\n",
    "wC.set_style([\n",
    "    {'selector': 'node', 'css': {'background-color': '#11479e'}},\n",
    "    {'selector': 'node.rail', 'style': { 'background-color': 'blue' }},\n",
    "    {'selector': 'node.grid','style': {'background-color': 'red',  'label': 'data(label)'}, },\n",
    "    {'selector': 'edge', 'style': { 'line-color': 'blue'}},\n",
    "    {'selector': 'edge.directed',\n",
    "        'style': {'curve-style': 'bezier',\n",
    "        'target-arrow-shape': 'triangle',\n",
    "        'arrow-scale': '2',\n",
    "        #'target-arrow-color': '#9dbaea'\n",
    "        }},\n",
    "\n",
    "    {'selector': 'edge.hold', 'style': { 'line-color': 'skyblue', 'target-arrow-color': 'skyblue', }},\n",
    "    {'selector': 'edge.grid', 'style': { 'line-color': 'skyblue', 'target-arrow-color': 'skyblue', 'arrow-scale':'0.5' }},\n",
    "    \n",
    "    {'selector': 'node:parent', 'css': {'background-opacity': 0.333}},\n",
    "    #{'selector': 'edge', 'style': {'width': 4, 'line-color': 'red'}},\n",
    "    {'selector': 'edge.multiple_edges', 'style': {'curve-style': 'bezier'}}\n",
    "    ])"
   ]
  },
  {
   "cell_type": "code",
   "execution_count": null,
   "metadata": {},
   "outputs": [],
   "source": [
    "wC.relayout()"
   ]
  },
  {
   "cell_type": "code",
   "execution_count": null,
   "metadata": {},
   "outputs": [],
   "source": [
    "#oCW.graph.edges"
   ]
  },
  {
   "cell_type": "code",
   "execution_count": null,
   "metadata": {},
   "outputs": [],
   "source": []
  },
  {
   "cell_type": "code",
   "execution_count": null,
   "metadata": {},
   "outputs": [],
   "source": []
  }
 ],
 "metadata": {
  "hide_input": false,
  "kernelspec": {
   "display_name": "ve310fl",
   "language": "python",
   "name": "python3"
  },
  "language_info": {
   "codemirror_mode": {
    "name": "ipython",
    "version": 3
   },
   "file_extension": ".py",
   "mimetype": "text/x-python",
   "name": "python",
   "nbconvert_exporter": "python",
   "pygments_lexer": "ipython3",
   "version": "3.10.12"
  },
  "latex_envs": {
   "LaTeX_envs_menu_present": true,
   "autoclose": false,
   "autocomplete": true,
   "bibliofile": "biblio.bib",
   "cite_by": "apalike",
   "current_citInitial": 1,
   "eqLabelWithNumbers": true,
   "eqNumInitial": 1,
   "hotkeys": {
    "equation": "Ctrl-E",
    "itemize": "Ctrl-I"
   },
   "labels_anchors": false,
   "latex_user_defs": false,
   "report_style_numbering": false,
   "user_envs_cfg": false
  },
  "toc": {
   "base_numbering": 1,
   "nav_menu": {},
   "number_sections": true,
   "sideBar": true,
   "skip_h1_title": false,
   "title_cell": "Table of Contents",
   "title_sidebar": "Contents",
   "toc_cell": false,
   "toc_position": {
    "height": "637.614px",
    "left": "1085.3px",
    "top": "136.8px",
    "width": "354.725px"
   },
   "toc_section_display": true,
   "toc_window_display": true
  },
  "varInspector": {
   "cols": {
    "lenName": 16,
    "lenType": 16,
    "lenVar": 40
   },
   "kernels_config": {
    "python": {
     "delete_cmd_postfix": "",
     "delete_cmd_prefix": "del ",
     "library": "var_list.py",
     "varRefreshCmd": "print(var_dic_list())"
    },
    "r": {
     "delete_cmd_postfix": ") ",
     "delete_cmd_prefix": "rm(",
     "library": "var_list.r",
     "varRefreshCmd": "cat(var_dic_list()) "
    }
   },
   "types_to_exclude": [
    "module",
    "function",
    "builtin_function_or_method",
    "instance",
    "_Feature"
   ],
   "window_display": false
  }
 },
 "nbformat": 4,
 "nbformat_minor": 4
}
