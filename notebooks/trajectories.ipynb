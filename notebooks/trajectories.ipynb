{
 "cells": [
  {
   "cell_type": "code",
   "execution_count": null,
   "id": "e2911b29-0045-4a13-9a72-25c875dca315",
   "metadata": {},
   "outputs": [],
   "source": [
    "from flatland.trajectories.trajectories import Trajectory\n",
    "from flatland.evaluators.trajectory_evaluator import TrajectoryEvaluator\n",
    "from IPython.display import HTML, display, clear_output\n",
    "import ipywidgets as ipw\n",
    "from io import BytesIO\n",
    "import PIL\n",
    "from matplotlib import pyplot as plt\n",
    "from matplotlib.animation import FuncAnimation\n",
    "import time      \n",
    "from pathlib import Path\n",
    "from flatland.envs.persistence import RailEnvPersister\n",
    "import tqdm\n",
    "from flatland.utils.rendertools import RenderTool\n",
    "from IPython.display import display\n",
    "from PIL import Image"
   ]
  },
  {
   "cell_type": "markdown",
   "id": "d9158943-3448-43e5-96e6-aef36bf6d7f7",
   "metadata": {},
   "source": [
    "## Get episode data"
   ]
  },
  {
   "cell_type": "code",
   "execution_count": null,
   "id": "16402220-00df-46a0-b35a-9337e337dd4b",
   "metadata": {},
   "outputs": [],
   "source": [
    "!wget https://github.com/flatland-association/flatland-scenarios/raw/refs/heads/main/trajectories/FLATLAND_BENCHMARK_EPISODES_FOLDER_v2.zip -O /tmp/FLATLAND_BENCHMARK_EPISODES_FOLDER_v2.zip\n",
    "!mkdir -p /tmp/episodes\n",
    "!unzip -o /tmp/FLATLAND_BENCHMARK_EPISODES_FOLDER_v2.zip -d /tmp/episodes"
   ]
  },
  {
   "cell_type": "code",
   "execution_count": null,
   "id": "09d62a33-359d-4c17-83cd-5300925397ec",
   "metadata": {},
   "outputs": [],
   "source": [
    "!ls -al  \"/tmp/episodes/30x30 map/10_trains\""
   ]
  },
  {
   "cell_type": "markdown",
   "id": "67cedaf6-cc56-47b7-a3e2-7621a6a1b563",
   "metadata": {},
   "source": [
    "## Rendering"
   ]
  },
  {
   "cell_type": "code",
   "execution_count": null,
   "id": "00c76fbd-89b7-4aac-bcab-d36817dc6dad",
   "metadata": {},
   "outputs": [],
   "source": [
    "def render_env_to_image(flatland_renderer):\n",
    "    flatland_renderer.render_env(show=False, show_observations=False)\n",
    "    image = flatland_renderer.get_image()\n",
    "    return image\n",
    "\n",
    "def process_frames(frames, frames_per_second=1000/20):\n",
    "    dpi = 72\n",
    "    interval = frames_per_second # ms\n",
    "\n",
    "    plt.figure(figsize=(frames[0].shape[1]/dpi,frames[0].shape[0]/dpi),dpi=dpi)\n",
    "    plt.axis=('off')\n",
    "    plot = plt.imshow(frames[0])\n",
    "\n",
    "    def init():\n",
    "        pass\n",
    "\n",
    "    def update(i):\n",
    "        plot.set_data(frames[i])\n",
    "        return plot,\n",
    "\n",
    "    anim = FuncAnimation(fig=plt.gcf(),\n",
    "                      func=update,\n",
    "                      frames=len(frames),\n",
    "                      init_func=init,\n",
    "                      interval=interval,\n",
    "                      repeat=True,\n",
    "                      repeat_delay=20)\n",
    "    plt.close(anim._fig)\n",
    "    return anim"
   ]
  },
  {
   "cell_type": "markdown",
   "id": "826f47e3-c4bc-45de-9f0c-0a4da39f5264",
   "metadata": {},
   "source": [
    "## Run trajectory"
   ]
  },
  {
   "cell_type": "code",
   "execution_count": null,
   "id": "2230557b-1db3-49e2-aa92-3cd04137f77b",
   "metadata": {},
   "outputs": [],
   "source": [
    "data_dir = \"/tmp/episodes/30x30 map/10_trains\"\n",
    "ep_id = \"1649ef98-e3a8-4dd3-a289-bbfff12876ce\""
   ]
  },
  {
   "cell_type": "code",
   "execution_count": null,
   "id": "883340d7-652c-4fab-8949-ae481fa6f15a",
   "metadata": {},
   "outputs": [],
   "source": [
    "# run with snapshots\n",
    "trajectory = Trajectory(data_dir=data_dir, ep_id=ep_id)\n",
    "TrajectoryEvaluator(trajectory).evaluate(snapshot_interval=1)"
   ]
  },
  {
   "cell_type": "code",
   "execution_count": null,
   "id": "724ad7a0-4273-473b-b6c7-10978715f0f6",
   "metadata": {},
   "outputs": [],
   "source": [
    "!find \"$data_dir\" -name \"$ep_id\"\"_step*.pkl\" | sort -u | head"
   ]
  },
  {
   "cell_type": "code",
   "execution_count": null,
   "id": "9a31e0a7-54b0-42b5-8a27-7a86b99ae7b0",
   "metadata": {},
   "outputs": [],
   "source": [
    "snapshots = list((Path(data_dir) /\"serialised_state\").glob(f'{ep_id}_step*.pkl'))\n",
    "snapshots.sort()\n",
    "snapshots"
   ]
  },
  {
   "cell_type": "markdown",
   "id": "5db397e7-2624-414a-9176-32e41d17ae5e",
   "metadata": {},
   "source": [
    "## Animate trajectory"
   ]
  },
  {
   "cell_type": "code",
   "execution_count": null,
   "id": "aba1f110-4daf-4b52-b909-71c8dfbe6fc5",
   "metadata": {},
   "outputs": [],
   "source": [
    "frames = []\n",
    "for p in tqdm.tqdm(snapshots):\n",
    "    env, env_dict = RailEnvPersister.load_new(str(p))\n",
    "    env_renderer = RenderTool(env, gl=\"PGL\", show_debug=True)\n",
    "    # terribly slow!\n",
    "    rendered_image = render_env_to_image(env_renderer) \n",
    "    frames.append(rendered_image)"
   ]
  },
  {
   "cell_type": "code",
   "execution_count": null,
   "id": "ee0c5ab4-99ea-4bd2-af7e-3178aca5c8c2",
   "metadata": {},
   "outputs": [],
   "source": [
    "anim = process_frames(frames)\n",
    "HTML(anim.to_jshtml())"
   ]
  },
  {
   "cell_type": "code",
   "execution_count": null,
   "id": "d9c806fe-e832-4579-ba84-e4044ff9244e",
   "metadata": {},
   "outputs": [],
   "source": [
    "!python -m pip install ipyplot"
   ]
  },
  {
   "cell_type": "code",
   "execution_count": null,
   "id": "0934d136-0097-49da-8c69-8f4952851925",
   "metadata": {},
   "outputs": [],
   "source": [
    "import ipyplot\n",
    "\n",
    "ipyplot.plot_images(frames, img_width=400)"
   ]
  },
  {
   "cell_type": "markdown",
   "id": "a23cd0c9-9588-4049-b0d5-331056c1b486",
   "metadata": {},
   "source": [
    "## Inspect single steps"
   ]
  },
  {
   "cell_type": "code",
   "execution_count": null,
   "id": "6d1fa1dd-4b69-4bda-9804-a603e2b32c37",
   "metadata": {},
   "outputs": [],
   "source": [
    "def inspect(step):\n",
    "    p = Path(data_dir) /\"serialised_state\" / f'{ep_id}_step{step:04d}.pkl'\n",
    "    env, env_dict = RailEnvPersister.load_new(str(p))\n",
    "    \n",
    "    return env, env_dict\n",
    "\n",
    "def show_frame(env, dpi = 40):\n",
    "    env_renderer = RenderTool(env, gl=\"PGL\", show_debug=True)\n",
    "    env_renderer.render_env(show=False, show_observations=False)\n",
    "    frame = env_renderer.get_image()\n",
    "    plt.figure(figsize = (frame.shape[1]/dpi, frame.shape[0]/dpi))\n",
    "    plt.imshow(frame)"
   ]
  },
  {
   "cell_type": "code",
   "execution_count": null,
   "id": "1c00a7f2-342f-469a-93f4-6df7e9626e2a",
   "metadata": {},
   "outputs": [],
   "source": [
    "env, env_dict = inspect(25)\n",
    "show_frame(env)"
   ]
  },
  {
   "cell_type": "code",
   "execution_count": null,
   "id": "a96ba095-057a-4889-a998-5a8a002314b4",
   "metadata": {},
   "outputs": [],
   "source": [
    "env, env_dict = inspect(26)\n",
    "show_frame(env)"
   ]
  },
  {
   "cell_type": "code",
   "execution_count": null,
   "id": "d97273e5-cb9c-4327-92f9-227d3ea5b687",
   "metadata": {},
   "outputs": [],
   "source": [
    "agent.to_agent()"
   ]
  },
  {
   "cell_type": "code",
   "execution_count": null,
   "id": "2965f352-291c-437b-b336-70669d81e83e",
   "metadata": {},
   "outputs": [],
   "source": [
    "import pandas as pd\n",
    "pd.DataFrame.from_records([agent.to_agent()._asdict() for agent in env_dict[\"agents\"]])"
   ]
  },
  {
   "cell_type": "code",
   "execution_count": null,
   "id": "f9ef0a77-fc57-4bc2-b7e7-27b280a95b57",
   "metadata": {},
   "outputs": [],
   "source": [
    "trajectory.position_lookup(trajectory.read_trains_positions(), env_time=26, agent_id=0)"
   ]
  },
  {
   "cell_type": "code",
   "execution_count": null,
   "id": "0e84bf80-d6e6-4e2e-ae20-1b6be0395116",
   "metadata": {},
   "outputs": [],
   "source": [
    "trajectory.action_lookup(trajectory.read_actions(), env_time=26, agent_id=0)"
   ]
  }
 ],
 "metadata": {
  "kernelspec": {
   "display_name": "Python 3 (ipykernel)",
   "language": "python",
   "name": "python3"
  },
  "language_info": {
   "codemirror_mode": {
    "name": "ipython",
    "version": 3
   },
   "file_extension": ".py",
   "mimetype": "text/x-python",
   "name": "python",
   "nbconvert_exporter": "python",
   "pygments_lexer": "ipython3",
   "version": "3.12.9"
  }
 },
 "nbformat": 4,
 "nbformat_minor": 5
}
