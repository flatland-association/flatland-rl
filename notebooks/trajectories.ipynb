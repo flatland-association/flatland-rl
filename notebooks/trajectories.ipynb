{
 "cells": [
  {
   "cell_type": "code",
   "execution_count": null,
   "id": "4a38a8dd-88bc-482c-ad90-b0fa5ac768b1",
   "metadata": {},
   "outputs": [],
   "source": [
    "%load_ext autoreload\n",
    "%autoreload 2"
   ]
  },
  {
   "cell_type": "code",
   "execution_count": null,
   "id": "e2911b29-0045-4a13-9a72-25c875dca315",
   "metadata": {},
   "outputs": [],
   "source": [
    "from flatland.trajectories.trajectories import Trajectory\n",
    "from flatland.evaluators.trajectory_evaluator import TrajectoryEvaluator\n",
    "from IPython.display import HTML, display, clear_output\n",
    "import ipywidgets as ipw\n",
    "from io import BytesIO\n",
    "import PIL\n",
    "from matplotlib import pyplot as plt\n",
    "from matplotlib.animation import FuncAnimation\n",
    "import time      \n",
    "from pathlib import Path\n",
    "from flatland.envs.persistence import RailEnvPersister\n",
    "import tqdm\n",
    "from flatland.utils.rendertools import RenderTool\n",
    "from IPython.display import display\n",
    "from PIL import Image\n",
    "import pandas as pd\n",
    "import ast"
   ]
  },
  {
   "cell_type": "markdown",
   "id": "d9158943-3448-43e5-96e6-aef36bf6d7f7",
   "metadata": {},
   "source": [
    "## Get episode data"
   ]
  },
  {
   "cell_type": "code",
   "execution_count": null,
   "id": "16402220-00df-46a0-b35a-9337e337dd4b",
   "metadata": {},
   "outputs": [],
   "source": [
    "!wget https://github.com/flatland-association/flatland-scenarios/raw/refs/heads/main/trajectories/FLATLAND_BENCHMARK_EPISODES_FOLDER_v3.zip -O /tmp/FLATLAND_BENCHMARK_EPISODES_FOLDER_v3.zip\n",
    "!mkdir -p /tmp/episodes\n",
    "!unzip -o /tmp/FLATLAND_BENCHMARK_EPISODES_FOLDER_v3.zip -d /tmp/episodes"
   ]
  },
  {
   "cell_type": "code",
   "execution_count": null,
   "id": "09d62a33-359d-4c17-83cd-5300925397ec",
   "metadata": {},
   "outputs": [],
   "source": [
    "!ls -al  \"/tmp/episodes/30x30 map/10_trains\""
   ]
  },
  {
   "cell_type": "markdown",
   "id": "67cedaf6-cc56-47b7-a3e2-7621a6a1b563",
   "metadata": {},
   "source": [
    "## Rendering"
   ]
  },
  {
   "cell_type": "code",
   "execution_count": null,
   "id": "00c76fbd-89b7-4aac-bcab-d36817dc6dad",
   "metadata": {},
   "outputs": [],
   "source": [
    "# terribly slow - generate the images in the runner withe the same RenderTool althrough\n",
    "def create_frames(snapshots):\n",
    "    frames = []\n",
    "    for p in tqdm.tqdm(snapshots):\n",
    "        env, env_dict = RailEnvPersister.load_new(str(p))\n",
    "        env_renderer = RenderTool(env, gl=\"PGL\", show_debug=True)\n",
    "        env_renderer.render_env(show=False, show_observations=False)\n",
    "        frame = env_renderer.get_image()\n",
    "        frames.append(frame)\n",
    "\n",
    "def process_frames(frames, frames_per_second=1000/20):\n",
    "    dpi = 72\n",
    "    interval = frames_per_second # ms\n",
    "\n",
    "    plt.figure(figsize=(frames[0].shape[1]/dpi,frames[0].shape[0]/dpi),dpi=dpi)\n",
    "    plt.axis=('off')\n",
    "    plot = plt.imshow(frames[0])\n",
    "\n",
    "    def init():\n",
    "        pass\n",
    "\n",
    "    def update(i):\n",
    "        plot.set_data(frames[i])\n",
    "        return plot,\n",
    "\n",
    "    anim = FuncAnimation(fig=plt.gcf(),\n",
    "                      func=update,\n",
    "                      frames=len(frames),\n",
    "                      init_func=init,\n",
    "                      interval=interval,\n",
    "                      repeat=True,\n",
    "                      repeat_delay=20)\n",
    "    plt.close(anim._fig)\n",
    "    return anim"
   ]
  },
  {
   "cell_type": "markdown",
   "id": "826f47e3-c4bc-45de-9f0c-0a4da39f5264",
   "metadata": {},
   "source": [
    "## Run trajectory"
   ]
  },
  {
   "cell_type": "code",
   "execution_count": null,
   "id": "2230557b-1db3-49e2-aa92-3cd04137f77b",
   "metadata": {},
   "outputs": [],
   "source": [
    "# data_dir = \"/tmp/episodes/30x30 map/10_trains\"\n",
    "# ep_id = \"1649ef98-e3a8-4dd3-a289-bbfff12876ce\"\n",
    "\n",
    "# data_dir = \"/tmp/episodes/malfunction_deadlock_avoidance_heuristics/Test_02/Level_6\"\n",
    "# ep_id = \"Test_02_Level_6\"\n",
    "\n",
    "data_dir = \"/tmp/episodes/malfunction_deadlock_avoidance_heuristics/Test_01/Level_3\"\n",
    "ep_id = \"Test_01_Level_3\""
   ]
  },
  {
   "cell_type": "code",
   "execution_count": null,
   "id": "883340d7-652c-4fab-8949-ae481fa6f15a",
   "metadata": {},
   "outputs": [],
   "source": [
    "# run with snapshots\n",
    "trajectory = Trajectory(data_dir=data_dir, ep_id=ep_id)\n",
    "TrajectoryEvaluator(trajectory).evaluate(snapshot_interval=1)"
   ]
  },
  {
   "cell_type": "code",
   "execution_count": null,
   "id": "724ad7a0-4273-473b-b6c7-10978715f0f6",
   "metadata": {},
   "outputs": [],
   "source": [
    "!find \"$data_dir\" -name \"$ep_id\"\"_step*.pkl\" | sort -u | head"
   ]
  },
  {
   "cell_type": "code",
   "execution_count": null,
   "id": "9a31e0a7-54b0-42b5-8a27-7a86b99ae7b0",
   "metadata": {},
   "outputs": [],
   "source": [
    "snapshots = list((Path(data_dir) /\"serialised_state\").glob(f'{ep_id}_step*.pkl'))\n",
    "snapshots.sort()\n",
    "#snapshots"
   ]
  },
  {
   "cell_type": "markdown",
   "id": "5db397e7-2624-414a-9176-32e41d17ae5e",
   "metadata": {},
   "source": [
    "## Animate trajectory"
   ]
  },
  {
   "cell_type": "code",
   "execution_count": null,
   "id": "925b2214-924c-4935-8446-9dbbce7b07e2",
   "metadata": {},
   "outputs": [],
   "source": [
    "frames = create_frames(snapshots)"
   ]
  },
  {
   "cell_type": "code",
   "execution_count": null,
   "id": "ee0c5ab4-99ea-4bd2-af7e-3178aca5c8c2",
   "metadata": {},
   "outputs": [],
   "source": [
    "anim = process_frames(frames)\n",
    "HTML(anim.to_jshtml())"
   ]
  },
  {
   "cell_type": "code",
   "execution_count": null,
   "id": "d9c806fe-e832-4579-ba84-e4044ff9244e",
   "metadata": {},
   "outputs": [],
   "source": [
    "!python -m pip install ipyplot"
   ]
  },
  {
   "cell_type": "code",
   "execution_count": null,
   "id": "0934d136-0097-49da-8c69-8f4952851925",
   "metadata": {},
   "outputs": [],
   "source": [
    "import ipyplot\n",
    "\n",
    "ipyplot.plot_images(frames, img_width=400)"
   ]
  },
  {
   "cell_type": "markdown",
   "id": "f9d37069-b1cc-4161-a1f7-e1fcfacfce9b",
   "metadata": {},
   "source": [
    "## Aggregate stats"
   ]
  },
  {
   "cell_type": "code",
   "execution_count": null,
   "id": "b954f532-2016-4f85-ac42-06ce3b38d4f8",
   "metadata": {},
   "outputs": [],
   "source": [
    "dfs = []\n",
    "for env_time, snapshot in enumerate(snapshots):\n",
    "    env, env_dict = RailEnvPersister.load_new(str(snapshot))\n",
    "    records = [{\n",
    "        \"env_time\": env_time, \"source\": snapshot, **agent.to_agent()._asdict()\n",
    "    } for agent in env_dict[\"agents\"]]\n",
    "    for record in records:\n",
    "        record.update(record[\"speed_counter\"].to_dict())\n",
    "        record.update(record[\"malfunction_handler\"].to_dict())\n",
    "        record.update(record[\"action_saver\"].to_dict())\n",
    "    df = pd.DataFrame.from_records(records)\n",
    "    # print(df)\n",
    "    dfs.append(df)\n",
    "stats = pd.concat(dfs)\n",
    "stats[\"agent_id\"] = stats[\"handle\"]\n",
    "stats.set_index(['env_time', 'agent_id'], verify_integrity=True, inplace=True)\n",
    "stats"
   ]
  },
  {
   "cell_type": "code",
   "execution_count": null,
   "id": "65ed4d4b-78be-487b-ad8f-11c7627a9eb6",
   "metadata": {},
   "outputs": [],
   "source": [
    "trajectory_actions = trajectory.read_actions()\n",
    "trajectory_actions = trajectory_actions[(trajectory_actions[\"episode_id\"]==ep_id)]\n",
    "trajectory_actions.set_index(['env_time', 'agent_id'], verify_integrity=True, inplace=True)\n",
    "trajectory_actions"
   ]
  },
  {
   "cell_type": "code",
   "execution_count": null,
   "id": "8b4c79b3-2483-4a06-8ea1-c43c56e6c6cd",
   "metadata": {},
   "outputs": [],
   "source": [
    "trajectory_positions = trajectory.read_trains_positions()\n",
    "trajectory_positions = trajectory_positions[(trajectory_positions[\"episode_id\"]==ep_id)]\n",
    "trajectory_positions.set_index(['env_time', 'agent_id'], verify_integrity=True, inplace=True)\n",
    "trajectory_positions[\"direction\"] = trajectory_positions['position'].apply(lambda x: ast.literal_eval(x)[1])\n",
    "trajectory_positions[\"position\"] = trajectory_positions['position'].apply(lambda x: ast.literal_eval(x)[0])\n",
    "trajectory_positions"
   ]
  },
  {
   "cell_type": "code",
   "execution_count": null,
   "id": "0d91b4b4-62e9-46e5-823f-4fbb0890c98c",
   "metadata": {},
   "outputs": [],
   "source": [
    "df = trajectory_actions.join(trajectory_positions, lsuffix=\"_actions\").join(stats,lsuffix=\"_expected\")\n",
    "df.reset_index(inplace=True)\n",
    "df"
   ]
  },
  {
   "cell_type": "code",
   "execution_count": null,
   "id": "4d3f66c6-1431-4028-8c53-48ece8cb538b",
   "metadata": {},
   "outputs": [],
   "source": [
    "df[[\"position\", \"position_expected\"]].head(200)"
   ]
  },
  {
   "cell_type": "code",
   "execution_count": null,
   "id": "c436b2b6-e44f-4c60-b844-f2c7c9cff1ff",
   "metadata": {},
   "outputs": [],
   "source": [
    "df[[\"position\", \"position_expected\"]].head(200)"
   ]
  },
  {
   "cell_type": "code",
   "execution_count": null,
   "id": "94ae403b-6a9a-4e5f-b579-74e786e01088",
   "metadata": {},
   "outputs": [],
   "source": [
    "cond = df[\"agent_id\"]==6\n",
    "cond &= df[\"malfunction_down_counter\"]>0\n",
    "df[cond]"
   ]
  },
  {
   "cell_type": "markdown",
   "id": "a23cd0c9-9588-4049-b0d5-331056c1b486",
   "metadata": {},
   "source": [
    "## Inspect single steps"
   ]
  },
  {
   "cell_type": "code",
   "execution_count": null,
   "id": "6d1fa1dd-4b69-4bda-9804-a603e2b32c37",
   "metadata": {},
   "outputs": [],
   "source": [
    "def inspect(step):\n",
    "    p = Path(data_dir) /\"serialised_state\" / f'{ep_id}_step{step:04d}.pkl'\n",
    "    env, env_dict = RailEnvPersister.load_new(str(p))\n",
    "    \n",
    "    return env, env_dict\n",
    "\n",
    "def show_frame(env, dpi = 40):\n",
    "    env_renderer = RenderTool(env, gl=\"PGL\", show_debug=True)\n",
    "    env_renderer.render_env(show=False, show_observations=False)\n",
    "    frame = env_renderer.get_image()\n",
    "    print(frame.shape)\n",
    "    \n",
    "    plt.figure(figsize = (frame.shape[1]/dpi, frame.shape[0]/dpi))\n",
    "    plt.xticks ([ (i+0.5)/env.width * frame.shape[1] for i in range(env.width)], [ i for i in range(env.width)])\n",
    "    plt.yticks ([ (i+0.5)/env.height * frame.shape[0] for i in range(env.height)], [ i for i in range(env.height)])\n",
    "    plt.imshow(frame)"
   ]
  },
  {
   "cell_type": "code",
   "execution_count": null,
   "id": "5e03de0d-734e-49a2-a140-011b7d974802",
   "metadata": {},
   "outputs": [],
   "source": [
    "env0, env_dict0 = inspect(81)\n",
    "env0.agents[6]"
   ]
  },
  {
   "cell_type": "code",
   "execution_count": null,
   "id": "1c00a7f2-342f-469a-93f4-6df7e9626e2a",
   "metadata": {},
   "outputs": [],
   "source": [
    "env, env_dict = inspect(82)\n",
    "show_frame(env)"
   ]
  },
  {
   "cell_type": "code",
   "execution_count": null,
   "id": "3d19d2c0-234e-457c-94de-255cb3cc1a20",
   "metadata": {},
   "outputs": [],
   "source": [
    "for agent in env.agents:\n",
    "    print(f\"[{env._elapsed_steps}][{agent.handle}] {agent.position} {agent.direction}\")"
   ]
  },
  {
   "cell_type": "code",
   "execution_count": null,
   "id": "71ef4ab3-1334-4a95-8692-3929db3ad3da",
   "metadata": {},
   "outputs": [],
   "source": [
    "env.agents[6]"
   ]
  },
  {
   "cell_type": "code",
   "execution_count": null,
   "id": "9b81a444-0bcb-462c-b1ca-52a60791881c",
   "metadata": {},
   "outputs": [],
   "source": [
    "env.cur_episode"
   ]
  },
  {
   "cell_type": "code",
   "execution_count": null,
   "id": "1a1e958a-4d62-44e1-96ef-272adae2cb39",
   "metadata": {},
   "outputs": [],
   "source": [
    "edges = [((-1, 0), (-1, 0)), ((10, 23), (10, 23)), ((14, 8), (14, 8)), ((-1, 3), (-1, 3)), ((21, 11), (20, 11)), ((10, 14), (10, 14)), ((8, 12), (7, 12)), ((-1, 7), (-1, 7)), ((-1, 8), (-1, 8)), ((8, 14), (8, 14)), ((23, 11), (24, 11)), ((-1, 11), (-1, 11)), ((-1, 12), (-1, 12)), ((-1, 13), (-1, 13)), ((-1, 14), (-1, 14)), ((10, 2), (10, 2)), ((-1, 16), (-1, 16)), ((-1, 17), (-1, 17)), ((-1, 18), (-1, 18)), ((-1, 19), (-1, 19))]\n",
    "edges[10]"
   ]
  },
  {
   "cell_type": "code",
   "execution_count": null,
   "id": "0b575442-8715-49a0-8482-41dc3a7c60f1",
   "metadata": {},
   "outputs": [],
   "source": [
    "edges[17]"
   ]
  },
  {
   "cell_type": "code",
   "execution_count": null,
   "id": "a96ba095-057a-4889-a998-5a8a002314b4",
   "metadata": {},
   "outputs": [],
   "source": [
    "env2, env_dict2 = inspect(83)\n",
    "show_frame(env)"
   ]
  },
  {
   "cell_type": "code",
   "execution_count": null,
   "id": "62b4e4ef-6409-4200-a602-43c4ad4c310b",
   "metadata": {},
   "outputs": [],
   "source": [
    "print(env2.agents[6])"
   ]
  },
  {
   "cell_type": "code",
   "execution_count": null,
   "id": "72e20e57-c130-464f-ab1c-8ef9e87788f0",
   "metadata": {},
   "outputs": [],
   "source": [
    "env.agents[17]"
   ]
  },
  {
   "cell_type": "code",
   "execution_count": null,
   "id": "d97273e5-cb9c-4327-92f9-227d3ea5b687",
   "metadata": {},
   "outputs": [],
   "source": [
    "agent.to_agent()"
   ]
  }
 ],
 "metadata": {
  "kernelspec": {
   "display_name": "Python 3 (ipykernel)",
   "language": "python",
   "name": "python3"
  },
  "language_info": {
   "codemirror_mode": {
    "name": "ipython",
    "version": 3
   },
   "file_extension": ".py",
   "mimetype": "text/x-python",
   "name": "python",
   "nbconvert_exporter": "python",
   "pygments_lexer": "ipython3",
   "version": "3.12.9"
  }
 },
 "nbformat": 4,
 "nbformat_minor": 5
}
