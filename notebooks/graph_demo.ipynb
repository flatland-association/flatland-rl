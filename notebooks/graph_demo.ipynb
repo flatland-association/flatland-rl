{
 "cells": [
  {
   "cell_type": "code",
   "execution_count": null,
   "id": "9d1d124b-6398-4f0c-b5b3-40503769d6a0",
   "metadata": {},
   "outputs": [],
   "source": [
    "%load_ext autoreload\n",
    "%autoreload 2"
   ]
  },
  {
   "cell_type": "code",
   "execution_count": null,
   "id": "b987b9d1-b4eb-4bad-aaaf-4a280b471aa5",
   "metadata": {},
   "outputs": [],
   "source": [
    "import matplotlib.pyplot as plt\n",
    "import matplotlib.image as mpimg\n",
    "import matplotlib as mpl\n",
    "import networkx as nx\n",
    "import numpy as np\n",
    "\n",
    "from flatland.core.graph.graph_rendering import get_positions, add_flatland_styling\n",
    "from flatland.core.graph.graph_simplification import DecisionPointGraph\n",
    "from flatland.core.graph.grid_to_graph import GraphTransitionMap\n",
    "from flatland.env_generation.env_generator import env_generator\n",
    "from flatland.core.grid.rail_env_grid import RailEnvTransitions, RailEnvTransitionsEnum\n",
    "from flatland.core.transition_map import GridTransitionMap\n",
    "from flatland.utils.graphics_pil import PILSVG"
   ]
  },
  {
   "cell_type": "code",
   "execution_count": null,
   "id": "13ad1bbc-ce3e-415a-a3a7-43c62b3a438a",
   "metadata": {},
   "outputs": [],
   "source": [
    "mpl.rcParams['figure.max_open_warning'] = 0"
   ]
  },
  {
   "cell_type": "markdown",
   "id": "a636e837-14fb-4704-9680-d2f4301e1723",
   "metadata": {},
   "source": [
    "# Flatland Graph Demo\n",
    "This notebook illustrates the directed graph representation of Flatland."
   ]
  },
  {
   "cell_type": "markdown",
   "id": "c43a8f41-6320-43fd-b930-d45d0b063655",
   "metadata": {},
   "source": [
    "A Flatland (microscopic) topology can be represented by different kinds of graphs.\n",
    "The topology must reflect the possible paths through the rail network - it must not be possible to traverse a switch in the acute angle.\n",
    "With the help of the graph it is very easy to calculate the shortest connection from node A to node B. The API makes it possible to solve such tasks very efficiently. Moreover, the graph can be simplified so that only decision-relevant nodes remain in the graph and all other nodes are merged. A decision node is a node or flatland cell (track) that reasonably allows the agent to stop, go, or branch off. For straight track edges within a route, it makes little sense to wait in many situations. This is because the agent would block many resources, i.e., if an agent does not drive to the decision point: a cell before a crossing, the agent blocks the area in between. This makes little sense from an optimization point of view.\n",
    "\n",
    "Two (dual, equivalent) approaches are possible:\n",
    "- agents are positioned on the nodes\n",
    "- agents are positioned on the edges.\n",
    "The second approach makes it easier to visualize agents moving forward on edges. Hence, we choose the second approach.\n",
    "\n",
    "Our directed graph consists of nodes and edges:\n",
    "* A node in the graph is defined by position and direction. The position corresponds to the position of the underlying cell in the original flatland topology, and the direction corresponds to the direction in which an agent reaches the cell. Thus, the node is defined by (r, c, d), where c (column) is the index of the horizontal cell grid position, r (row) is the index of the vertical cell grid position, and d (direction) is the direction of cell entry. In the Flatland (2d grid), not every of the eight neighbor cells can be reached from every direction. Therefore, the entry direction information is key.\n",
    "* An edge is defined by \"from-node\" u and \"to-node\" v such that for the edge e = (u, v).  Edges reflect feasible transition from node u to node v. We can think of the suggestive notation $[u,v)$ in terms of resource occupation of the underlying cell, as the \"from-node\" refers to the underlying cell entered, and the \"to-node\" refers to the neighbor cell entered when the edge is left.\n",
    "\n",
    "The implementation uses networkX, so there are also many graph functions available.\n",
    "\n",
    "References:\n",
    "- Egli, Adrian. FlatlandGraphBuilder. https://github.com/aiAdrian/flatland_railway_extension/blob/e2b15bdd851ad32fb26c1a53f04621a3ca38fc00/flatland_railway_extension/FlatlandGraphBuilder.py\n",
    "- Nygren, E., Eichenberger, Ch., Frejinger, E. Scope Restriction for Scalable Real-Time Railway Rescheduling: An Exploratory Study. https://arxiv.org/abs/2305.03574\n"
   ]
  },
  {
   "cell_type": "markdown",
   "id": "7a3d83a0-cd6e-4a5d-8e34-e909bbc26252",
   "metadata": {},
   "source": [
    "### Create env"
   ]
  },
  {
   "cell_type": "code",
   "execution_count": null,
   "id": "1463999a-611c-416a-8cda-01d3c73e7965",
   "metadata": {},
   "outputs": [],
   "source": [
    "env, _, _ = env_generator()"
   ]
  },
  {
   "cell_type": "markdown",
   "id": "f584385a-aeca-43bf-8146-1c96334dc013",
   "metadata": {},
   "source": [
    "## Transform to directed graph\n",
    "The directed graph is an equivalent representation of the grid transition map. It reflects the railway topology, ie. the paths a train can take."
   ]
  },
  {
   "cell_type": "markdown",
   "id": "bbd5dae0-371c-4e57-bf1a-22b21c0cb2ef",
   "metadata": {},
   "source": [
    "`GraphTransitionMap` represents a Flatland 3 transition map by a directed graph.\n",
    "\n",
    "The grid transition map contains for all cells a set of pairs (heading at cell entry, heading at cell exit).\n",
    "  E.g. horizontal straight is {(E,E), (W,W)}.\n",
    "The directed graph's nodes are entry pins (cell + plus heading at entry).\n",
    "Edges always go from entry pin at one cell to entry pin of a neighboring cell.\n",
    "The outgoing heading for the grid transition map is the incoming heading at a neighboring cell.\n",
    "\n",
    "Incoming heading:\n",
    "```\n",
    "               S\n",
    "               ⌄\n",
    "               |\n",
    "       E   >---+---< W\n",
    "               |\n",
    "               ^\n",
    "               N\n",
    "```\n",
    "Outgoing heading (=incoming at neighbor cell):\n",
    "```\n",
    "               N (of cell-to-the-north)\n",
    "               ^\n",
    "               |\n",
    "       E   <---+---> E (of cell-to-the-east)\n",
    "(of cell-to-   |\n",
    " the-east)     ⌄\n",
    "               S (of cell-to-the-south)\n",
    "```"
   ]
  },
  {
   "cell_type": "code",
   "execution_count": null,
   "id": "5ebf1b3b-3002-4b6a-a034-795d4a9aa00b",
   "metadata": {},
   "outputs": [],
   "source": [
    "micro = GraphTransitionMap.grid_to_digraph(env.rail)"
   ]
  },
  {
   "cell_type": "code",
   "execution_count": null,
   "id": "a91787f4-dd28-4f6c-90bc-1c1feef28d17",
   "metadata": {},
   "outputs": [],
   "source": [
    "fig, ax = plt.subplots(1)\n",
    "micro1 = nx.subgraph_view(micro, filter_edge=lambda u, v: len(list(micro.successors(v))) == 1)\n",
    "nx.draw_networkx(micro1,\n",
    "                 pos=get_positions(micro1),\n",
    "                 ax=ax,\n",
    "                 node_size=2,\n",
    "                 with_labels=False,\n",
    "                 arrows=False\n",
    "                 )\n",
    "micro2 = nx.subgraph_view(micro, filter_node=lambda v: len(list(micro.successors(v))) == 2)\n",
    "nx.draw_networkx(micro2,\n",
    "                 pos=get_positions(micro2),\n",
    "                 ax=ax,\n",
    "                 node_size=8,\n",
    "                 node_color=\"red\",\n",
    "                 with_labels=False,\n",
    "                 )\n",
    "micro3 = nx.subgraph_view(micro, filter_edge=lambda u, v: len(list(micro.successors(v))) == 2)\n",
    "nx.draw_networkx(micro3,\n",
    "                 pos=get_positions(micro3),\n",
    "                 ax=ax,\n",
    "                 arrows=True,\n",
    "                 node_size=3,\n",
    "                 with_labels=False\n",
    "                 )\n",
    "\n",
    "add_flatland_styling(env, ax)\n",
    "\n",
    "ax.set_title('Railway Topology as Directed Graph')\n",
    "\n",
    "fig.set_size_inches(15,15)\n",
    "# fig.savefig('graph_demo.png', dpi=100)"
   ]
  },
  {
   "cell_type": "markdown",
   "id": "139b7915-65a8-463d-a6d1-3e76e5d0f180",
   "metadata": {},
   "source": [
    "### Deep Dive Basic Railway Elements\n",
    "Here are the 10 basic railway elements with their graph equivalent."
   ]
  },
  {
   "cell_type": "markdown",
   "id": "3ade0469-7211-4d6b-80c8-9a1a93d864ca",
   "metadata": {},
   "source": [
    "![title](./images/graph_to_digraph.drawio.png)"
   ]
  },
  {
   "cell_type": "code",
   "execution_count": null,
   "id": "3b8e8208-5e77-43ca-9c25-9a7f6c431984",
   "metadata": {},
   "outputs": [],
   "source": [
    "pil = PILSVG(1,1)"
   ]
  },
  {
   "cell_type": "code",
   "execution_count": null,
   "id": "1c8e4f1d-d824-445a-bf1b-72c2d7dc59b4",
   "metadata": {},
   "outputs": [],
   "source": [
    "assert len(set([e.value for e in RailEnvTransitionsEnum])) == 30"
   ]
  },
  {
   "cell_type": "code",
   "execution_count": null,
   "id": "5346e904-ac77-4227-bf47-ab9ba0f1c34c",
   "metadata": {},
   "outputs": [],
   "source": [
    "for i, e in enumerate(RailEnvTransitionsEnum):\n",
    "    transition = e.value\n",
    "\n",
    "    fig, axs = plt.subplots(1, 2)\n",
    "    # use 3 x 3 not to go -1\n",
    "    rail_map = np.array(\n",
    "        [[RailEnvTransitionsEnum.empty] * 3] +\n",
    "        [[RailEnvTransitionsEnum.empty, transition, RailEnvTransitionsEnum.empty]] +\n",
    "        [[RailEnvTransitionsEnum.empty] * 3], dtype=np.uint16)\n",
    "\n",
    "    gtm = GridTransitionMap(width=rail_map.shape[1], height=rail_map.shape[0], transitions=RailEnvTransitions())\n",
    "    gtm.grid = rail_map\n",
    "\n",
    "    img = pil.pil_rail[transition]\n",
    "\n",
    "    axs[0].imshow(img, extent=[0.5, 1.5, 0.5, 1.5])\n",
    "    axs[0].set_title(e.name)\n",
    "    axs[0].get_xaxis().set_visible(False)\n",
    "    axs[0].get_yaxis().set_visible(False)\n",
    "    \n",
    "    ax = axs[1]\n",
    "    ax.set_ylim(3 - 0.5, -0.5)\n",
    "    ax.tick_params(left=True, bottom=True, labelleft=True, labelbottom=True)\n",
    "    ax.set_xticks(np.arange(0, 3, 1))\n",
    "    ax.set_yticks(np.arange(0, 3, 1))\n",
    "    \n",
    "    img = np.fliplr(np.rot90(np.rot90(img))) # need to rotate back as we invert the y axis!\n",
    "    ax.imshow(img, extent=[0.5, 1.5, 0.5, 1.5])\n",
    "    ax.set_xticks(np.arange(-0.5, 2.5, 1), minor=True)\n",
    "    ax.set_yticks(np.arange(2.5, -0.5, -1), minor=True)\n",
    "    ax.set_xlim(-0.5,2.5)\n",
    "    \n",
    "    ax.tick_params(left=True, bottom=True, labelleft=True, labelbottom=True)\n",
    "    ax.grid(which=\"minor\")\n",
    "    ax.yaxis.set_inverted(True)  # inverted axis with autoscaling\n",
    "    ax.set_ylim(2.5,-0.5) # fix labels\n",
    "    g = GraphTransitionMap.grid_to_digraph(gtm)\n",
    "\n",
    "    nx.draw_networkx(\n",
    "         g,\n",
    "         pos=get_positions(g, delta=0.05),\n",
    "         ax=ax,\n",
    "         node_size=10,\n",
    "         with_labels=False,\n",
    "         #font_size=5,\n",
    "         arrows=True\n",
    "    )\n",
    "    ax.set_title(e.name)"
   ]
  },
  {
   "cell_type": "markdown",
   "id": "69a3135b-21bf-494d-9753-16e12d5b02e6",
   "metadata": {},
   "source": [
    "## Simplify Graph to Decision Point Graph"
   ]
  },
  {
   "cell_type": "markdown",
   "id": "02d862f3-c6e5-42d5-b132-e2a2c988ccf0",
   "metadata": {},
   "source": [
    "`DecisionPointGraph` is an overlay on top of Flatland 3 grid where consecutive cells where agents cannot choose between alternative paths are collapsed into a single edge.\n",
    "A reference to the underlying grid nodes is maintained.\n",
    "The edge length is the number of cells \"collapsed\" into this edge."
   ]
  },
  {
   "cell_type": "code",
   "execution_count": null,
   "id": "fd565193-6833-491b-9bc1-6d602bbc6f0d",
   "metadata": {},
   "outputs": [],
   "source": [
    "gtm = GraphTransitionMap(micro)\n",
    "decision_point_graph = DecisionPointGraph.fromGraphTransitionMap(gtm)\n",
    "collapsed = decision_point_graph.g"
   ]
  },
  {
   "cell_type": "markdown",
   "id": "045e2bfd-9fdd-4b3e-b245-71f3cbfbf19b",
   "metadata": {},
   "source": [
    "## Comparison"
   ]
  },
  {
   "cell_type": "code",
   "execution_count": null,
   "id": "b17fca6a-81dc-4346-ba59-ef610dbf5944",
   "metadata": {
    "editable": true,
    "slideshow": {
     "slide_type": ""
    },
    "tags": []
   },
   "outputs": [],
   "source": [
    "fig, axs = plt.subplots(1, 2)\n",
    "micro1 = nx.subgraph_view(micro, filter_edge=lambda u, v: len(list(micro.successors(v))) == 1)\n",
    "nx.draw_networkx(micro1,\n",
    "                 pos=get_positions(micro1),\n",
    "                 ax=axs[0],\n",
    "                 node_size=2,\n",
    "                 with_labels=False,\n",
    "                 arrows=False\n",
    "                 )\n",
    "micro2 = nx.subgraph_view(micro, filter_node=lambda v: len(list(micro.successors(v))) == 2)\n",
    "nx.draw_networkx(micro2,\n",
    "                 pos=get_positions(micro2),\n",
    "                 ax=axs[0],\n",
    "                 node_size=8,\n",
    "                 node_color=\"red\",\n",
    "                 with_labels=False,\n",
    "                 )\n",
    "micro3 = nx.subgraph_view(micro, filter_edge=lambda u, v: len(list(micro.successors(v))) == 2)\n",
    "nx.draw_networkx(micro3,\n",
    "                 pos=get_positions(micro3),\n",
    "                 ax=axs[0],\n",
    "                 arrows=True,\n",
    "                 node_size=1,\n",
    "                 with_labels=False\n",
    "                 )\n",
    "\n",
    "nx.draw_networkx(collapsed,\n",
    "                 pos=get_positions(collapsed),\n",
    "                 ax=axs[1],\n",
    "                 node_size=2,\n",
    "                 with_labels=False\n",
    "                 )\n",
    "add_flatland_styling(env, axs[1])\n",
    "add_flatland_styling(env, axs[0])\n",
    "\n",
    "axs[0].set_title('micro')\n",
    "axs[1].set_title('collapsed')\n",
    "\n",
    "fig.set_size_inches(30,15)\n",
    "# fig.savefig('graph_demo.png', dpi=100)"
   ]
  }
 ],
 "metadata": {
  "kernelspec": {
   "display_name": "Python 3 (ipykernel)",
   "language": "python",
   "name": "python3"
  },
  "language_info": {
   "codemirror_mode": {
    "name": "ipython",
    "version": 3
   },
   "file_extension": ".py",
   "mimetype": "text/x-python",
   "name": "python",
   "nbconvert_exporter": "python",
   "pygments_lexer": "ipython3",
   "version": "3.12.9"
  }
 },
 "nbformat": 4,
 "nbformat_minor": 5
}
