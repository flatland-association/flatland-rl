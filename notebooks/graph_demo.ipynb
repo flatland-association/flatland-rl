{
 "cells": [
  {
   "cell_type": "code",
   "execution_count": null,
   "id": "9d1d124b-6398-4f0c-b5b3-40503769d6a0",
   "metadata": {},
   "outputs": [],
   "source": [
    "%load_ext autoreload\n",
    "%autoreload 2"
   ]
  },
  {
   "cell_type": "code",
   "execution_count": null,
   "id": "b987b9d1-b4eb-4bad-aaaf-4a280b471aa5",
   "metadata": {},
   "outputs": [],
   "source": [
    "import matplotlib.pyplot as plt\n",
    "import matplotlib.image as mpimg\n",
    "import matplotlib as mpl\n",
    "import networkx as nx\n",
    "import numpy as np\n",
    "\n",
    "from flatland.core.graph.graph_rendering import get_positions, add_flatland_styling\n",
    "from flatland.core.graph.graph_simplification import DecisionPointGraph\n",
    "from flatland.core.graph.grid_to_graph import GraphTransitionMap\n",
    "from flatland.envs.rail_env_utils import env_creator\n",
    "from flatland.core.grid.rail_env_grid import RailEnvTransitions, RailEnvTransitionsEnum\n",
    "from flatland.core.transition_map import GridTransitionMap\n",
    "from flatland.utils.graphics_pil import PILSVG"
   ]
  },
  {
   "cell_type": "code",
   "execution_count": null,
   "id": "13ad1bbc-ce3e-415a-a3a7-43c62b3a438a",
   "metadata": {},
   "outputs": [],
   "source": [
    "mpl.rcParams['figure.max_open_warning'] = 0"
   ]
  },
  {
   "cell_type": "markdown",
   "id": "a636e837-14fb-4704-9680-d2f4301e1723",
   "metadata": {},
   "source": [
    "# Flatland Graph Demo\n",
    "This notebook illustrates the directed graph representation of Flatland."
   ]
  },
  {
   "cell_type": "markdown",
   "id": "7a3d83a0-cd6e-4a5d-8e34-e909bbc26252",
   "metadata": {},
   "source": [
    "### Create env"
   ]
  },
  {
   "cell_type": "code",
   "execution_count": null,
   "id": "1463999a-611c-416a-8cda-01d3c73e7965",
   "metadata": {},
   "outputs": [],
   "source": [
    "env = env_creator()"
   ]
  },
  {
   "cell_type": "markdown",
   "id": "f584385a-aeca-43bf-8146-1c96334dc013",
   "metadata": {},
   "source": [
    "### Transform to directed graph and simplify"
   ]
  },
  {
   "cell_type": "code",
   "execution_count": null,
   "id": "5ebf1b3b-3002-4b6a-a034-795d4a9aa00b",
   "metadata": {},
   "outputs": [],
   "source": [
    "micro = GraphTransitionMap.grid_to_digraph(env.rail)\n",
    "gtm = GraphTransitionMap(micro)\n",
    "decision_point_graph = DecisionPointGraph.fromGraphTransitionMap(gtm)\n",
    "collapsed = decision_point_graph.g"
   ]
  },
  {
   "cell_type": "markdown",
   "id": "045e2bfd-9fdd-4b3e-b245-71f3cbfbf19b",
   "metadata": {},
   "source": [
    "### Render both"
   ]
  },
  {
   "cell_type": "code",
   "execution_count": null,
   "id": "b17fca6a-81dc-4346-ba59-ef610dbf5944",
   "metadata": {
    "editable": true,
    "slideshow": {
     "slide_type": ""
    },
    "tags": []
   },
   "outputs": [],
   "source": [
    "fig, axs = plt.subplots(1, 2)\n",
    "micro1 = nx.subgraph_view(micro, filter_edge=lambda u, v: len(list(micro.successors(v))) == 1)\n",
    "nx.draw_networkx(micro1,\n",
    "                 pos=get_positions(micro1),\n",
    "                 ax=axs[0],\n",
    "                 node_size=2,\n",
    "                 with_labels=False,\n",
    "                 arrows=False\n",
    "                 )\n",
    "micro2 = nx.subgraph_view(micro, filter_node=lambda v: len(list(micro.successors(v))) == 2)\n",
    "nx.draw_networkx(micro2,\n",
    "                 pos=get_positions(micro2),\n",
    "                 ax=axs[0],\n",
    "                 node_size=8,\n",
    "                 node_color=\"red\",\n",
    "                 with_labels=False,\n",
    "                 )\n",
    "micro3 = nx.subgraph_view(micro, filter_edge=lambda u, v: len(list(micro.successors(v))) == 2)\n",
    "nx.draw_networkx(micro3,\n",
    "                 pos=get_positions(micro3),\n",
    "                 ax=axs[0],\n",
    "                 arrows=True,\n",
    "                 node_size=1,\n",
    "                 with_labels=False\n",
    "                 )\n",
    "\n",
    "nx.draw_networkx(collapsed,\n",
    "                 pos=get_positions(collapsed),\n",
    "                 ax=axs[1],\n",
    "                 node_size=2,\n",
    "                 with_labels=False\n",
    "                 )\n",
    "add_flatland_styling(env, axs[1])\n",
    "add_flatland_styling(env, axs[0])\n",
    "\n",
    "axs[0].set_title('micro')\n",
    "axs[1].set_title('collapsed')\n",
    "\n",
    "fig.set_size_inches(30,15)\n",
    "# fig.savefig('graph_demo.png', dpi=100)"
   ]
  },
  {
   "cell_type": "markdown",
   "id": "8b6e8f47-00f5-4450-b1e4-937155d4ab02",
   "metadata": {},
   "source": [
    "### Deep Dive Basic Railway Elements"
   ]
  },
  {
   "cell_type": "code",
   "execution_count": null,
   "id": "e6e0b7c2-1042-43e1-991a-5129c1b31e58",
   "metadata": {},
   "outputs": [],
   "source": [
    "pil = PILSVG(1,1)"
   ]
  },
  {
   "cell_type": "code",
   "execution_count": null,
   "id": "af132fe3-397a-4fe3-ba83-db23b22eb642",
   "metadata": {},
   "outputs": [],
   "source": [
    "assert len(set([e.value for e in RailEnvTransitionsEnum])) == 30"
   ]
  },
  {
   "cell_type": "code",
   "execution_count": null,
   "id": "11dc4160-5578-46ff-8c1b-12de52ef55dd",
   "metadata": {
    "editable": true,
    "slideshow": {
     "slide_type": ""
    },
    "tags": []
   },
   "outputs": [],
   "source": [
    "for i, e in enumerate(RailEnvTransitionsEnum):\n",
    "    transition = e.value\n",
    "\n",
    "    fig, axs = plt.subplots(1)\n",
    "    # use 3 x 3 not to go -1\n",
    "    rail_map = np.array(\n",
    "        [[RailEnvTransitionsEnum.empty] * 3] +\n",
    "        [[RailEnvTransitionsEnum.empty, transition, RailEnvTransitionsEnum.empty]] +\n",
    "        [[RailEnvTransitionsEnum.empty] * 3], dtype=np.uint16)\n",
    "\n",
    "    gtm = GridTransitionMap(width=rail_map.shape[1], height=rail_map.shape[0], transitions=RailEnvTransitions())\n",
    "    gtm.grid = rail_map\n",
    "    ax = axs #[i]\n",
    "    ax.set_ylim(3 - 0.5, -0.5)\n",
    "    ax.tick_params(left=True, bottom=True, labelleft=True, labelbottom=True)\n",
    "    ax.set_xticks(np.arange(0, 3, 1))\n",
    "    ax.set_yticks(np.arange(0, 3, 1))\n",
    "    img = pil.pil_rail[transition]\n",
    "    img = np.fliplr(np.rot90(np.rot90(img)))\n",
    "    ax.imshow(img, extent=[0.5, 1.5, 0.5, 1.5])\n",
    "    ax.set_xticks(np.arange(-0.5, 2.5, 1), minor=True)\n",
    "    ax.set_yticks(np.arange(-0.5, 2.5, 1), minor=True)\n",
    "    ax.set_xlim(-0.5,2.5)\n",
    "    ax.set_ylim(-0.5,2.5)\n",
    "    ax.tick_params(left=True, bottom=True, labelleft=True, labelbottom=True)\n",
    "    ax.grid(which=\"minor\")\n",
    "    g = GraphTransitionMap.grid_to_digraph(gtm)\n",
    "\n",
    "    nx.draw_networkx(\n",
    "         g,\n",
    "         pos=get_positions(g, delta=0.05),\n",
    "         ax=ax,\n",
    "         node_size=10,\n",
    "         with_labels=False,\n",
    "         #font_size=5,\n",
    "         arrows=True\n",
    "    )\n",
    "    ax.set_title(e)"
   ]
  }
 ],
 "metadata": {
  "kernelspec": {
   "display_name": "Python 3 (ipykernel)",
   "language": "python",
   "name": "python3"
  },
  "language_info": {
   "codemirror_mode": {
    "name": "ipython",
    "version": 3
   },
   "file_extension": ".py",
   "mimetype": "text/x-python",
   "name": "python",
   "nbconvert_exporter": "python",
   "pygments_lexer": "ipython3",
   "version": "3.10.15"
  }
 },
 "nbformat": 4,
 "nbformat_minor": 5
}
