{
 "cells": [
  {
   "cell_type": "markdown",
   "metadata": {},
   "source": [
    "# Unordered Close Following Agents\n",
    "\n",
    "Agent-Close Following is an edge cose in mutual exclusive resource allocation, i.e. the same resource can be hold by at most one agent at the same time.\n",
    "In Flatland, grid cell is a resource, and only one agent can be in a grid cell.\n",
    "The only exception are level-free crossings, where there is horizontal and a vertical resource at the same grid cell.\n",
    "\n",
    "The naive solution to this problem is to iterate among all agents, verify that their targeted resource is not occupied, if so allow the movement, else stop the agent.\n",
    "However, when agents follow each other in chain of cells, different agent orderings lead to different decisions under this algorithm.\n",
    "\n",
    "`MotionCheck` ensures:\n",
    "- no swaps (i.e. collisions)\n",
    "- no two agents must be allowed to move to the same target cell (resource)\n",
    "- if all agents in the chain run at the same speeed, all can run (behaviour not depending on agent indices)\n"
   ]
  },
  {
   "cell_type": "code",
   "execution_count": null,
   "metadata": {},
   "outputs": [],
   "source": [
    "%load_ext autoreload\n",
    "%autoreload 2\n",
    "from IPython import display \n",
    "display.display(display.HTML(\"<style>.container { width:95% !important; }</style>\"))"
   ]
  },
  {
   "cell_type": "code",
   "execution_count": null,
   "metadata": {},
   "outputs": [],
   "source": [
    "import networkx as nx\n",
    "import PIL\n",
    "from IPython import display\n",
    "import time\n",
    "from matplotlib import pyplot as plt\n",
    "import numpy as np\n",
    "import sys\n",
    "sys.executable"
   ]
  },
  {
   "cell_type": "code",
   "execution_count": null,
   "metadata": {},
   "outputs": [],
   "source": [
    "from flatland.envs import malfunction_generators as malgen\n",
    "from flatland.envs.agent_utils import EnvAgent\n",
    "from flatland.envs import rail_generators as rail_gen\n",
    "from flatland.envs import agent_chains as ac\n",
    "from flatland.envs.rail_env import RailEnv, RailEnvActions\n",
    "from flatland.envs.persistence import RailEnvPersister\n",
    "from flatland.utils.rendertools import RenderTool\n",
    "from flatland.utils import env_edit_utils as eeu\n",
    "from flatland.utils import jupyter_utils as ju\n",
    "from tests.test_agent_chains import create_test_agents2"
   ]
  },
  {
   "cell_type": "code",
   "execution_count": null,
   "metadata": {},
   "outputs": [],
   "source": [
    "agents = {\n",
    "    # stopped chain\n",
    "    0: ((1, 0), (1, 1)),\n",
    "    1: ((1, 1), (1, 2)),\n",
    "    2: ((1, 2), (1, 3)),\n",
    "    3: ((1, 3), (1, 3)),\n",
    "\n",
    "    # running chain\n",
    "    4: ((2, 0), (2, 1)),\n",
    "    5: ((2, 1), (2, 2)),\n",
    "    6: ((2, 2), (2, 3)),\n",
    "    7: ((2, 3), (2, 4)),\n",
    "\n",
    "    # stopped short chain\n",
    "    8: ((3, 0), (3, 1)),\n",
    "    9: ((3, 1), (3, 1)),\n",
    "\n",
    "    # swap\n",
    "    10: ((4, 1), (4, 2)),\n",
    "    11: ((4, 2), (4, 1)),\n",
    "\n",
    "    # mid-chain stop\n",
    "    12: ((5, 1), (5, 2)),\n",
    "    13: ((5, 2), (5, 3)),\n",
    "    14: ((5, 3), (5, 2)),\n",
    "    15: ((6, 1), (6, 2)),\n",
    "    16: ((6, 2), (6, 3)),\n",
    "    17: ((6, 3), (6, 4)),\n",
    "    18: ((6, 4), (6, 4)),\n",
    "    19: ((6, 5), (6, 6)),\n",
    "    20: ((6, 6), (6, 7)),\n",
    "\n",
    "    # mid-chain swap\n",
    "    21: ((7, 1), (7, 2)),\n",
    "    22: ((7, 2), (7, 3)),\n",
    "    23: ((7, 3), (7, 4)),\n",
    "    24: ((7, 4), (7, 3)),\n",
    "    25: ((7, 5), (7, 4)),\n",
    "    26: ((7, 6), (7, 5)),\n",
    "\n",
    "    # land on same\n",
    "    27: ((8, 1), (8, 2)),\n",
    "    28: ((8, 3), (8, 2)),\n",
    "\n",
    "    # chains onto same\n",
    "    29: ((9, 1), (9, 2)),\n",
    "    30: ((9, 2), (9, 3)),\n",
    "    31: ((9, 3), (9, 4)),\n",
    "    32: ((9, 5), (9, 4)),\n",
    "    33: ((9, 6), (9, 5)),\n",
    "    34: ((9, 7), (9, 6)),\n",
    "\n",
    "    # 3-way same\n",
    "    35: ((10, 1), (10, 2)),\n",
    "    36: ((10, 3), (10, 2)),\n",
    "    37: ((11, 2), (10, 2)),\n",
    "\n",
    "    # tee\n",
    "    38: ((12, 1), (12, 2)),\n",
    "    39: ((12, 2), (12, 3)),\n",
    "    40: ((12, 3), (12, 4)),\n",
    "    41: ((13, 3), (12, 3)),\n",
    "\n",
    "    # tree\n",
    "    42: ((14, 1), (14, 2)),\n",
    "    43: ((14, 2), (14, 3)),\n",
    "    44: ((14, 3), (14, 4)),\n",
    "    45: ((15, 3), (14, 3)),\n",
    "    46: ((15, 2), (15, 3)),\n",
    "    47: ((16, 2), (15, 3)),\n",
    "    48: ((18, 3), (17, 3)),\n",
    "    49: ((18, 2), (18, 3)),\n",
    "    50: ((19, 2), (18, 3)),\n",
    "    51: ((17, 1), (17, 2)),\n",
    "    52: ((17, 2), (17, 3)),\n",
    "    53: ((17, 3), (17, 4)),\n",
    "}\n",
    "expected = {0: False, 1: False, 2: False, 3: False, 4: True, 5: True, 6: True, 7: True, 8: False, 9: False, 10: False, 11: False, 12: False, 13: False,\n",
    "            14: False, 15: False, 16: False, 17: False, 18: False, 19: True, 20: True, 21: False, 22: False, 23: False, 24: False, 25: False, 26: False,\n",
    "            27: True, 28: False, 29: True, 30: True, 31: True, 32: False, 33: False, 34: False, 35: True, 36: False, 37: False, 38: True, 39: True,\n",
    "            40: True, 41: False, 42: True, 43: True, 44: True, 45: False, 46: False, 47: False, 48: True, 49: True, 50: False, 51: False, 52: False,\n",
    "            53: True}"
   ]
  },
  {
   "cell_type": "code",
   "execution_count": null,
   "metadata": {},
   "outputs": [],
   "source": [
    "G = nx.DiGraph()\n",
    "edge_labels = {}\n",
    "edge_colors_map = {}\n",
    "node_color_map = {}\n",
    "for i, (u,v) in agents.items():\n",
    "    G.add_edge(u,v)\n",
    "    edge_labels[(u,v)]=i\n",
    "    edge_colors_map[(u,v)]= \"red\" if not expected[i] else \"blue\"\n",
    "    node_color_map[u] = \"red\" if not expected[i] else \"blue\""
   ]
  },
  {
   "cell_type": "code",
   "execution_count": null,
   "metadata": {},
   "outputs": [],
   "source": [
    "pos = {n:n for n in G.nodes}"
   ]
  },
  {
   "cell_type": "code",
   "execution_count": null,
   "metadata": {},
   "outputs": [],
   "source": [
    "node_color = [node_color_map[n] if n in node_color_map else \"blue\" for n in G.nodes]"
   ]
  },
  {
   "cell_type": "code",
   "execution_count": null,
   "metadata": {},
   "outputs": [],
   "source": [
    "edge_colors = [edge_colors_map[e] for e in G.edges]"
   ]
  },
  {
   "cell_type": "code",
   "execution_count": null,
   "metadata": {},
   "outputs": [],
   "source": [
    "fig, ax = plt.subplots(figsize=(30, 10))\n",
    "nx.draw(G, pos=pos, with_labels=True,ax=ax, edge_color=edge_colors,connectionstyle=\"arc3,rad=0.1\",arrowsize=20, node_color=node_color)\n",
    "nx.draw_networkx_edge_labels(G, pos=pos, edge_labels=edge_labels, font_size=15)\n",
    "plt.show()"
   ]
  },
  {
   "cell_type": "markdown",
   "metadata": {},
   "source": [
    "Arrows represent the desired movement of agents.\n",
    "\n",
    "Edges got from the agent's current position (cell as row-column pair) to the desired target position, and the edge label is the agent ID. \n",
    "\n",
    "Self-loops represent agents not wanting to move - additionally the corresponding node is also marked red.\n",
    "\n",
    "Red edges represent agents which are stopped by motion check or which do not want to move (if self-loop) - the corresponding start cell is also marked red.\n",
    "\n"
   ]
  }
 ],
 "metadata": {
  "hide_input": false,
  "kernelspec": {
   "display_name": "Python 3 (ipykernel)",
   "language": "python",
   "name": "python3"
  },
  "language_info": {
   "codemirror_mode": {
    "name": "ipython",
    "version": 3
   },
   "file_extension": ".py",
   "mimetype": "text/x-python",
   "name": "python",
   "nbconvert_exporter": "python",
   "pygments_lexer": "ipython3",
   "version": "3.12.9"
  },
  "latex_envs": {
   "LaTeX_envs_menu_present": true,
   "autoclose": false,
   "autocomplete": true,
   "bibliofile": "biblio.bib",
   "cite_by": "apalike",
   "current_citInitial": 1,
   "eqLabelWithNumbers": true,
   "eqNumInitial": 1,
   "hotkeys": {
    "equation": "Ctrl-E",
    "itemize": "Ctrl-I"
   },
   "labels_anchors": false,
   "latex_user_defs": false,
   "report_style_numbering": false,
   "user_envs_cfg": false
  },
  "toc": {
   "base_numbering": 1,
   "nav_menu": {},
   "number_sections": true,
   "sideBar": true,
   "skip_h1_title": false,
   "title_cell": "Table of Contents",
   "title_sidebar": "Contents",
   "toc_cell": false,
   "toc_position": {},
   "toc_section_display": true,
   "toc_window_display": false
  },
  "varInspector": {
   "cols": {
    "lenName": 16,
    "lenType": 16,
    "lenVar": 40
   },
   "kernels_config": {
    "python": {
     "delete_cmd_postfix": "",
     "delete_cmd_prefix": "del ",
     "library": "var_list.py",
     "varRefreshCmd": "print(var_dic_list())"
    },
    "r": {
     "delete_cmd_postfix": ") ",
     "delete_cmd_prefix": "rm(",
     "library": "var_list.r",
     "varRefreshCmd": "cat(var_dic_list()) "
    }
   },
   "types_to_exclude": [
    "module",
    "function",
    "builtin_function_or_method",
    "instance",
    "_Feature"
   ],
   "window_display": false
  },
  "vscode": {
   "interpreter": {
    "hash": "70979abb2b4cf643ffbf82a01ff501989841ea76ccebf830b333529973279a98"
   }
  },
  "widgets": {
   "application/vnd.jupyter.widget-state+json": {
    "state": {
     "89c014733a054ce7ab98b175b8a5bcf5": {
      "model_module": "ipycanvas",
      "model_module_version": "^0.4.1",
      "model_name": "CanvasModel",
      "state": {
       "_dom_classes": [],
       "_model_module": "ipycanvas",
       "_model_module_version": "^0.4.1",
       "_model_name": "CanvasModel",
       "_view_count": null,
       "_view_module": "ipycanvas",
       "_view_module_version": "^0.4.1",
       "_view_name": "CanvasView",
       "image_data": null,
       "layout": "IPY_MODEL_c1b255e12efc45308a00213767bc1ed0",
       "size": [
        600,
        300
       ],
       "sync_image_data": false
      }
     },
     "c1b255e12efc45308a00213767bc1ed0": {
      "model_module": "@jupyter-widgets/base",
      "model_module_version": "1.2.0",
      "model_name": "LayoutModel",
      "state": {
       "_model_module": "@jupyter-widgets/base",
       "_model_module_version": "1.2.0",
       "_model_name": "LayoutModel",
       "_view_count": null,
       "_view_module": "@jupyter-widgets/base",
       "_view_module_version": "1.2.0",
       "_view_name": "LayoutView",
       "align_content": null,
       "align_items": null,
       "align_self": null,
       "border": null,
       "bottom": null,
       "display": null,
       "flex": null,
       "flex_flow": null,
       "grid_area": null,
       "grid_auto_columns": null,
       "grid_auto_flow": null,
       "grid_auto_rows": null,
       "grid_column": null,
       "grid_gap": null,
       "grid_row": null,
       "grid_template_areas": null,
       "grid_template_columns": null,
       "grid_template_rows": null,
       "height": "300px",
       "justify_content": null,
       "justify_items": null,
       "left": null,
       "margin": null,
       "max_height": null,
       "max_width": null,
       "min_height": null,
       "min_width": null,
       "object_fit": null,
       "object_position": null,
       "order": null,
       "overflow": null,
       "overflow_x": null,
       "overflow_y": null,
       "padding": null,
       "right": null,
       "top": null,
       "visibility": null,
       "width": "600px"
      }
     }
    },
    "version_major": 2,
    "version_minor": 0
   }
  }
 },
 "nbformat": 4,
 "nbformat_minor": 4
}
