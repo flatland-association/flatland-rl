{
 "cells": [
  {
   "cell_type": "markdown",
   "metadata": {},
   "source": [
    "# Unordered Close Following Agents\n",
    "\n",
    "May of you will be aware that Flatland agents cannot follow each other close behind, unless they are in agent index order, ie Agent 1 can follow Agent 0, but Agent 0 cannot follow Agent 1, unless it leaves a gap of one cell.\n",
    "\n",
    "We have now provided an update which removes this restriction.  It's currently in the branch `323_unordered_cell_locking`.  It means that agents (moving at the same speed) can now always follow each other without leaving a gap.\n",
    "\n",
    "**Why is this a big deal?  Or even a deal?**\n",
    "\n",
    "Many of the OR solutions took advantage of it to send agents in the \"correct\" index order so that they could make better use of the available space, but we believe it's harder for RL solutions to do the same.\n",
    "\n",
    "Think of a chain of agents, in random order, moving in the same direction. For any adjacent pair of agents, there's a 0.5 chance that it is in index order, ie index(A) < index(B) where A is in front of B.  So roughly half the adjacent pairs will need to leave a gap and half won't, and the chain of agents will typically be one-third empty space.  By removing the restriction, we can keep the agents close together and so move up to 50% more agents through a junction or segment of rail in the same number of steps.\n",
    "\n",
    "**What difference does it make in practice?**\n",
    "\n",
    "We have run a few tests and it does seem to slightly increase the training performance of existing RL models.\n",
    "\n",
    "**Does the order not matter at all now?**\n",
    "\n",
    "Well, yes, a bit.  We are still using index order to resolve conflicts between two agents trying to move into the same spot, for example, head-on collisions, or agents \"merging\" at junctions.\n",
    "\n",
    "**This sounds boring.  Is there anything interesting about it at all?**\n",
    "\n",
    "Thanks for reading this far... It was quite interesting to implement.  Think of a chain of moving agents in reverse index order.  The `env.step()` iterates them from the back of the chain (lowest index) to the front, so when it gets to the front agent, it's already processed all the others.  Now suppose the front agent has decided to stop, or is blocked.  The env needs to propagate that back through the chain of agents, and none of them can in fact move.  You can see how this might get a bit more complicated with \"trees\" of merging agents etc. And how do we identify a chain at all?\n",
    "\n",
    "We did it by storing an agent's position as a graph node, and a movement as a directed edge, using the NetworkX graph library.  We create an empty graph for each step, and add the agents into the graph in order, using their (row, column) location for the node.  Stationary agents get a self-loop.  Agents in an adjacent chain naturally get \"connected up\".  We then use some NetworkX algorithms:\n",
    "- `weakly_connected_components` to find the chains.  \n",
    "- `selfloop_edges` to find the stopped agents\n",
    "- `dfs_postorder_nodes` to traverse a chain\n",
    "- `simple_cycles` to find agents colliding head-on \n",
    "\n",
    "We can also display a NetworkX graph very simply, but neatly, using GraphViz (see below).\n",
    "\n",
    "**Does it run faster / slower?**\n",
    "\n",
    "It seems to make almost no difference to the speed.\n",
    "\n",
    "**How do you handle agents entering the env / spawning?**\n",
    "\n",
    "For an agent in state READY_TO_DEPART we use a dummy cell  of `(-1, agent_id)`.  This means that if several agents try to enter the env in the same cell and in the same step, the agent with the lowest index will get to start first.  It uses the same rule as above, the agent with the lowest index gets to enter an empty cell ahead of any others.\n",
    "\n",
    "\n",
    "\n",
    "\n",
    "\n",
    "\n",
    "\n"
   ]
  },
  {
   "cell_type": "code",
   "execution_count": null,
   "metadata": {},
   "outputs": [],
   "source": [
    "%load_ext autoreload\n",
    "%autoreload 2\n",
    "from IPython import display \n",
    "display.display(display.HTML(\"<style>.container { width:95% !important; }</style>\"))"
   ]
  },
  {
   "cell_type": "code",
   "execution_count": null,
   "metadata": {},
   "outputs": [],
   "source": [
    "import networkx as nx\n",
    "import PIL\n",
    "from IPython import display\n",
    "import time\n",
    "from matplotlib import pyplot as plt\n",
    "import numpy as np\n",
    "import sys\n",
    "sys.executable"
   ]
  },
  {
   "cell_type": "code",
   "execution_count": null,
   "metadata": {},
   "outputs": [],
   "source": [
    "from flatland.envs import malfunction_generators as malgen\n",
    "from flatland.envs.agent_utils import EnvAgent\n",
    "from flatland.envs import rail_generators as rail_gen\n",
    "from flatland.envs import agent_chains as ac\n",
    "from flatland.envs.rail_env import RailEnv, RailEnvActions\n",
    "from flatland.envs.persistence import RailEnvPersister\n",
    "from flatland.utils.rendertools import RenderTool\n",
    "from flatland.utils import env_edit_utils as eeu\n",
    "from flatland.utils import jupyter_utils as ju"
   ]
  },
  {
   "cell_type": "markdown",
   "metadata": {},
   "source": [
    "## Load the test cases\n",
    "\n",
    "For now the test cases are in the same file as the code.  First we display them without detecting collisions / conflicts, just the motions.  "
   ]
  },
  {
   "cell_type": "code",
   "execution_count": null,
   "metadata": {},
   "outputs": [],
   "source": [
    "omc = ac.MotionCheck()\n",
    "ac.create_test_agents2(omc)\n",
    "rv = ac.render(omc)\n",
    "print(type(rv))"
   ]
  },
  {
   "cell_type": "markdown",
   "metadata": {},
   "source": [
    "## Detect conflicts and re-render\n",
    "\n",
    "We colour the nodes to indicate conflicts:\n",
    "- Red means stopped\n",
    "- Purple means a swap-over conflict (ie head-on collision where the agents are adjacent)\n",
    "- Blue means an empty cell where two or more agents are trying to move in.\n",
    "- Magenta means an agent vacating a cell, where two or more other agents are trying to move in.\n",
    "- Black means no conflict, so an agent will move to the new cell.\n"
   ]
  },
  {
   "cell_type": "code",
   "execution_count": null,
   "metadata": {},
   "outputs": [],
   "source": [
    "omc.find_conflicts()"
   ]
  },
  {
   "cell_type": "code",
   "execution_count": null,
   "metadata": {},
   "outputs": [],
   "source": [
    "gvDot = ac.render(omc)\n",
    "gvDot"
   ]
  },
  {
   "cell_type": "code",
   "execution_count": null,
   "metadata": {},
   "outputs": [],
   "source": [
    "#for v, dPred in omc.G.pred.items():\n",
    "#    print (v, dPred)"
   ]
  },
  {
   "cell_type": "code",
   "execution_count": null,
   "metadata": {},
   "outputs": [],
   "source": [
    "#import graphviz"
   ]
  },
  {
   "cell_type": "code",
   "execution_count": null,
   "metadata": {},
   "outputs": [],
   "source": [
    "#oAG = nx.drawing.nx_agraph.to_agraph(omc.G)\n",
    "#oAG.layout(\"dot\")\n",
    "#sDot = oAG.to_string()\n",
    "#oSrc = graphviz.Source(sDot)"
   ]
  },
  {
   "cell_type": "code",
   "execution_count": null,
   "metadata": {},
   "outputs": [],
   "source": [
    "#sSVG = oSrc._repr_svg_()"
   ]
  },
  {
   "cell_type": "code",
   "execution_count": null,
   "metadata": {},
   "outputs": [],
   "source": [
    "#display.SVG(sSVG)"
   ]
  },
  {
   "cell_type": "markdown",
   "metadata": {},
   "source": [
    "## Load a test Env\n",
    "Load an env and invoke the chain checker.  \n"
   ]
  },
  {
   "cell_type": "code",
   "execution_count": null,
   "metadata": {},
   "outputs": [],
   "source": [
    "env, envModel = eeu.makeTestEnv(\"merging_spurs\", nAg=10)\n"
   ]
  },
  {
   "cell_type": "code",
   "execution_count": null,
   "metadata": {},
   "outputs": [],
   "source": [
    "env._max_episode_steps"
   ]
  },
  {
   "cell_type": "code",
   "execution_count": null,
   "metadata": {},
   "outputs": [],
   "source": [
    "\n",
    "oEC = ju.EnvCanvas(env)\n",
    "oEC.show()"
   ]
  },
  {
   "cell_type": "code",
   "execution_count": null,
   "metadata": {},
   "outputs": [],
   "source": [
    "env.dones"
   ]
  },
  {
   "cell_type": "code",
   "execution_count": null,
   "metadata": {},
   "outputs": [],
   "source": [
    "for i in range(10):\n",
    "    oEC.step()\n",
    "    oEC.render()\n",
    "    \n",
    "    display.display_html(f\"<br>Step: {i}\\n\", raw=True)\n",
    "    display.display_svg(ac.render(env.motionCheck, horizontal=(i>=3)))\n",
    "    time.sleep(0.1)"
   ]
  },
  {
   "cell_type": "code",
   "execution_count": null,
   "metadata": {},
   "outputs": [],
   "source": [
    "if False:\n",
    "    dAgStateFrozen= {0: (1, 11, 1),\n",
    "    1: (1, 8, 1),\n",
    "    2: (1, 10, 1),\n",
    "    3: (1, 7, 1),\n",
    "    4: (1, 9, 1),\n",
    "    5: (1, 6, 0),\n",
    "    6: (1, 5, 1),\n",
    "    7: (2, 6, 0),\n",
    "    8: (1, 4, 1),\n",
    "    9: (3, 6, 0)}\n",
    "\n",
    "else:\n",
    "    dAgStateFrozen = {0: (1, 10, 1),\n",
    "    1: (1, 7, 1),\n",
    "    2: (1, 9, 1),\n",
    "    3: (1, 6, 0),\n",
    "    4: (1, 8, 1),\n",
    "    5: (2, 6, 0),\n",
    "    6: (1, 5, 1),\n",
    "    7: (3, 6, 0),\n",
    "    8: (1, 4, 1),\n",
    "    9: (4, 6, 1)}"
   ]
  },
  {
   "cell_type": "code",
   "execution_count": null,
   "metadata": {},
   "outputs": [],
   "source": [
    "dAgState={}\n",
    "for iAg, ag in enumerate(env.agents):\n",
    "    dAgState[iAg] = (*ag.position, ag.direction)\n"
   ]
  },
  {
   "cell_type": "code",
   "execution_count": null,
   "metadata": {},
   "outputs": [],
   "source": [
    "display.display(dAgState)\n",
    "assert dAgState == dAgStateFrozen"
   ]
  },
  {
   "cell_type": "code",
   "execution_count": null,
   "metadata": {},
   "outputs": [],
   "source": [
    "env.motionCheck.svDeadlocked"
   ]
  },
  {
   "cell_type": "markdown",
   "metadata": {},
   "source": [
    "# Deadlocking agents\n",
    "We have added deadlock detection in the close-following code.  This detects agents which are head-to-head ie facing in opposing directions in adjacent squares, and thus will not be able to move for the rest of the episode.  This deadlocked status is propagated to any other agents which are blocked by the opposing pair.\n",
    "\n",
    "In the example below, agents 0 and 1 collide head on.  The other agents are spaced out behind them and collide into them in subsequent steps.\n",
    "\n",
    "The deadlock status is now recorded in element 5 of each agent in the recorded episode.  (row, col, dir, status, malfunction, deadlock)\n",
    "\n",
    "__Bugs / Limitations__\n",
    "\n",
    "The code does not currently count agents which are deadlocked, if they are also malfunctioning, or choose to stop moving voluntarily.\n",
    "\n",
    "The code does not detect agents which are about to become deadlocked, because they are heading towards each other on a track with no junctions or relevant targets."
   ]
  },
  {
   "cell_type": "code",
   "execution_count": null,
   "metadata": {},
   "outputs": [],
   "source": [
    "env, envModel = eeu.makeTestEnv(\"loop_with_loops\", nAg=10)\n",
    "oEC = ju.EnvCanvas(env, behaviour=ju.DelayedStartForward(env, nStartDelay=1))\n",
    "oEC.show()"
   ]
  },
  {
   "cell_type": "code",
   "execution_count": null,
   "metadata": {},
   "outputs": [],
   "source": [
    "for i in range(25):\n",
    "    oEC.step()\n",
    "    oEC.render()\n",
    "    \n",
    "    #display.display_html(f\"<br>Step: {i}\\n\", raw=True)\n",
    "    #display.display_svg(ac.render(env.motionCheck, horizontal=(i>=3)))\n",
    "    time.sleep(0.1)   "
   ]
  },
  {
   "cell_type": "code",
   "execution_count": null,
   "metadata": {},
   "outputs": [],
   "source": [
    "env.motionCheck.svDeadlocked"
   ]
  },
  {
   "cell_type": "code",
   "execution_count": null,
   "metadata": {},
   "outputs": [],
   "source": [
    "g3Ep = np.array(env.cur_episode)\n",
    "g3Ep.shape"
   ]
  },
  {
   "cell_type": "code",
   "execution_count": null,
   "metadata": {},
   "outputs": [],
   "source": [
    "nSteps = g3Ep.shape[0]\n",
    "plt.step(range(nSteps), np.sum(g3Ep[:,:,5], axis=1))\n",
    "plt.title(\"Deadlocked agents\")\n",
    "plt.xticks(range(g3Ep.shape[0]))\n",
    "plt.yticks(range(11))\n",
    "plt.grid()"
   ]
  },
  {
   "cell_type": "code",
   "execution_count": null,
   "metadata": {},
   "outputs": [],
   "source": [
    "gnDeadlockExpected = np.array([ 0,  0,  0,  0,  0,  0,  0,  0,  0,  0,  0,  0,  0,  0,  0,  0,  0, 3,  5,  7,  9, 10, 10, 10, 10])\n",
    "gnDeadlock = np.sum(g3Ep[:,:,5], axis=1)\n",
    "\n",
    "assert np.all(gnDeadlock == gnDeadlockExpected), \"Deadlocks by step do not match expected values!\""
   ]
  },
  {
   "cell_type": "code",
   "execution_count": null,
   "metadata": {},
   "outputs": [],
   "source": [
    "cmap = plt.get_cmap(\"summer\")\n",
    "nT, nAg, _ = g3Ep.shape\n",
    "plt.pcolormesh(g3Ep[:,:,5].T, cmap=cmap)\n",
    "plt.xlabel(\"Time Step\")\n",
    "plt.xticks(range(0,nT, 2))\n",
    "plt.ylabel(\"Agent index\")\n",
    "plt.yticks(range(nAg))\n",
    "\n",
    "\n",
    "plt.colorbar(ticks=[0,1], fraction=0.018, pad=0.1)\n",
    "plt.title(\"Deadlock status\")\n",
    "plt.grid()"
   ]
  },
  {
   "cell_type": "code",
   "execution_count": null,
   "metadata": {},
   "outputs": [],
   "source": []
  }
 ],
 "metadata": {
  "hide_input": false,
  "kernelspec": {
   "display_name": "ve310fl",
   "language": "python",
   "name": "python3"
  },
  "language_info": {
   "codemirror_mode": {
    "name": "ipython",
    "version": 3
   },
   "file_extension": ".py",
   "mimetype": "text/x-python",
   "name": "python",
   "nbconvert_exporter": "python",
   "pygments_lexer": "ipython3",
   "version": "3.10.12"
  },
  "latex_envs": {
   "LaTeX_envs_menu_present": true,
   "autoclose": false,
   "autocomplete": true,
   "bibliofile": "biblio.bib",
   "cite_by": "apalike",
   "current_citInitial": 1,
   "eqLabelWithNumbers": true,
   "eqNumInitial": 1,
   "hotkeys": {
    "equation": "Ctrl-E",
    "itemize": "Ctrl-I"
   },
   "labels_anchors": false,
   "latex_user_defs": false,
   "report_style_numbering": false,
   "user_envs_cfg": false
  },
  "toc": {
   "base_numbering": 1,
   "nav_menu": {},
   "number_sections": true,
   "sideBar": true,
   "skip_h1_title": false,
   "title_cell": "Table of Contents",
   "title_sidebar": "Contents",
   "toc_cell": false,
   "toc_position": {},
   "toc_section_display": true,
   "toc_window_display": false
  },
  "varInspector": {
   "cols": {
    "lenName": 16,
    "lenType": 16,
    "lenVar": 40
   },
   "kernels_config": {
    "python": {
     "delete_cmd_postfix": "",
     "delete_cmd_prefix": "del ",
     "library": "var_list.py",
     "varRefreshCmd": "print(var_dic_list())"
    },
    "r": {
     "delete_cmd_postfix": ") ",
     "delete_cmd_prefix": "rm(",
     "library": "var_list.r",
     "varRefreshCmd": "cat(var_dic_list()) "
    }
   },
   "types_to_exclude": [
    "module",
    "function",
    "builtin_function_or_method",
    "instance",
    "_Feature"
   ],
   "window_display": false
  },
  "vscode": {
   "interpreter": {
    "hash": "70979abb2b4cf643ffbf82a01ff501989841ea76ccebf830b333529973279a98"
   }
  },
  "widgets": {
   "application/vnd.jupyter.widget-state+json": {
    "state": {
     "89c014733a054ce7ab98b175b8a5bcf5": {
      "model_module": "ipycanvas",
      "model_module_version": "^0.4.1",
      "model_name": "CanvasModel",
      "state": {
       "_dom_classes": [],
       "_model_module": "ipycanvas",
       "_model_module_version": "^0.4.1",
       "_model_name": "CanvasModel",
       "_view_count": null,
       "_view_module": "ipycanvas",
       "_view_module_version": "^0.4.1",
       "_view_name": "CanvasView",
       "image_data": null,
       "layout": "IPY_MODEL_c1b255e12efc45308a00213767bc1ed0",
       "size": [
        600,
        300
       ],
       "sync_image_data": false
      }
     },
     "c1b255e12efc45308a00213767bc1ed0": {
      "model_module": "@jupyter-widgets/base",
      "model_module_version": "1.2.0",
      "model_name": "LayoutModel",
      "state": {
       "_model_module": "@jupyter-widgets/base",
       "_model_module_version": "1.2.0",
       "_model_name": "LayoutModel",
       "_view_count": null,
       "_view_module": "@jupyter-widgets/base",
       "_view_module_version": "1.2.0",
       "_view_name": "LayoutView",
       "align_content": null,
       "align_items": null,
       "align_self": null,
       "border": null,
       "bottom": null,
       "display": null,
       "flex": null,
       "flex_flow": null,
       "grid_area": null,
       "grid_auto_columns": null,
       "grid_auto_flow": null,
       "grid_auto_rows": null,
       "grid_column": null,
       "grid_gap": null,
       "grid_row": null,
       "grid_template_areas": null,
       "grid_template_columns": null,
       "grid_template_rows": null,
       "height": "300px",
       "justify_content": null,
       "justify_items": null,
       "left": null,
       "margin": null,
       "max_height": null,
       "max_width": null,
       "min_height": null,
       "min_width": null,
       "object_fit": null,
       "object_position": null,
       "order": null,
       "overflow": null,
       "overflow_x": null,
       "overflow_y": null,
       "padding": null,
       "right": null,
       "top": null,
       "visibility": null,
       "width": "600px"
      }
     }
    },
    "version_major": 2,
    "version_minor": 0
   }
  }
 },
 "nbformat": 4,
 "nbformat_minor": 2
}
