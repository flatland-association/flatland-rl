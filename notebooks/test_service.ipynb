{
 "cells": [
  {
   "cell_type": "markdown",
   "metadata": {},
   "source": [
    "# Test Service\n",
    "\n",
    "Intended to test the service.py evaluator.\n",
    "Runs the service.py and a simple client.\n",
    "\n"
   ]
  },
  {
   "cell_type": "markdown",
   "metadata": {
    "colab_type": "text",
    "id": "baXcVq3ii0Cb"
   },
   "source": [
    "# Setup"
   ]
  },
  {
   "cell_type": "code",
   "execution_count": 1,
   "metadata": {},
   "outputs": [],
   "source": [
    "%load_ext autoreload\n",
    "%autoreload 2"
   ]
  },
  {
   "cell_type": "code",
   "execution_count": 2,
   "metadata": {},
   "outputs": [
    {
     "name": "stderr",
     "output_type": "stream",
     "text": [
      "/var/folders/4x/y75rw_lj5xx6xc0bmv1gxmq80000gn/T/ipykernel_93913/912229180.py:1: DeprecationWarning: Importing display from IPython.core.display is deprecated since IPython 7.14, please import from IPython.display\n",
      "  from IPython.core.display import display, HTML\n"
     ]
    },
    {
     "data": {
      "text/html": [
       "<style>.container { width:90% !important; }</style>"
      ],
      "text/plain": [
       "<IPython.core.display.HTML object>"
      ]
     },
     "metadata": {},
     "output_type": "display_data"
    }
   ],
   "source": [
    "from IPython.core.display import display, HTML\n",
    "display(HTML(\"<style>.container { width:90% !important; }</style>\"))"
   ]
  },
  {
   "cell_type": "code",
   "execution_count": 3,
   "metadata": {},
   "outputs": [],
   "source": [
    "import sys\n",
    "import os\n",
    "import redis\n",
    "import subprocess as sp\n",
    "import shlex\n",
    "import time\n",
    "import importlib_resources as ir\n",
    "import socket\n",
    "from contextlib import closing\n",
    "import uuid\n",
    "import pickle"
   ]
  },
  {
   "cell_type": "code",
   "execution_count": 4,
   "metadata": {},
   "outputs": [],
   "source": [
    "import pandas as pd\n",
    "import numpy as np"
   ]
  },
  {
   "cell_type": "code",
   "execution_count": 5,
   "metadata": {
    "colab": {},
    "colab_type": "code",
    "id": "PU5GkH271guD"
   },
   "outputs": [],
   "source": [
    "from flatland.core.env_observation_builder import DummyObservationBuilder\n",
    "from flatland.envs.persistence import RailEnvPersister\n",
    "from flatland.evaluators.client import FlatlandRemoteClient\n",
    "from flatland.evaluators.client import TimeoutException\n",
    "from flatland.envs.rail_env import RailEnvActions"
   ]
  },
  {
   "cell_type": "code",
   "execution_count": 6,
   "metadata": {},
   "outputs": [
    {
     "name": "stdout",
     "output_type": "stream",
     "text": [
      "Port 127.0.0.1 6379 is open\n"
     ]
    }
   ],
   "source": [
    "  def check_socket(host, port):\n",
    "    with closing(socket.socket(socket.AF_INET, socket.SOCK_STREAM)) as sock:\n",
    "        assert sock.connect_ex((host, port)) == 0, f\"Port {host} {port} is not open\"\n",
    "        \n",
    "        print(f\"Port {host} {port} is open\")\n",
    "        \n",
    "check_socket(\"127.0.0.1\", 6379)"
   ]
  },
  {
   "cell_type": "markdown",
   "metadata": {},
   "source": [
    "### Find the real path of the `env_data` package (should be copied by tox)"
   ]
  },
  {
   "cell_type": "code",
   "execution_count": 7,
   "metadata": {},
   "outputs": [
    {
     "name": "stdout",
     "output_type": "stream",
     "text": [
      "<class 'pathlib.PosixPath'> /Users/che/workspaces/flatland-rl/env_data/tests/test_001.pkl\n"
     ]
    }
   ],
   "source": [
    "with ir.path(\"env_data.tests\", \"test_001.pkl\") as oPath:\n",
    "    sPath = oPath\n",
    "print(type(sPath), sPath)"
   ]
  },
  {
   "cell_type": "code",
   "execution_count": 8,
   "metadata": {},
   "outputs": [
    {
     "data": {
      "text/plain": [
       "'/Users/che/workspaces/flatland-rl/env_data/tests/service_test/'"
      ]
     },
     "execution_count": 8,
     "metadata": {},
     "output_type": "execute_result"
    }
   ],
   "source": [
    "sDirRoot = \"/\" + \"/\".join(sPath.parts[1:-1] + (\"service_test\",\"\"))\n",
    "sDirRoot"
   ]
  },
  {
   "cell_type": "markdown",
   "metadata": {},
   "source": [
    "### Clear any old redis keys"
   ]
  },
  {
   "cell_type": "code",
   "execution_count": 9,
   "metadata": {},
   "outputs": [],
   "source": [
    "oRedis = redis.Redis()"
   ]
  },
  {
   "cell_type": "code",
   "execution_count": 10,
   "metadata": {},
   "outputs": [
    {
     "data": {
      "text/plain": [
       "[b'flatland-rl::7862565f-2cab-43a2-8bee-a444dc38b874::response::9233d209716f4ae78a5dbe124de67e27']"
      ]
     },
     "execution_count": 10,
     "metadata": {},
     "output_type": "execute_result"
    }
   ],
   "source": [
    "lKeys = oRedis.keys(\"flatland*\")\n",
    "lKeys"
   ]
  },
  {
   "cell_type": "code",
   "execution_count": 11,
   "metadata": {},
   "outputs": [
    {
     "name": "stdout",
     "output_type": "stream",
     "text": [
      "Deleting: b'flatland-rl::7862565f-2cab-43a2-8bee-a444dc38b874::response::9233d209716f4ae78a5dbe124de67e27'\n"
     ]
    }
   ],
   "source": [
    "for sKey in lKeys:\n",
    "    print(\"Deleting:\", sKey)\n",
    "    oRedis.delete(sKey)"
   ]
  },
  {
   "cell_type": "markdown",
   "metadata": {},
   "source": [
    "### Remove `/tmp/output.csv`"
   ]
  },
  {
   "cell_type": "code",
   "execution_count": 12,
   "metadata": {},
   "outputs": [],
   "source": [
    "!rm -f /tmp/output.csv"
   ]
  },
  {
   "cell_type": "markdown",
   "metadata": {},
   "source": [
    "### kill any old `service.py` process"
   ]
  },
  {
   "cell_type": "code",
   "execution_count": 13,
   "metadata": {},
   "outputs": [],
   "source": [
    "!ps -ef | grep -i python | grep -i flatland.evaluators.service | awk '{print $2}' | xargs kill"
   ]
  },
  {
   "cell_type": "code",
   "execution_count": 14,
   "metadata": {},
   "outputs": [],
   "source": [
    "osEnv2 = os.environ.copy()"
   ]
  },
  {
   "cell_type": "markdown",
   "metadata": {},
   "source": [
    "### Set some short timeouts for testing"
   ]
  },
  {
   "cell_type": "code",
   "execution_count": 15,
   "metadata": {},
   "outputs": [],
   "source": [
    "osEnv2[\"FLATLAND_OVERALL_TIMEOUT\"]=\"10\"\n",
    "osEnv2[\"FLATLAND_PER_STEP_TIMEOUT\"] = \"2\"\n",
    "osEnv2[\"FLATLAND_MAX_SUCCESSIVE_TIMEOUTS\"] = \"2\"\n",
    " \n",
    "osEnv2[\"TEST_ID_FILTER\"] = \"Test_1\""
   ]
  },
  {
   "cell_type": "markdown",
   "metadata": {},
   "source": [
    "### Create the python command for `service.py`"
   ]
  },
  {
   "cell_type": "code",
   "execution_count": 16,
   "metadata": {},
   "outputs": [
    {
     "name": "stdout",
     "output_type": "stream",
     "text": [
      "python -m flatland.evaluators.service --test_folder /Users/che/workspaces/flatland-rl/env_data/tests/service_test/ --pickle --service_id 3e480a6f-33d8-44ae-a9cd-78ea3d11781a\n",
      "['python', '-m', 'flatland.evaluators.service', '--test_folder', '/Users/che/workspaces/flatland-rl/env_data/tests/service_test/', '--pickle', '--service_id', '3e480a6f-33d8-44ae-a9cd-78ea3d11781a']\n"
     ]
    }
   ],
   "source": [
    "FLATLAND_RL_SERVICE_ID = uuid.uuid4()\n",
    "#sCmd = \"python -m flatland.evaluators.service --test_folder ../env_data/tests/service_test --mergeDir ./tmp/merge --actionDir ./tmp/actions --pickle --missingOnly --service_id {FLATLAND_RL_SERVICE_ID}\"\n",
    "#sCmd = \"python -m flatland.evaluators.service --test_folder ../env_data/tests/service_test --pickle --service_id {FLATLAND_RL_SERVICE_ID}\" # --verbose\"\n",
    "sCmd = f\"python -m flatland.evaluators.service --test_folder {sDirRoot} --pickle --service_id {FLATLAND_RL_SERVICE_ID}\" # --verbose\"\n",
    "lsCmd = shlex.split(sCmd)\n",
    "print(sCmd)\n",
    "print(lsCmd)"
   ]
  },
  {
   "cell_type": "markdown",
   "metadata": {},
   "source": [
    "### Run the command with Popen (output goes to jupyter stdout not notebook)"
   ]
  },
  {
   "cell_type": "code",
   "execution_count": 17,
   "metadata": {},
   "outputs": [],
   "source": [
    "with open(\"/tmp/stdout.txt\",\"w\") as out, open(\"/tmp/stderr.txt\",\"w\") as err:\n",
    "    oPipe = sp.Popen(lsCmd, env=osEnv2, stdout=out,stderr=err)"
   ]
  },
  {
   "cell_type": "code",
   "execution_count": 18,
   "metadata": {},
   "outputs": [],
   "source": [
    "oPipe.poll()"
   ]
  },
  {
   "cell_type": "code",
   "execution_count": 19,
   "metadata": {},
   "outputs": [],
   "source": [
    "oFRC = FlatlandRemoteClient(test_env_folder=sDirRoot, verbose=False, use_pickle=True, flatland_rl_service_id=FLATLAND_RL_SERVICE_ID)"
   ]
  },
  {
   "cell_type": "code",
   "execution_count": 20,
   "metadata": {},
   "outputs": [],
   "source": [
    "env, env_dict = RailEnvPersister.load_new(f\"{sDirRoot}/Test_0/Level_0.pkl\")"
   ]
  },
  {
   "cell_type": "code",
   "execution_count": 21,
   "metadata": {},
   "outputs": [],
   "source": [
    "def forward_only_controller(obs, _env):\n",
    "    dAct = {}\n",
    "    for iAg in range(len(_env.agents)):\n",
    "        dAct[iAg] = RailEnvActions.MOVE_FORWARD\n",
    "    return dAct\n",
    "\n",
    "def random_controller(obs, _env):\n",
    "    dAct = {}\n",
    "    for iAg in range(len(_env.agents)):\n",
    "        dAct[iAg] = np.random.randint(0, 5)\n",
    "    return dAct"
   ]
  },
  {
   "cell_type": "code",
   "execution_count": 22,
   "metadata": {},
   "outputs": [],
   "source": [
    "oObsB = DummyObservationBuilder()"
   ]
  },
  {
   "cell_type": "code",
   "execution_count": 23,
   "metadata": {},
   "outputs": [
    {
     "data": {
      "text/plain": [
       "True"
      ]
     },
     "execution_count": 23,
     "metadata": {},
     "output_type": "execute_result"
    }
   ],
   "source": [
    "oObsB.get()"
   ]
  },
  {
   "cell_type": "code",
   "execution_count": 24,
   "metadata": {},
   "outputs": [],
   "source": [
    "def run_submission(slow_ep=1, delay=2, collect=False, verify=False):\n",
    "    episode = 0\n",
    "    obs = True\n",
    "    while obs:\n",
    "        print(\"==============\")\n",
    "        print(f\"Episode : {episode} (1)\")\n",
    "        print(\"==============\")\n",
    "        obs, info = oFRC.env_create(obs_builder_object=oObsB)\n",
    "        oFRC.env.record_steps = True\n",
    "        if not obs:\n",
    "            print(\"null observation - all envs completed!\")\n",
    "            break\n",
    "        print(\"==============\")\n",
    "        print(f\"Episode : {episode} (2)\")\n",
    "        print(\"==============\")\n",
    "        \n",
    "\n",
    "        print(oFRC.env.dones['__all__'])\n",
    "\n",
    "        if verify:\n",
    "            with open(f\"episode_{episode}.pkl\", \"rb\") as file_in:\n",
    "                expected = pickle.loads(file_in.read())\n",
    "        for step in range(oFRC.env._max_episode_steps):\n",
    "            if episode < 3:\n",
    "                action = forward_only_controller(obs, oFRC.env)\n",
    "            else:\n",
    "                action = random_controller(obs, oFRC.env)\n",
    "            \n",
    "            time_start = time.time()\n",
    "            \n",
    "            if (episode == slow_ep) and (oFRC.env._elapsed_steps > 10):\n",
    "                time.sleep(2)\n",
    "                \n",
    "            observation, all_rewards, done, info = oFRC.env_step(action)\n",
    "            time_diff = time.time() - time_start\n",
    "            if verify:\n",
    "                assert expected[step] == oFRC.env.cur_episode[step]\n",
    "            if collect:\n",
    "                with open(f\"episode_{episode}.pkl\", \"wb\") as file_out:\n",
    "                    data = pickle.dumps(oFRC.env.cur_episode)\n",
    "                    file_out.write(data)\n",
    "            if done['__all__']:\n",
    "                if verify:\n",
    "                    assert len(expected[step]) == len(oFRC.env.cur_episode[step])\n",
    "                print(\"\\nCompleted Episode : \", episode)\n",
    "                print(\"Reward : \", sum(list(all_rewards.values())))\n",
    "                break\n",
    "            \n",
    "        episode += 1\n",
    "        \n",
    "    print(f\"Evaluation Complete - episodes={episode} - send submit message...\")\n",
    "    print(oFRC.submit())\n",
    "    print(\"All done.\")"
   ]
  },
  {
   "cell_type": "code",
   "execution_count": 25,
   "metadata": {},
   "outputs": [
    {
     "name": "stdout",
     "output_type": "stream",
     "text": [
      "==============\n",
      "Episode : 0 (1)\n",
      "==============\n",
      "==============\n",
      "Episode : 0 (2)\n",
      "==============\n",
      "False\n",
      "get_travel_time_on_shortest_path=147\n",
      "0 -193\n",
      "1 0\n",
      "2 0\n",
      "get_travel_time_on_shortest_path=46\n",
      "3 -168\n",
      "get_travel_time_on_shortest_path=80\n",
      "4 -103\n",
      "get_travel_time_on_shortest_path=72\n",
      "5 -108\n",
      "6 0\n",
      "\n",
      "Completed Episode :  0\n",
      "Reward :  -572\n",
      "==============\n",
      "Episode : 1 (1)\n",
      "==============\n",
      "==============\n",
      "Episode : 1 (2)\n",
      "==============\n",
      "False\n",
      "Error received:  {'type': 'FLATLAND_RL.ENV_STEP_TIMEOUT'}\n",
      "Timed out.\n",
      "FLATLAND_RL.ENV_STEP_TIMEOUT\n",
      "Evaluation timed out - send submit message...\n",
      "Error received:  {'type': 'FLATLAND_RL.ENV_STEP_TIMEOUT'}\n",
      "All done.\n"
     ]
    }
   ],
   "source": [
    "try:\n",
    "    run_submission()\n",
    "except Exception as timeoutException:\n",
    "    print(\"Timed out.\")\n",
    "    print(timeoutException)\n",
    "    try:\n",
    "        # give evaluator enough time before submitting!\n",
    "        time.sleep(2)\n",
    "        print(f\"Evaluation timed out - send submit message...\")\n",
    "        print(oFRC.submit())\n",
    "        \n",
    "    except Exception:\n",
    "        print(\"All done.\")"
   ]
  },
  {
   "cell_type": "code",
   "execution_count": 26,
   "metadata": {},
   "outputs": [
    {
     "name": "stdout",
     "output_type": "stream",
     "text": [
      "====================\n",
      "Max pre-planning time: 600\n",
      "Max step time: 2\n",
      "Max overall time: 10\n",
      "Max submission startup time: 300\n",
      "Max consecutive timeouts: 2\n",
      "====================\n",
      "{'Test_1'}\n",
      "['Test_1/Level_0.pkl', 'Test_1/Level_1.pkl']\n",
      "['Test_1/Level_0.pkl', 'Test_1/Level_1.pkl']\n",
      "[WARNING] Deleting already existing visualizations folder at : ./.visualizations\n",
      "Listening at :  flatland-rl::3e480a6f-33d8-44ae-a9cd-78ea3d11781a::commands\n",
      " -- [DEBUG] [env_create] EVAL DONE:  False\n",
      " -- [DEBUG] [env_create] SIM COUNT:  1 2\n",
      "===============\n",
      "Evaluating Test_1/Level_0.pkl (1/2)\n",
      "get_travel_time_on_shortest_path=147\n",
      "0 -193\n",
      "1 0\n",
      "2 0\n",
      "get_travel_time_on_shortest_path=46\n",
      "3 -168\n",
      "get_travel_time_on_shortest_path=80\n",
      "4 -103\n",
      "get_travel_time_on_shortest_path=72\n",
      "5 -108\n",
      "6 0\n",
      "Percentage for test 1, level 0: 0.42857142857142855\n",
      "Evaluation finished in 267 timesteps, 0.205 seconds. Percentage agents done: 0.429. Normalized reward: 0.694. Number of malfunctions: 0.\n",
      "Total normalized reward so far: 0.694\n",
      "Wrote intermediate output results to : /tmp/output.csv\n",
      " -- [DEBUG] [env_create] EVAL DONE:  False\n",
      " -- [DEBUG] [env_create] SIM COUNT:  2 2\n",
      "===============\n",
      "Evaluating Test_1/Level_1.pkl (2/2)\n",
      "Sending error :  {'type': 'FLATLAND_RL.ENV_STEP_TIMEOUT'}\n",
      "Evaluation of this episode TIMED OUT after 12 timesteps (exceeded step time limit of 2s), won't get any reward. 0 consecutive timeouts. Percentage agents done: 0.000. Normalized reward: 0.000. Number of malfunctions: 0.\n",
      "Sending error :  {'type': 'FLATLAND_RL.ENV_STEP_TIMEOUT'}\n",
      "Evaluation of this episode TIMED OUT after 13 timesteps (exceeded step time limit of 2s), won't get any reward. 1 consecutive timeouts. Percentage agents done: 0.000. Normalized reward: 0.000. Number of malfunctions: 0.\n",
      "===============\n",
      "Submissions had 2 consecutive timeouts. Evaluation will stop.\n",
      "Creating fake submit message after excessive timeouts.\n",
      "====================================================================================================\n",
      "====================================================================================================\n",
      "## Server Performance Stats\n",
      "====================================================================================================\n",
      "\t - message_queue_latency\t => min: 0.0001690387725830078 || mean: 0.008747469063755457 || max: 1.0927979946136475\n",
      "\t - current_episode_controller_inference_time\t => min: 2.6226043701171875e-06 || mean: 4.368720294760286e-06 || max: 0.00014019012451171875\n",
      "\t - controller_inference_time\t => min: 2.6226043701171875e-06 || mean: 4.368720294760286e-06 || max: 0.00014019012451171875\n",
      "\t - internal_env_step_time\t => min: 0.00017118453979492188 || mean: 0.0004634471248379714 || max: 0.029395103454589844\n",
      "====================================================================================================\n",
      "Wrote output results to : /tmp/output.csv\n",
      "####################################################################################################\n",
      "EVALUATION COMPLETE !!\n",
      "####################################################################################################\n",
      "# Mean Reward : 456.0\n",
      "# Sum Normalized Reward : 0.6939539860888175 (primary score)\n",
      "# Mean Percentage Complete : 0.214 (secondary score)\n",
      "# Mean Normalized Reward : 0.34698\n",
      "####################################################################################################\n",
      "####################################################################################################\n"
     ]
    }
   ],
   "source": [
    "!cat /tmp/stdout.txt"
   ]
  },
  {
   "cell_type": "code",
   "execution_count": 27,
   "metadata": {},
   "outputs": [],
   "source": [
    "!cat /tmp/stderr.txt"
   ]
  },
  {
   "cell_type": "markdown",
   "metadata": {},
   "source": [
    "### Kill the evaluator process we started earlier"
   ]
  },
  {
   "cell_type": "code",
   "execution_count": 28,
   "metadata": {},
   "outputs": [],
   "source": [
    "!ps -ef | grep -i python | grep -i flatland.evaluators.service | awk '{print $2}' | xargs kill"
   ]
  },
  {
   "cell_type": "code",
   "execution_count": 29,
   "metadata": {},
   "outputs": [
    {
     "data": {
      "text/html": [
       "<div>\n",
       "<style scoped>\n",
       "    .dataframe tbody tr th:only-of-type {\n",
       "        vertical-align: middle;\n",
       "    }\n",
       "\n",
       "    .dataframe tbody tr th {\n",
       "        vertical-align: top;\n",
       "    }\n",
       "\n",
       "    .dataframe thead th {\n",
       "        text-align: right;\n",
       "    }\n",
       "</style>\n",
       "<table border=\"1\" class=\"dataframe\">\n",
       "  <thead>\n",
       "    <tr style=\"text-align: right;\">\n",
       "      <th></th>\n",
       "      <th>0</th>\n",
       "      <th>1</th>\n",
       "      <th>2</th>\n",
       "      <th>3</th>\n",
       "    </tr>\n",
       "  </thead>\n",
       "  <tbody>\n",
       "    <tr>\n",
       "      <th>filename</th>\n",
       "      <td>Test_0/Level_0.pkl</td>\n",
       "      <td>Test_0/Level_1.pkl</td>\n",
       "      <td>Test_1/Level_0.pkl</td>\n",
       "      <td>Test_1/Level_1.pkl</td>\n",
       "    </tr>\n",
       "    <tr>\n",
       "      <th>test_id</th>\n",
       "      <td>Test_0</td>\n",
       "      <td>Test_0</td>\n",
       "      <td>Test_1</td>\n",
       "      <td>Test_1</td>\n",
       "    </tr>\n",
       "    <tr>\n",
       "      <th>env_id</th>\n",
       "      <td>Level_0</td>\n",
       "      <td>Level_1</td>\n",
       "      <td>Level_0</td>\n",
       "      <td>Level_1</td>\n",
       "    </tr>\n",
       "    <tr>\n",
       "      <th>n_agents</th>\n",
       "      <td>7</td>\n",
       "      <td>7</td>\n",
       "      <td>7</td>\n",
       "      <td>7</td>\n",
       "    </tr>\n",
       "    <tr>\n",
       "      <th>x_dim</th>\n",
       "      <td>30</td>\n",
       "      <td>30</td>\n",
       "      <td>30</td>\n",
       "      <td>30</td>\n",
       "    </tr>\n",
       "    <tr>\n",
       "      <th>y_dim</th>\n",
       "      <td>30</td>\n",
       "      <td>30</td>\n",
       "      <td>30</td>\n",
       "      <td>30</td>\n",
       "    </tr>\n",
       "    <tr>\n",
       "      <th>n_cities</th>\n",
       "      <td>2</td>\n",
       "      <td>2</td>\n",
       "      <td>2</td>\n",
       "      <td>2</td>\n",
       "    </tr>\n",
       "    <tr>\n",
       "      <th>max_rail_pairs_in_city</th>\n",
       "      <td>2</td>\n",
       "      <td>2</td>\n",
       "      <td>2</td>\n",
       "      <td>2</td>\n",
       "    </tr>\n",
       "    <tr>\n",
       "      <th>n_envs_run</th>\n",
       "      <td>10</td>\n",
       "      <td>10</td>\n",
       "      <td>10</td>\n",
       "      <td>10</td>\n",
       "    </tr>\n",
       "    <tr>\n",
       "      <th>seed</th>\n",
       "      <td>335971</td>\n",
       "      <td>335972</td>\n",
       "      <td>335971</td>\n",
       "      <td>335972</td>\n",
       "    </tr>\n",
       "    <tr>\n",
       "      <th>grid_mode</th>\n",
       "      <td>False</td>\n",
       "      <td>False</td>\n",
       "      <td>False</td>\n",
       "      <td>False</td>\n",
       "    </tr>\n",
       "    <tr>\n",
       "      <th>max_rails_between_cities</th>\n",
       "      <td>2</td>\n",
       "      <td>2</td>\n",
       "      <td>2</td>\n",
       "      <td>2</td>\n",
       "    </tr>\n",
       "    <tr>\n",
       "      <th>malfunction_duration_min</th>\n",
       "      <td>20</td>\n",
       "      <td>20</td>\n",
       "      <td>20</td>\n",
       "      <td>20</td>\n",
       "    </tr>\n",
       "    <tr>\n",
       "      <th>malfunction_duration_max</th>\n",
       "      <td>50</td>\n",
       "      <td>50</td>\n",
       "      <td>50</td>\n",
       "      <td>50</td>\n",
       "    </tr>\n",
       "    <tr>\n",
       "      <th>malfunction_interval</th>\n",
       "      <td>540</td>\n",
       "      <td>540</td>\n",
       "      <td>540</td>\n",
       "      <td>540</td>\n",
       "    </tr>\n",
       "    <tr>\n",
       "      <th>speed_ratios</th>\n",
       "      <td>{1.0: 0.25, 0.5: 0.25, 0.33: 0.25, 0.25: 0.25}</td>\n",
       "      <td>{1.0: 0.25, 0.5: 0.25, 0.33: 0.25, 0.25: 0.25}</td>\n",
       "      <td>{1.0: 0.25, 0.5: 0.25, 0.33: 0.25, 0.25: 0.25}</td>\n",
       "      <td>{1.0: 0.25, 0.5: 0.25, 0.33: 0.25, 0.25: 0.25}</td>\n",
       "    </tr>\n",
       "    <tr>\n",
       "      <th>reward</th>\n",
       "      <td>NaN</td>\n",
       "      <td>NaN</td>\n",
       "      <td>-572.0</td>\n",
       "      <td>1484.0</td>\n",
       "    </tr>\n",
       "    <tr>\n",
       "      <th>normalized_reward</th>\n",
       "      <td>NaN</td>\n",
       "      <td>NaN</td>\n",
       "      <td>0.693954</td>\n",
       "      <td>0.0</td>\n",
       "    </tr>\n",
       "    <tr>\n",
       "      <th>percentage_complete</th>\n",
       "      <td>NaN</td>\n",
       "      <td>NaN</td>\n",
       "      <td>0.428571</td>\n",
       "      <td>0.0</td>\n",
       "    </tr>\n",
       "    <tr>\n",
       "      <th>steps</th>\n",
       "      <td>NaN</td>\n",
       "      <td>NaN</td>\n",
       "      <td>267.0</td>\n",
       "      <td>13.0</td>\n",
       "    </tr>\n",
       "    <tr>\n",
       "      <th>simulation_time</th>\n",
       "      <td>NaN</td>\n",
       "      <td>NaN</td>\n",
       "      <td>0.20472</td>\n",
       "      <td>4.039508</td>\n",
       "    </tr>\n",
       "    <tr>\n",
       "      <th>nb_malfunctioning_trains</th>\n",
       "      <td>NaN</td>\n",
       "      <td>NaN</td>\n",
       "      <td>0.0</td>\n",
       "      <td>0.0</td>\n",
       "    </tr>\n",
       "    <tr>\n",
       "      <th>nb_deadlocked_trains</th>\n",
       "      <td>NaN</td>\n",
       "      <td>NaN</td>\n",
       "      <td>3.0</td>\n",
       "      <td>3.0</td>\n",
       "    </tr>\n",
       "    <tr>\n",
       "      <th>controller_inference_time_min</th>\n",
       "      <td>NaN</td>\n",
       "      <td>NaN</td>\n",
       "      <td>0.000003</td>\n",
       "      <td>0.000003</td>\n",
       "    </tr>\n",
       "    <tr>\n",
       "      <th>controller_inference_time_mean</th>\n",
       "      <td>NaN</td>\n",
       "      <td>NaN</td>\n",
       "      <td>0.000004</td>\n",
       "      <td>0.000004</td>\n",
       "    </tr>\n",
       "    <tr>\n",
       "      <th>controller_inference_time_max</th>\n",
       "      <td>NaN</td>\n",
       "      <td>NaN</td>\n",
       "      <td>0.000056</td>\n",
       "      <td>0.00014</td>\n",
       "    </tr>\n",
       "  </tbody>\n",
       "</table>\n",
       "</div>"
      ],
      "text/plain": [
       "                                                                             0  \\\n",
       "filename                                                    Test_0/Level_0.pkl   \n",
       "test_id                                                                 Test_0   \n",
       "env_id                                                                 Level_0   \n",
       "n_agents                                                                     7   \n",
       "x_dim                                                                       30   \n",
       "y_dim                                                                       30   \n",
       "n_cities                                                                     2   \n",
       "max_rail_pairs_in_city                                                       2   \n",
       "n_envs_run                                                                  10   \n",
       "seed                                                                    335971   \n",
       "grid_mode                                                                False   \n",
       "max_rails_between_cities                                                     2   \n",
       "malfunction_duration_min                                                    20   \n",
       "malfunction_duration_max                                                    50   \n",
       "malfunction_interval                                                       540   \n",
       "speed_ratios                    {1.0: 0.25, 0.5: 0.25, 0.33: 0.25, 0.25: 0.25}   \n",
       "reward                                                                     NaN   \n",
       "normalized_reward                                                          NaN   \n",
       "percentage_complete                                                        NaN   \n",
       "steps                                                                      NaN   \n",
       "simulation_time                                                            NaN   \n",
       "nb_malfunctioning_trains                                                   NaN   \n",
       "nb_deadlocked_trains                                                       NaN   \n",
       "controller_inference_time_min                                              NaN   \n",
       "controller_inference_time_mean                                             NaN   \n",
       "controller_inference_time_max                                              NaN   \n",
       "\n",
       "                                                                             1  \\\n",
       "filename                                                    Test_0/Level_1.pkl   \n",
       "test_id                                                                 Test_0   \n",
       "env_id                                                                 Level_1   \n",
       "n_agents                                                                     7   \n",
       "x_dim                                                                       30   \n",
       "y_dim                                                                       30   \n",
       "n_cities                                                                     2   \n",
       "max_rail_pairs_in_city                                                       2   \n",
       "n_envs_run                                                                  10   \n",
       "seed                                                                    335972   \n",
       "grid_mode                                                                False   \n",
       "max_rails_between_cities                                                     2   \n",
       "malfunction_duration_min                                                    20   \n",
       "malfunction_duration_max                                                    50   \n",
       "malfunction_interval                                                       540   \n",
       "speed_ratios                    {1.0: 0.25, 0.5: 0.25, 0.33: 0.25, 0.25: 0.25}   \n",
       "reward                                                                     NaN   \n",
       "normalized_reward                                                          NaN   \n",
       "percentage_complete                                                        NaN   \n",
       "steps                                                                      NaN   \n",
       "simulation_time                                                            NaN   \n",
       "nb_malfunctioning_trains                                                   NaN   \n",
       "nb_deadlocked_trains                                                       NaN   \n",
       "controller_inference_time_min                                              NaN   \n",
       "controller_inference_time_mean                                             NaN   \n",
       "controller_inference_time_max                                              NaN   \n",
       "\n",
       "                                                                             2  \\\n",
       "filename                                                    Test_1/Level_0.pkl   \n",
       "test_id                                                                 Test_1   \n",
       "env_id                                                                 Level_0   \n",
       "n_agents                                                                     7   \n",
       "x_dim                                                                       30   \n",
       "y_dim                                                                       30   \n",
       "n_cities                                                                     2   \n",
       "max_rail_pairs_in_city                                                       2   \n",
       "n_envs_run                                                                  10   \n",
       "seed                                                                    335971   \n",
       "grid_mode                                                                False   \n",
       "max_rails_between_cities                                                     2   \n",
       "malfunction_duration_min                                                    20   \n",
       "malfunction_duration_max                                                    50   \n",
       "malfunction_interval                                                       540   \n",
       "speed_ratios                    {1.0: 0.25, 0.5: 0.25, 0.33: 0.25, 0.25: 0.25}   \n",
       "reward                                                                  -572.0   \n",
       "normalized_reward                                                     0.693954   \n",
       "percentage_complete                                                   0.428571   \n",
       "steps                                                                    267.0   \n",
       "simulation_time                                                        0.20472   \n",
       "nb_malfunctioning_trains                                                   0.0   \n",
       "nb_deadlocked_trains                                                       3.0   \n",
       "controller_inference_time_min                                         0.000003   \n",
       "controller_inference_time_mean                                        0.000004   \n",
       "controller_inference_time_max                                         0.000056   \n",
       "\n",
       "                                                                             3  \n",
       "filename                                                    Test_1/Level_1.pkl  \n",
       "test_id                                                                 Test_1  \n",
       "env_id                                                                 Level_1  \n",
       "n_agents                                                                     7  \n",
       "x_dim                                                                       30  \n",
       "y_dim                                                                       30  \n",
       "n_cities                                                                     2  \n",
       "max_rail_pairs_in_city                                                       2  \n",
       "n_envs_run                                                                  10  \n",
       "seed                                                                    335972  \n",
       "grid_mode                                                                False  \n",
       "max_rails_between_cities                                                     2  \n",
       "malfunction_duration_min                                                    20  \n",
       "malfunction_duration_max                                                    50  \n",
       "malfunction_interval                                                       540  \n",
       "speed_ratios                    {1.0: 0.25, 0.5: 0.25, 0.33: 0.25, 0.25: 0.25}  \n",
       "reward                                                                  1484.0  \n",
       "normalized_reward                                                          0.0  \n",
       "percentage_complete                                                        0.0  \n",
       "steps                                                                     13.0  \n",
       "simulation_time                                                       4.039508  \n",
       "nb_malfunctioning_trains                                                   0.0  \n",
       "nb_deadlocked_trains                                                       3.0  \n",
       "controller_inference_time_min                                         0.000003  \n",
       "controller_inference_time_mean                                        0.000004  \n",
       "controller_inference_time_max                                          0.00014  "
      ]
     },
     "execution_count": 29,
     "metadata": {},
     "output_type": "execute_result"
    }
   ],
   "source": [
    "df = pd.read_csv(\"/tmp/output.csv\").T\n",
    "df"
   ]
  },
  {
   "cell_type": "code",
   "execution_count": 30,
   "metadata": {},
   "outputs": [
    {
     "data": {
      "text/plain": [
       "[nan, nan, -572.0, 1484.0]"
      ]
     },
     "execution_count": 30,
     "metadata": {},
     "output_type": "execute_result"
    }
   ],
   "source": [
    "df.transpose()[\"reward\"].tolist()"
   ]
  },
  {
   "cell_type": "code",
   "execution_count": 31,
   "metadata": {},
   "outputs": [],
   "source": [
    "assert np.array_equal(df.transpose()[\"reward\"].tolist(), [np.nan, np.nan, -572.0, 1484.0], equal_nan=True)"
   ]
  }
 ],
 "metadata": {
  "colab": {
   "collapsed_sections": [],
   "name": "Flatland Round 2 Replays",
   "provenance": []
  },
  "hide_input": false,
  "kernelspec": {
   "display_name": "Python 3 (ipykernel)",
   "language": "python",
   "name": "python3"
  },
  "language_info": {
   "codemirror_mode": {
    "name": "ipython",
    "version": 3
   },
   "file_extension": ".py",
   "mimetype": "text/x-python",
   "name": "python",
   "nbconvert_exporter": "python",
   "pygments_lexer": "ipython3",
   "version": "3.10.14"
  },
  "latex_envs": {
   "LaTeX_envs_menu_present": true,
   "autoclose": false,
   "autocomplete": true,
   "bibliofile": "biblio.bib",
   "cite_by": "apalike",
   "current_citInitial": 1,
   "eqLabelWithNumbers": true,
   "eqNumInitial": 1,
   "hotkeys": {
    "equation": "Ctrl-E",
    "itemize": "Ctrl-I"
   },
   "labels_anchors": false,
   "latex_user_defs": false,
   "report_style_numbering": false,
   "user_envs_cfg": false
  },
  "toc": {
   "base_numbering": 1,
   "nav_menu": {},
   "number_sections": true,
   "sideBar": true,
   "skip_h1_title": false,
   "title_cell": "Table of Contents",
   "title_sidebar": "Contents",
   "toc_cell": false,
   "toc_position": {},
   "toc_section_display": true,
   "toc_window_display": false
  },
  "varInspector": {
   "cols": {
    "lenName": 16,
    "lenType": 16,
    "lenVar": 40
   },
   "kernels_config": {
    "python": {
     "delete_cmd_postfix": "",
     "delete_cmd_prefix": "del ",
     "library": "var_list.py",
     "varRefreshCmd": "print(var_dic_list())"
    },
    "r": {
     "delete_cmd_postfix": ") ",
     "delete_cmd_prefix": "rm(",
     "library": "var_list.r",
     "varRefreshCmd": "cat(var_dic_list()) "
    }
   },
   "types_to_exclude": [
    "module",
    "function",
    "builtin_function_or_method",
    "instance",
    "_Feature"
   ],
   "window_display": false
  },
  "widgets": {
   "application/vnd.jupyter.widget-state+json": {
    "state": {
     "0dd673bfc308419c8f62c545999562b3": {
      "model_module": "@jupyter-widgets/controls",
      "model_module_version": "1.5.0",
      "model_name": "DescriptionStyleModel",
      "state": {
       "_model_module": "@jupyter-widgets/controls",
       "_model_module_version": "1.5.0",
       "_model_name": "DescriptionStyleModel",
       "_view_count": null,
       "_view_module": "@jupyter-widgets/base",
       "_view_module_version": "1.2.0",
       "_view_name": "StyleView",
       "description_width": ""
      }
     },
     "1bc1201efe3e4e3a8403e4b8c902a295": {
      "model_module": "@jupyter-widgets/base",
      "model_module_version": "1.2.0",
      "model_name": "LayoutModel",
      "state": {
       "_model_module": "@jupyter-widgets/base",
       "_model_module_version": "1.2.0",
       "_model_name": "LayoutModel",
       "_view_count": null,
       "_view_module": "@jupyter-widgets/base",
       "_view_module_version": "1.2.0",
       "_view_name": "LayoutView",
       "align_content": null,
       "align_items": null,
       "align_self": null,
       "border": null,
       "bottom": null,
       "display": null,
       "flex": null,
       "flex_flow": null,
       "grid_area": null,
       "grid_auto_columns": null,
       "grid_auto_flow": null,
       "grid_auto_rows": null,
       "grid_column": null,
       "grid_gap": null,
       "grid_row": null,
       "grid_template_areas": null,
       "grid_template_columns": null,
       "grid_template_rows": null,
       "height": null,
       "justify_content": null,
       "justify_items": null,
       "left": null,
       "margin": null,
       "max_height": null,
       "max_width": null,
       "min_height": null,
       "min_width": null,
       "object_fit": null,
       "object_position": null,
       "order": null,
       "overflow": null,
       "overflow_x": null,
       "overflow_y": null,
       "padding": null,
       "right": null,
       "top": null,
       "visibility": null,
       "width": null
      }
     },
     "26afede661e541db9d09f4bd88895c7b": {
      "model_module": "@jupyter-widgets/controls",
      "model_module_version": "1.5.0",
      "model_name": "FloatSliderModel",
      "state": {
       "_dom_classes": [],
       "_model_module": "@jupyter-widgets/controls",
       "_model_module_version": "1.5.0",
       "_model_name": "FloatSliderModel",
       "_view_count": null,
       "_view_module": "@jupyter-widgets/controls",
       "_view_module_version": "1.5.0",
       "_view_name": "FloatSliderView",
       "continuous_update": true,
       "description": "frame_idx",
       "description_tooltip": null,
       "disabled": false,
       "layout": "IPY_MODEL_e042a431167b452a9e9f2f0a0ac99f45",
       "max": 29,
       "min": 0,
       "orientation": "horizontal",
       "readout": true,
       "readout_format": ".2f",
       "step": 1,
       "style": "IPY_MODEL_40b60736128543f48f32eb1f7c89d855",
       "value": 0
      }
     },
     "40b60736128543f48f32eb1f7c89d855": {
      "model_module": "@jupyter-widgets/controls",
      "model_module_version": "1.5.0",
      "model_name": "SliderStyleModel",
      "state": {
       "_model_module": "@jupyter-widgets/controls",
       "_model_module_version": "1.5.0",
       "_model_name": "SliderStyleModel",
       "_view_count": null,
       "_view_module": "@jupyter-widgets/base",
       "_view_module_version": "1.2.0",
       "_view_name": "StyleView",
       "description_width": "",
       "handle_color": null
      }
     },
     "4a12b47571a0481b881e564bbbcf6f53": {
      "model_module": "@jupyter-widgets/controls",
      "model_module_version": "1.5.0",
      "model_name": "VBoxModel",
      "state": {
       "_dom_classes": [],
       "_model_module": "@jupyter-widgets/controls",
       "_model_module_version": "1.5.0",
       "_model_name": "VBoxModel",
       "_view_count": null,
       "_view_module": "@jupyter-widgets/controls",
       "_view_module_version": "1.5.0",
       "_view_name": "VBoxView",
       "box_style": "",
       "children": [
        "IPY_MODEL_78910a9b607e4a47b06b5c2cf03811a7"
       ],
       "layout": "IPY_MODEL_1bc1201efe3e4e3a8403e4b8c902a295"
      }
     },
     "55f6067b15be4de4b9ab165d4ff7009b": {
      "model_module": "@jupyter-widgets/output",
      "model_module_version": "1.0.0",
      "model_name": "OutputModel",
      "state": {
       "_dom_classes": [],
       "_model_module": "@jupyter-widgets/output",
       "_model_module_version": "1.0.0",
       "_model_name": "OutputModel",
       "_view_count": null,
       "_view_module": "@jupyter-widgets/output",
       "_view_module_version": "1.0.0",
       "_view_name": "OutputView",
       "layout": "IPY_MODEL_f8b98bf694c848baa97f2ef4e9e599db",
       "msg_id": "",
       "outputs": []
      }
     },
     "78910a9b607e4a47b06b5c2cf03811a7": {
      "model_module": "@jupyter-widgets/controls",
      "model_module_version": "1.5.0",
      "model_name": "PlayModel",
      "state": {
       "_dom_classes": [],
       "_model_module": "@jupyter-widgets/controls",
       "_model_module_version": "1.5.0",
       "_model_name": "PlayModel",
       "_playing": false,
       "_repeat": false,
       "_view_count": null,
       "_view_module": "@jupyter-widgets/controls",
       "_view_module_version": "1.5.0",
       "_view_name": "PlayView",
       "description": "",
       "description_tooltip": null,
       "disabled": false,
       "interval": 250,
       "layout": "IPY_MODEL_a8de6f99082e428dae860e4c6a79b9cc",
       "max": 29,
       "min": 0,
       "show_repeat": true,
       "step": 1,
       "style": "IPY_MODEL_0dd673bfc308419c8f62c545999562b3",
       "value": 0
      }
     },
     "86c96853eb074ec18c60567cd4e8b134": {
      "model_module": "@jupyter-widgets/controls",
      "model_module_version": "1.5.0",
      "model_name": "VBoxModel",
      "state": {
       "_dom_classes": [
        "widget-interact"
       ],
       "_model_module": "@jupyter-widgets/controls",
       "_model_module_version": "1.5.0",
       "_model_name": "VBoxModel",
       "_view_count": null,
       "_view_module": "@jupyter-widgets/controls",
       "_view_module_version": "1.5.0",
       "_view_name": "VBoxView",
       "box_style": "",
       "children": [
        "IPY_MODEL_26afede661e541db9d09f4bd88895c7b",
        "IPY_MODEL_55f6067b15be4de4b9ab165d4ff7009b"
       ],
       "layout": "IPY_MODEL_bb522116f06a4f1babe2a3c0c557654d"
      }
     },
     "a8de6f99082e428dae860e4c6a79b9cc": {
      "model_module": "@jupyter-widgets/base",
      "model_module_version": "1.2.0",
      "model_name": "LayoutModel",
      "state": {
       "_model_module": "@jupyter-widgets/base",
       "_model_module_version": "1.2.0",
       "_model_name": "LayoutModel",
       "_view_count": null,
       "_view_module": "@jupyter-widgets/base",
       "_view_module_version": "1.2.0",
       "_view_name": "LayoutView",
       "align_content": null,
       "align_items": null,
       "align_self": null,
       "border": null,
       "bottom": null,
       "display": null,
       "flex": null,
       "flex_flow": null,
       "grid_area": null,
       "grid_auto_columns": null,
       "grid_auto_flow": null,
       "grid_auto_rows": null,
       "grid_column": null,
       "grid_gap": null,
       "grid_row": null,
       "grid_template_areas": null,
       "grid_template_columns": null,
       "grid_template_rows": null,
       "height": null,
       "justify_content": null,
       "justify_items": null,
       "left": null,
       "margin": null,
       "max_height": null,
       "max_width": null,
       "min_height": null,
       "min_width": null,
       "object_fit": null,
       "object_position": null,
       "order": null,
       "overflow": null,
       "overflow_x": null,
       "overflow_y": null,
       "padding": null,
       "right": null,
       "top": null,
       "visibility": null,
       "width": null
      }
     },
     "bb522116f06a4f1babe2a3c0c557654d": {
      "model_module": "@jupyter-widgets/base",
      "model_module_version": "1.2.0",
      "model_name": "LayoutModel",
      "state": {
       "_model_module": "@jupyter-widgets/base",
       "_model_module_version": "1.2.0",
       "_model_name": "LayoutModel",
       "_view_count": null,
       "_view_module": "@jupyter-widgets/base",
       "_view_module_version": "1.2.0",
       "_view_name": "LayoutView",
       "align_content": null,
       "align_items": null,
       "align_self": null,
       "border": null,
       "bottom": null,
       "display": null,
       "flex": null,
       "flex_flow": null,
       "grid_area": null,
       "grid_auto_columns": null,
       "grid_auto_flow": null,
       "grid_auto_rows": null,
       "grid_column": null,
       "grid_gap": null,
       "grid_row": null,
       "grid_template_areas": null,
       "grid_template_columns": null,
       "grid_template_rows": null,
       "height": null,
       "justify_content": null,
       "justify_items": null,
       "left": null,
       "margin": null,
       "max_height": null,
       "max_width": null,
       "min_height": null,
       "min_width": null,
       "object_fit": null,
       "object_position": null,
       "order": null,
       "overflow": null,
       "overflow_x": null,
       "overflow_y": null,
       "padding": null,
       "right": null,
       "top": null,
       "visibility": null,
       "width": null
      }
     },
     "e042a431167b452a9e9f2f0a0ac99f45": {
      "model_module": "@jupyter-widgets/base",
      "model_module_version": "1.2.0",
      "model_name": "LayoutModel",
      "state": {
       "_model_module": "@jupyter-widgets/base",
       "_model_module_version": "1.2.0",
       "_model_name": "LayoutModel",
       "_view_count": null,
       "_view_module": "@jupyter-widgets/base",
       "_view_module_version": "1.2.0",
       "_view_name": "LayoutView",
       "align_content": null,
       "align_items": null,
       "align_self": null,
       "border": null,
       "bottom": null,
       "display": null,
       "flex": null,
       "flex_flow": null,
       "grid_area": null,
       "grid_auto_columns": null,
       "grid_auto_flow": null,
       "grid_auto_rows": null,
       "grid_column": null,
       "grid_gap": null,
       "grid_row": null,
       "grid_template_areas": null,
       "grid_template_columns": null,
       "grid_template_rows": null,
       "height": null,
       "justify_content": null,
       "justify_items": null,
       "left": null,
       "margin": null,
       "max_height": null,
       "max_width": null,
       "min_height": null,
       "min_width": null,
       "object_fit": null,
       "object_position": null,
       "order": null,
       "overflow": null,
       "overflow_x": null,
       "overflow_y": null,
       "padding": null,
       "right": null,
       "top": null,
       "visibility": null,
       "width": null
      }
     },
     "f8b98bf694c848baa97f2ef4e9e599db": {
      "model_module": "@jupyter-widgets/base",
      "model_module_version": "1.2.0",
      "model_name": "LayoutModel",
      "state": {
       "_model_module": "@jupyter-widgets/base",
       "_model_module_version": "1.2.0",
       "_model_name": "LayoutModel",
       "_view_count": null,
       "_view_module": "@jupyter-widgets/base",
       "_view_module_version": "1.2.0",
       "_view_name": "LayoutView",
       "align_content": null,
       "align_items": null,
       "align_self": null,
       "border": null,
       "bottom": null,
       "display": null,
       "flex": null,
       "flex_flow": null,
       "grid_area": null,
       "grid_auto_columns": null,
       "grid_auto_flow": null,
       "grid_auto_rows": null,
       "grid_column": null,
       "grid_gap": null,
       "grid_row": null,
       "grid_template_areas": null,
       "grid_template_columns": null,
       "grid_template_rows": null,
       "height": null,
       "justify_content": null,
       "justify_items": null,
       "left": null,
       "margin": null,
       "max_height": null,
       "max_width": null,
       "min_height": null,
       "min_width": null,
       "object_fit": null,
       "object_position": null,
       "order": null,
       "overflow": null,
       "overflow_x": null,
       "overflow_y": null,
       "padding": null,
       "right": null,
       "top": null,
       "visibility": null,
       "width": null
      }
     }
    },
    "version_major": 2,
    "version_minor": 0
   }
  }
 },
 "nbformat": 4,
 "nbformat_minor": 4
}
