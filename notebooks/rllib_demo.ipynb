{
 "cells": [
  {
   "cell_type": "code",
   "execution_count": null,
   "id": "d6c9226e-dd4e-47ee-ad12-ca679bda457e",
   "metadata": {},
   "outputs": [],
   "source": [
    "import inspect"
   ]
  },
  {
   "cell_type": "code",
   "execution_count": null,
   "id": "d67151d6-9064-4a72-8e53-0727c19ce306",
   "metadata": {},
   "outputs": [],
   "source": [
    "from ray.rllib.utils.metrics import ENV_RUNNER_RESULTS, EPISODE_RETURN_MEAN\n",
    "\n",
    "from flatland.ml.ray.examples.flatland_inference_with_random_policy import add_flatland_inference_with_random_policy_args, rollout\n",
    "from flatland.ml.ray.examples.flatland_training_with_parameter_sharing import train, add_flatland_training_with_parameter_sharing_args, \\\n",
    "    register_flatland_ray_cli_observation_builders"
   ]
  },
  {
   "cell_type": "code",
   "execution_count": null,
   "id": "1b0753c1-144f-44b8-8914-a3be2b272056",
   "metadata": {},
   "outputs": [],
   "source": [
    "# Rllib Demo"
   ]
  },
  {
   "cell_type": "markdown",
   "id": "16d3c1c8-4ee9-41d3-baf3-2a5ae9472d64",
   "metadata": {},
   "source": [
    "### Register observation builds in rllib input registry\n",
    "\n",
    "These are the registered keys you can use for the `--obs-builder` param below. Use `regiser_input` to register your own."
   ]
  },
  {
   "cell_type": "code",
   "execution_count": null,
   "id": "857cd9c0-d314-448f-b2c9-ae9de456ccc7",
   "metadata": {},
   "outputs": [],
   "source": [
    "%pycat inspect.getsource(register_flatland_ray_cli_observation_builders)"
   ]
  },
  {
   "cell_type": "code",
   "execution_count": null,
   "id": "5a60a468-c976-4695-896f-e02cb9357980",
   "metadata": {},
   "outputs": [],
   "source": [
    "register_flatland_ray_cli_observation_builders()"
   ]
  },
  {
   "cell_type": "markdown",
   "id": "b600bc3b-a6bd-4b5d-9332-ec09729eb9be",
   "metadata": {},
   "source": [
    "## Rllib Training"
   ]
  },
  {
   "cell_type": "code",
   "execution_count": null,
   "id": "4325e0fc-7012-4b47-a0db-974e4fe979b8",
   "metadata": {},
   "outputs": [],
   "source": [
    "parser = add_flatland_training_with_parameter_sharing_args()"
   ]
  },
  {
   "cell_type": "markdown",
   "id": "749441b0-9005-4846-a3d5-2d326d2adbfc",
   "metadata": {},
   "source": [
    "#### Inspect Training cli Options"
   ]
  },
  {
   "cell_type": "code",
   "execution_count": null,
   "id": "7b525ce9-fc42-41dd-bef2-24250e2efe42",
   "metadata": {},
   "outputs": [],
   "source": [
    "!python -m flatland.ml.ray.examples.flatland_training_with_parameter_sharing --help"
   ]
  },
  {
   "cell_type": "markdown",
   "id": "0db7feaf-a5ce-471e-b25a-9a7f5cac9920",
   "metadata": {},
   "source": [
    "#### Inspect Training cli Code"
   ]
  },
  {
   "cell_type": "code",
   "execution_count": null,
   "id": "8ef7b107-c753-463b-95e8-9df7ff1ccef6",
   "metadata": {},
   "outputs": [],
   "source": [
    "%pycat inspect.getsource(train)"
   ]
  },
  {
   "cell_type": "markdown",
   "id": "b0c56309-42fc-4677-88c5-3824251d3977",
   "metadata": {},
   "source": [
    "#### Run Training with PPO for one iteration with reduced batch size and checkpointing"
   ]
  },
  {
   "cell_type": "code",
   "execution_count": null,
   "id": "841aff0a-3f94-457f-9c22-92ea11cf085d",
   "metadata": {},
   "outputs": [],
   "source": [
    "!echo $PWD"
   ]
  },
  {
   "cell_type": "code",
   "execution_count": null,
   "id": "e126a368-a5dc-451c-a5eb-82e6c5b25fcd",
   "metadata": {},
   "outputs": [],
   "source": [
    "algo = \"PPO\"\n",
    "obid = \"FlattenedNormalizedTreeObsForRailEnv_max_depth_3_50\"\n",
    "# in order to get the results, we call `train()` directly from python\n",
    "results = train(parser.parse_args(\n",
    "    [\"--num-agents\", \"2\", \"--obs-builder\", obid, \"--algo\", algo, \"--stop-iters\", \"1\", \"--train-batch-size-per-learner\", \"200\", \"--checkpoint-freq\", \"1\"]))"
   ]
  },
  {
   "cell_type": "markdown",
   "id": "91accab8-1e7a-46d3-af0a-30db503cd0c6",
   "metadata": {},
   "source": [
    "## Rollout from Checkpoint"
   ]
  },
  {
   "cell_type": "code",
   "execution_count": null,
   "id": "732c342f-5cb7-492d-93e4-352ce5b5e816",
   "metadata": {},
   "outputs": [],
   "source": [
    "parser = add_flatland_inference_with_random_policy_args()"
   ]
  },
  {
   "cell_type": "markdown",
   "id": "7d20c462-0361-4031-8e71-ef90cb0c6ffb",
   "metadata": {},
   "source": [
    "#### Inspect Rollout cli Options"
   ]
  },
  {
   "cell_type": "code",
   "execution_count": null,
   "id": "489a7b54-d5d6-4c52-92e6-a709068b02ac",
   "metadata": {},
   "outputs": [],
   "source": [
    "!python -m flatland.ml.ray.examples.flatland_inference_with_random_policy --help"
   ]
  },
  {
   "cell_type": "markdown",
   "id": "649271c6-a636-479f-a381-e27afa7579c9",
   "metadata": {},
   "source": [
    "#### Inspect Rollout cli Code"
   ]
  },
  {
   "cell_type": "code",
   "execution_count": null,
   "id": "92b20e15-2709-4a02-8492-425e673da9fe",
   "metadata": {},
   "outputs": [],
   "source": [
    "%pycat inspect.getsource(rollout)"
   ]
  },
  {
   "cell_type": "markdown",
   "id": "8b2047a7-d7ca-4df8-8298-9754f41d92f6",
   "metadata": {},
   "source": [
    "#### Rollout on best checkpoint from previous training"
   ]
  },
  {
   "cell_type": "code",
   "execution_count": null,
   "id": "62fbd3ab-a645-4877-abcb-f353e75f43e5",
   "metadata": {},
   "outputs": [],
   "source": [
    "register_flatland_ray_cli_observation_builders()"
   ]
  },
  {
   "cell_type": "code",
   "execution_count": null,
   "id": "f2fb59fd-a221-4db2-842a-7a7e3c7ccec3",
   "metadata": {},
   "outputs": [],
   "source": [
    "best_result = results.get_best_result(\n",
    "    metric=f\"{ENV_RUNNER_RESULTS}/{EPISODE_RETURN_MEAN}\", mode=\"max\"\n",
    ")"
   ]
  },
  {
   "cell_type": "code",
   "execution_count": null,
   "id": "d0418274-fc2f-48f4-b2ea-502c4cff2d68",
   "metadata": {},
   "outputs": [],
   "source": [
    "!python -m flatland.ml.ray.examples.flatland_inference_with_random_policy --num-agents 2 --obs-builder {obid} --cp {best_result.checkpoint.path} --policy-id p0  --num-episodes-during-inference 1"
   ]
  }
 ],
 "metadata": {
  "kernelspec": {
   "display_name": "Python 3 (ipykernel)",
   "language": "python",
   "name": "python3"
  },
  "language_info": {
   "codemirror_mode": {
    "name": "ipython",
    "version": 3
   },
   "file_extension": ".py",
   "mimetype": "text/x-python",
   "name": "python",
   "nbconvert_exporter": "python",
   "pygments_lexer": "ipython3",
   "version": "3.11.10"
  }
 },
 "nbformat": 4,
 "nbformat_minor": 5
}
