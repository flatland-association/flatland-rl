{
 "cells": [
  {
   "cell_type": "code",
   "execution_count": null,
   "id": "4a38a8dd-88bc-482c-ad90-b0fa5ac768b1",
   "metadata": {},
   "outputs": [],
   "source": [
    "%load_ext autoreload\n",
    "%autoreload 2"
   ]
  },
  {
   "cell_type": "code",
   "execution_count": null,
   "id": "e2911b29-0045-4a13-9a72-25c875dca315",
   "metadata": {},
   "outputs": [],
   "source": [
    "from flatland.trajectories.trajectories import Trajectory\n",
    "from flatland.evaluators.trajectory_evaluator import TrajectoryEvaluator\n",
    "from flatland.evaluators.trajectory_analysis import data_frame_for_trajectories\n",
    "from IPython.display import HTML, display, clear_output\n",
    "import ipywidgets as ipw\n",
    "from io import BytesIO\n",
    "import PIL\n",
    "from matplotlib import pyplot as plt\n",
    "from matplotlib.animation import FuncAnimation\n",
    "import time      \n",
    "from pathlib import Path\n",
    "from flatland.envs.persistence import RailEnvPersister\n",
    "import tqdm\n",
    "from flatland.utils.rendertools import RenderTool\n",
    "from IPython.display import display\n",
    "from PIL import Image\n",
    "import pandas as pd\n",
    "import ast"
   ]
  },
  {
   "cell_type": "markdown",
   "id": "d9158943-3448-43e5-96e6-aef36bf6d7f7",
   "metadata": {},
   "source": [
    "## Get episode data"
   ]
  },
  {
   "cell_type": "code",
   "execution_count": null,
   "id": "16402220-00df-46a0-b35a-9337e337dd4b",
   "metadata": {},
   "outputs": [],
   "source": [
    "!wget -q https://github.com/flatland-association/flatland-scenarios/raw/refs/heads/main/trajectories/FLATLAND_BENCHMARK_EPISODES_FOLDER_v4.zip -O /tmp/FLATLAND_BENCHMARK_EPISODES_FOLDER_v4.zip\n",
    "!mkdir -p /tmp/episodes\n",
    "!unzip -o -qq /tmp/FLATLAND_BENCHMARK_EPISODES_FOLDER_v4.zip -d /tmp/episodes"
   ]
  },
  {
   "cell_type": "code",
   "execution_count": null,
   "id": "09d62a33-359d-4c17-83cd-5300925397ec",
   "metadata": {},
   "outputs": [],
   "source": [
    "!ls -al  \"/tmp/episodes/30x30 map/10_trains\""
   ]
  },
  {
   "cell_type": "markdown",
   "id": "f9d37069-b1cc-4161-a1f7-e1fcfacfce9b",
   "metadata": {},
   "source": [
    "## Aggregate stats"
   ]
  },
  {
   "cell_type": "code",
   "execution_count": null,
   "id": "3cae9d5f-04d8-4e83-91df-dde1742851b5",
   "metadata": {},
   "outputs": [],
   "source": [
    "root_data_dir = Path(\"/tmp/episodes/malfunction_deadlock_avoidance_heuristics/Test_02/\")\n",
    "all_actions, all_trains_positions, all_trains_arrived, all_trains_rewards_dones_infos, env_stats, agent_stats = data_frame_for_trajectories(root_data_dir)"
   ]
  },
  {
   "cell_type": "code",
   "execution_count": null,
   "id": "37f727f6-dd42-40b9-be89-123dc238cb6c",
   "metadata": {},
   "outputs": [],
   "source": [
    "all_actions"
   ]
  },
  {
   "cell_type": "code",
   "execution_count": null,
   "id": "3465b74b-2514-475b-a191-292f414a5b7d",
   "metadata": {},
   "outputs": [],
   "source": [
    "all_trains_positions"
   ]
  },
  {
   "cell_type": "code",
   "execution_count": null,
   "id": "f316e0cb-0075-4b64-82b9-cc2a6ee1a973",
   "metadata": {},
   "outputs": [],
   "source": [
    "all_trains_arrived"
   ]
  },
  {
   "cell_type": "code",
   "execution_count": null,
   "id": "4fd74633-16ff-4e9b-b308-fb88adf1fec1",
   "metadata": {},
   "outputs": [],
   "source": [
    "all_trains_rewards_dones_infos"
   ]
  },
  {
   "cell_type": "code",
   "execution_count": null,
   "id": "ee88b656-2137-4bc6-aa2d-234d136b37cb",
   "metadata": {},
   "outputs": [],
   "source": [
    "env_stats"
   ]
  },
  {
   "cell_type": "markdown",
   "id": "52e0dc47-1fe7-40b6-896d-7e785b6c1660",
   "metadata": {},
   "source": [
    "## Results stats"
   ]
  },
  {
   "cell_type": "code",
   "execution_count": null,
   "id": "d301743c-7dfc-42e2-85d6-0ab2ee524ea4",
   "metadata": {},
   "outputs": [],
   "source": [
    "import seaborn as sns"
   ]
  },
  {
   "cell_type": "code",
   "execution_count": null,
   "id": "7701def8-7abd-4f65-8e6c-ef042f88e99d",
   "metadata": {},
   "outputs": [],
   "source": [
    "def plot_stats(df, col):\n",
    "    fig, axs = plt.subplots(2)\n",
    "    sns.histplot(data=df, x=col, ax = axs[0])\n",
    "    sns.boxplot(x=df[col], ax = axs[1])"
   ]
  },
  {
   "cell_type": "code",
   "execution_count": null,
   "id": "5e3e01e8-a6d4-41c7-897a-48dd9759aea0",
   "metadata": {},
   "outputs": [],
   "source": [
    "plot_stats(env_stats, \"max_episode_steps\")"
   ]
  },
  {
   "cell_type": "code",
   "execution_count": null,
   "id": "f25bedb1-f192-486d-8fe4-820501bb1601",
   "metadata": {},
   "outputs": [],
   "source": [
    "plot_stats(all_trains_arrived, \"success_rate\")"
   ]
  },
  {
   "cell_type": "code",
   "execution_count": null,
   "id": "dd94d2ee-c24f-4819-86b3-f7b7314c737d",
   "metadata": {},
   "outputs": [],
   "source": [
    "plot_stats(env_stats, \"num_agents\")"
   ]
  },
  {
   "cell_type": "code",
   "execution_count": null,
   "id": "c7c5354e-f60d-449a-bba9-1fae0e2ed15c",
   "metadata": {},
   "outputs": [],
   "source": [
    "plot_stats(agent_stats, \"earliest_departure\")"
   ]
  },
  {
   "cell_type": "code",
   "execution_count": null,
   "id": "cac4e123-ea0f-4e33-8ecc-978a65496841",
   "metadata": {},
   "outputs": [],
   "source": [
    "plot_stats(agent_stats, \"latest_arrival\")"
   ]
  },
  {
   "cell_type": "code",
   "execution_count": null,
   "id": "a17e62cb-8604-4bd4-9cba-7a5f3298088a",
   "metadata": {},
   "outputs": [],
   "source": [
    "plot_stats(agent_stats, \"num_waypoints\")"
   ]
  },
  {
   "cell_type": "code",
   "execution_count": null,
   "id": "30261e56-d4cc-4003-bf1b-70e277c5dfde",
   "metadata": {},
   "outputs": [],
   "source": [
    "episode_cum_rewards = all_trains_rewards_dones_infos.groupby([\"episode_id\"]).sum([\"reward\"])\n",
    "episode_cum_rewards"
   ]
  },
  {
   "cell_type": "code",
   "execution_count": null,
   "id": "883a2226-0460-4b1e-a28a-1a64a0cd5746",
   "metadata": {},
   "outputs": [],
   "source": [
    "plot_stats(episode_cum_rewards, \"reward\")"
   ]
  },
  {
   "cell_type": "code",
   "execution_count": null,
   "id": "64a5e1fa-6149-40e3-b1de-3cbdab4c8b67",
   "metadata": {},
   "outputs": [],
   "source": [
    "agent_cum_rewards = all_trains_rewards_dones_infos.groupby([\"episode_id\", \"agent_id\"]).sum([\"reward\"])\n",
    "agent_cum_rewards"
   ]
  },
  {
   "cell_type": "code",
   "execution_count": null,
   "id": "5f84efb2-16d3-4d2f-b0a0-70c457efe649",
   "metadata": {},
   "outputs": [],
   "source": [
    "plot_stats(agent_cum_rewards, \"reward\")"
   ]
  }
 ],
 "metadata": {
  "kernelspec": {
   "display_name": "Python 3 (ipykernel)",
   "language": "python",
   "name": "python3"
  },
  "language_info": {
   "codemirror_mode": {
    "name": "ipython",
    "version": 3
   },
   "file_extension": ".py",
   "mimetype": "text/x-python",
   "name": "python",
   "nbconvert_exporter": "python",
   "pygments_lexer": "ipython3",
   "version": "3.12.9"
  }
 },
 "nbformat": 4,
 "nbformat_minor": 5
}
